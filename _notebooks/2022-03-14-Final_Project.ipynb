{
 "cells": [
  {
   "cell_type": "markdown",
   "id": "c2063e0d-f703-495c-b543-b431f7d45644",
   "metadata": {},
   "source": [
    "# \"NFT Marketplace Analysis\"\n",
    "> \"An Analysis on High and Low Market Value NFT Owner Transfers\"\n",
    "\n",
    "- toc:true\n",
    "- branch: master\n",
    "- badges: true\n",
    "- comments: true\n",
    "- author: Hamel Husain & Jeremy Howard\n",
    "- categories: [fastpages, jupyter]"
   ]
  },
  {
   "cell_type": "markdown",
   "id": "0d760cc3-29ab-4050-899c-6bf17d392e7b",
   "metadata": {},
   "source": [
    "# NFT Marketplace Analysis"
   ]
  },
  {
   "cell_type": "markdown",
   "id": "5d183ed1-5adf-48b4-adfd-d3d4b9546602",
   "metadata": {},
   "source": [
    "## Introduction"
   ]
  },
  {
   "cell_type": "markdown",
   "id": "727b37f0-1ab4-42a6-bb22-90dab2b3cd6b",
   "metadata": {},
   "source": [
    "Have you recently heard news about NFT'S? If you have it's likely due to the growing community of digital asset enthusiast popping up around the world. NFT headlines have made their way into many public outlets such as the news, social networks, television, newspapers, magazines ultimately making them grow in mainstream popularity. The question is why? Why are these NFT 'things' people keep talking about getting so popular? Well to get an understanding of why, it's important to understand what exactly an NFT is.\n",
    "\n",
    "## What's an NFT?\n",
    "NFT is short for Non-fungible token, which is a unit of data stored on a blockchain that certifies a digital asset to be unique and therefore not interchangeable, while also offering a unique digital certificate of ownership. Aside from this there are various types of source origins tied to the NFT, which make it possible to identify who owns it, who previously owned it, who created it, how many copies of it there are etcetera. Originally NFTs were part of the Ethereum blockchain but increasingly more blockchains have implemented their own versions of NFTs, which has increased the amount being made. Contrary to owning physical items such as valuable trading cards NFT's cannot be stolen being that they have a unique digital certificate that can only be transfered. A NFT can be made up of either videos, images, or audio, and what makes them so special is that they are one of a kind similar to trading cards or postage stamps. \n",
    "\n",
    "## Why Buy NFT's?\n",
    "You might ask, what about NFT's that contain objects that can be viewed online by anyone at anytime? More importantly, why would someone spend hundreds to millions of dollars on a NFT that can be viewed by anyone? The answer to that is because collectors value the bragging rights of owning the original item almost more than the object itself. There's a sense of digital scarcity when it comes to NFT's and thats because theres a unique identifying code attached to the object, and relative to other digital objects on the market they are one of a kind or one out of a very limited run. This scarcity increases the demand for ownership of such digital objects and with the increase in demand comes an increase in price. Therefore, another major motive for people spending their money on such digital objects is the positive return on investment. Whether it be for the love of the object or the love of the money, the NFT marketplace has created an opportunity for both consumers and creators. Additionally, with the increase in digital technology becoming availale and implemented by companies that run the currency market it seems like NFT's will only become further developed in the future digital world we are coming to.\n",
    "\n",
    "## How To Choose NFT's\n",
    "Now that you got a better sense of how NFT's work and why they have become so important, you might be asking yourself how do I know which NFT's to buy? Well, if you already have a keen interest in a particular creator or type of digital object then finding out which NFT to purchase is fairly simple aside from choosing from the multiple varying collections that might be available. However, if you're interested in NFT's for the return on investment then this analysis should help guide some of the questions you might have when it comes to seeing how to invest your money in the NFT marketplace.\n",
    "\n",
    "# Methods\n",
    "This introductory analysis will use a dataset of roughly 9,388 NFT collections along with several supplimentary transaction characteristic tables that represents the activity of the Ethereum NFT market between April 1, 2021 and September 25, 2021. The analysis will ultimately aim at identifying which collections have the highest and lowest market values, so that I myself and the readers can get a better sense of which factors lead to NFT's rising or decreasing in value ultimately aiding them in understanding what type of collections are best to invest in. The analysis will start with a statistical analysis and will lead into a deeper correlational analysis with complimentary visualizations. \n",
    "\n",
    "Research questions that I will be looking at during this analysis include: \n",
    "\n",
    "    - What are the top 5 and lowest 5 market value NFT collections? \n",
    "    - How does the amount of current owners affect an NFT collections market value? \n",
    "    - How does minting cost affect an NFT collections market value? \n",
    "    - How does the transfer rate within an NFT collection affect its market value? "
   ]
  },
  {
   "cell_type": "markdown",
   "id": "6a71835d-4f35-44cb-89c2-e0d48dba3494",
   "metadata": {},
   "source": [
    "# Results"
   ]
  },
  {
   "cell_type": "code",
   "execution_count": 81,
   "id": "d58ead73-2711-42d0-ac59-f89df1df449a",
   "metadata": {},
   "outputs": [],
   "source": [
    "import sqlite3\n",
    "import pandas as pd\n",
    "import matplotlib.pyplot as plt"
   ]
  },
  {
   "cell_type": "code",
   "execution_count": 88,
   "id": "e67663d0-8730-4df8-9f5d-210cbc421ec0",
   "metadata": {},
   "outputs": [],
   "source": [
    "db = sqlite3.connect('/home/jovyan/DH-140 Project/nfts.sqlite')"
   ]
  },
  {
   "cell_type": "code",
   "execution_count": 89,
   "id": "b506ed04-3457-4f99-a980-7fe1ddb30d5c",
   "metadata": {},
   "outputs": [],
   "source": [
    "df = pd.read_sql_query('SELECT * FROM current_market_values limit 500000;', db)"
   ]
  },
  {
   "cell_type": "markdown",
   "id": "d7fe41ed-e15b-4772-98fe-59bd257a71cc",
   "metadata": {},
   "source": [
    "## High Market Value NFT Collections"
   ]
  },
  {
   "cell_type": "code",
   "execution_count": 90,
   "id": "9298b0f8-dfa0-444e-ba13-ee7ed4277354",
   "metadata": {},
   "outputs": [
    {
     "name": "stdout",
     "output_type": "stream",
     "text": [
      "Index(['nft_address', 'token_id', 'market_value'], dtype='object')\n"
     ]
    }
   ],
   "source": [
    "#hide\n",
    "print(df.columns) "
   ]
  },
  {
   "cell_type": "markdown",
   "id": "cca9e5e9-9457-4e12-81e8-aea4fa9258aa",
   "metadata": {
    "tags": []
   },
   "source": [
    "Once I had the list of all my NFT's I went ahead and organized them within the dataframe so that the highest valued pieces were at the top of the list. I then took a look at the top 10 pieces and realized that a majority of the NFT's in this category belonged to the same collections. So I expanded the list of the highest valued NFT's to give me 60 pieces, in order to view the top 5 collections within the list."
   ]
  },
  {
   "cell_type": "code",
   "execution_count": 91,
   "id": "56d77b69-49c2-4178-b180-ac3cc7a51902",
   "metadata": {},
   "outputs": [],
   "source": [
    "#hide\n",
    "a = df.sort_values(by='market_value',ascending=False)"
   ]
  },
  {
   "cell_type": "code",
   "execution_count": 92,
   "id": "d8237f83-20c3-4092-942f-9baab0a34e91",
   "metadata": {
    "collapsed": true,
    "jupyter": {
     "outputs_hidden": true
    },
    "tags": []
   },
   "outputs": [
    {
     "data": {
      "text/html": [
       "<div>\n",
       "<style scoped>\n",
       "    .dataframe tbody tr th:only-of-type {\n",
       "        vertical-align: middle;\n",
       "    }\n",
       "\n",
       "    .dataframe tbody tr th {\n",
       "        vertical-align: top;\n",
       "    }\n",
       "\n",
       "    .dataframe thead th {\n",
       "        text-align: right;\n",
       "    }\n",
       "</style>\n",
       "<table border=\"1\" class=\"dataframe\">\n",
       "  <thead>\n",
       "    <tr style=\"text-align: right;\">\n",
       "      <th></th>\n",
       "      <th>nft_address</th>\n",
       "      <th>token_id</th>\n",
       "      <th>market_value</th>\n",
       "    </tr>\n",
       "  </thead>\n",
       "  <tbody>\n",
       "    <tr>\n",
       "      <th>155562</th>\n",
       "      <td>0x059EDD72Cd353dF5106D2B9cC5ab83a52287aC3a</td>\n",
       "      <td>7583</td>\n",
       "      <td>9.225000e+20</td>\n",
       "    </tr>\n",
       "    <tr>\n",
       "      <th>153528</th>\n",
       "      <td>0x059EDD72Cd353dF5106D2B9cC5ab83a52287aC3a</td>\n",
       "      <td>3784</td>\n",
       "      <td>7.500000e+20</td>\n",
       "    </tr>\n",
       "    <tr>\n",
       "      <th>154998</th>\n",
       "      <td>0x059EDD72Cd353dF5106D2B9cC5ab83a52287aC3a</td>\n",
       "      <td>6339</td>\n",
       "      <td>4.850000e+20</td>\n",
       "    </tr>\n",
       "    <tr>\n",
       "      <th>152803</th>\n",
       "      <td>0x059EDD72Cd353dF5106D2B9cC5ab83a52287aC3a</td>\n",
       "      <td>2855</td>\n",
       "      <td>4.200000e+20</td>\n",
       "    </tr>\n",
       "    <tr>\n",
       "      <th>152474</th>\n",
       "      <td>0x059EDD72Cd353dF5106D2B9cC5ab83a52287aC3a</td>\n",
       "      <td>2414</td>\n",
       "      <td>3.000000e+20</td>\n",
       "    </tr>\n",
       "    <tr>\n",
       "      <th>152414</th>\n",
       "      <td>0x059EDD72Cd353dF5106D2B9cC5ab83a52287aC3a</td>\n",
       "      <td>2339</td>\n",
       "      <td>3.000000e+20</td>\n",
       "    </tr>\n",
       "    <tr>\n",
       "      <th>152276</th>\n",
       "      <td>0x059EDD72Cd353dF5106D2B9cC5ab83a52287aC3a</td>\n",
       "      <td>2191</td>\n",
       "      <td>3.000000e+20</td>\n",
       "    </tr>\n",
       "    <tr>\n",
       "      <th>152286</th>\n",
       "      <td>0x059EDD72Cd353dF5106D2B9cC5ab83a52287aC3a</td>\n",
       "      <td>2201</td>\n",
       "      <td>3.000000e+20</td>\n",
       "    </tr>\n",
       "    <tr>\n",
       "      <th>152694</th>\n",
       "      <td>0x059EDD72Cd353dF5106D2B9cC5ab83a52287aC3a</td>\n",
       "      <td>2683</td>\n",
       "      <td>3.000000e+20</td>\n",
       "    </tr>\n",
       "    <tr>\n",
       "      <th>152318</th>\n",
       "      <td>0x059EDD72Cd353dF5106D2B9cC5ab83a52287aC3a</td>\n",
       "      <td>2236</td>\n",
       "      <td>3.000000e+20</td>\n",
       "    </tr>\n",
       "    <tr>\n",
       "      <th>152330</th>\n",
       "      <td>0x059EDD72Cd353dF5106D2B9cC5ab83a52287aC3a</td>\n",
       "      <td>2248</td>\n",
       "      <td>3.000000e+20</td>\n",
       "    </tr>\n",
       "    <tr>\n",
       "      <th>152597</th>\n",
       "      <td>0x059EDD72Cd353dF5106D2B9cC5ab83a52287aC3a</td>\n",
       "      <td>2572</td>\n",
       "      <td>3.000000e+20</td>\n",
       "    </tr>\n",
       "    <tr>\n",
       "      <th>152366</th>\n",
       "      <td>0x059EDD72Cd353dF5106D2B9cC5ab83a52287aC3a</td>\n",
       "      <td>2289</td>\n",
       "      <td>3.000000e+20</td>\n",
       "    </tr>\n",
       "    <tr>\n",
       "      <th>152477</th>\n",
       "      <td>0x059EDD72Cd353dF5106D2B9cC5ab83a52287aC3a</td>\n",
       "      <td>2419</td>\n",
       "      <td>3.000000e+20</td>\n",
       "    </tr>\n",
       "    <tr>\n",
       "      <th>152613</th>\n",
       "      <td>0x059EDD72Cd353dF5106D2B9cC5ab83a52287aC3a</td>\n",
       "      <td>2589</td>\n",
       "      <td>3.000000e+20</td>\n",
       "    </tr>\n",
       "    <tr>\n",
       "      <th>152619</th>\n",
       "      <td>0x059EDD72Cd353dF5106D2B9cC5ab83a52287aC3a</td>\n",
       "      <td>2595</td>\n",
       "      <td>3.000000e+20</td>\n",
       "    </tr>\n",
       "    <tr>\n",
       "      <th>152611</th>\n",
       "      <td>0x059EDD72Cd353dF5106D2B9cC5ab83a52287aC3a</td>\n",
       "      <td>2586</td>\n",
       "      <td>3.000000e+20</td>\n",
       "    </tr>\n",
       "    <tr>\n",
       "      <th>152722</th>\n",
       "      <td>0x059EDD72Cd353dF5106D2B9cC5ab83a52287aC3a</td>\n",
       "      <td>2722</td>\n",
       "      <td>3.000000e+20</td>\n",
       "    </tr>\n",
       "    <tr>\n",
       "      <th>152449</th>\n",
       "      <td>0x059EDD72Cd353dF5106D2B9cC5ab83a52287aC3a</td>\n",
       "      <td>2380</td>\n",
       "      <td>3.000000e+20</td>\n",
       "    </tr>\n",
       "    <tr>\n",
       "      <th>152469</th>\n",
       "      <td>0x059EDD72Cd353dF5106D2B9cC5ab83a52287aC3a</td>\n",
       "      <td>2404</td>\n",
       "      <td>3.000000e+20</td>\n",
       "    </tr>\n",
       "    <tr>\n",
       "      <th>152464</th>\n",
       "      <td>0x059EDD72Cd353dF5106D2B9cC5ab83a52287aC3a</td>\n",
       "      <td>2399</td>\n",
       "      <td>3.000000e+20</td>\n",
       "    </tr>\n",
       "    <tr>\n",
       "      <th>152459</th>\n",
       "      <td>0x059EDD72Cd353dF5106D2B9cC5ab83a52287aC3a</td>\n",
       "      <td>2394</td>\n",
       "      <td>3.000000e+20</td>\n",
       "    </tr>\n",
       "    <tr>\n",
       "      <th>152416</th>\n",
       "      <td>0x059EDD72Cd353dF5106D2B9cC5ab83a52287aC3a</td>\n",
       "      <td>2340</td>\n",
       "      <td>3.000000e+20</td>\n",
       "    </tr>\n",
       "    <tr>\n",
       "      <th>152721</th>\n",
       "      <td>0x059EDD72Cd353dF5106D2B9cC5ab83a52287aC3a</td>\n",
       "      <td>2721</td>\n",
       "      <td>3.000000e+20</td>\n",
       "    </tr>\n",
       "    <tr>\n",
       "      <th>153685</th>\n",
       "      <td>0x059EDD72Cd353dF5106D2B9cC5ab83a52287aC3a</td>\n",
       "      <td>4008</td>\n",
       "      <td>2.500000e+20</td>\n",
       "    </tr>\n",
       "    <tr>\n",
       "      <th>151638</th>\n",
       "      <td>0x059EDD72Cd353dF5106D2B9cC5ab83a52287aC3a</td>\n",
       "      <td>1780</td>\n",
       "      <td>2.350000e+20</td>\n",
       "    </tr>\n",
       "    <tr>\n",
       "      <th>214006</th>\n",
       "      <td>0x06012c8cf97BEaD5deAe237070F9587f8E7A266d</td>\n",
       "      <td>40</td>\n",
       "      <td>2.250000e+20</td>\n",
       "    </tr>\n",
       "    <tr>\n",
       "      <th>188441</th>\n",
       "      <td>0x06012c8cf97BEaD5deAe237070F9587f8E7A266d</td>\n",
       "      <td>17</td>\n",
       "      <td>1.770000e+20</td>\n",
       "    </tr>\n",
       "    <tr>\n",
       "      <th>156481</th>\n",
       "      <td>0x059EDD72Cd353dF5106D2B9cC5ab83a52287aC3a</td>\n",
       "      <td>927</td>\n",
       "      <td>1.500000e+20</td>\n",
       "    </tr>\n",
       "    <tr>\n",
       "      <th>152999</th>\n",
       "      <td>0x059EDD72Cd353dF5106D2B9cC5ab83a52287aC3a</td>\n",
       "      <td>3140</td>\n",
       "      <td>1.500000e+20</td>\n",
       "    </tr>\n",
       "    <tr>\n",
       "      <th>152903</th>\n",
       "      <td>0x059EDD72Cd353dF5106D2B9cC5ab83a52287aC3a</td>\n",
       "      <td>3015</td>\n",
       "      <td>1.500000e+20</td>\n",
       "    </tr>\n",
       "    <tr>\n",
       "      <th>152847</th>\n",
       "      <td>0x059EDD72Cd353dF5106D2B9cC5ab83a52287aC3a</td>\n",
       "      <td>2916</td>\n",
       "      <td>1.500000e+20</td>\n",
       "    </tr>\n",
       "    <tr>\n",
       "      <th>214902</th>\n",
       "      <td>0x06012c8cf97BEaD5deAe237070F9587f8E7A266d</td>\n",
       "      <td>44</td>\n",
       "      <td>1.500000e+20</td>\n",
       "    </tr>\n",
       "    <tr>\n",
       "      <th>152953</th>\n",
       "      <td>0x059EDD72Cd353dF5106D2B9cC5ab83a52287aC3a</td>\n",
       "      <td>3072</td>\n",
       "      <td>1.500000e+20</td>\n",
       "    </tr>\n",
       "    <tr>\n",
       "      <th>152729</th>\n",
       "      <td>0x059EDD72Cd353dF5106D2B9cC5ab83a52287aC3a</td>\n",
       "      <td>2736</td>\n",
       "      <td>1.500000e+20</td>\n",
       "    </tr>\n",
       "    <tr>\n",
       "      <th>186144</th>\n",
       "      <td>0x06012c8cf97BEaD5deAe237070F9587f8E7A266d</td>\n",
       "      <td>16</td>\n",
       "      <td>1.490000e+20</td>\n",
       "    </tr>\n",
       "    <tr>\n",
       "      <th>213531</th>\n",
       "      <td>0x06012c8cf97BEaD5deAe237070F9587f8E7A266d</td>\n",
       "      <td>38</td>\n",
       "      <td>1.480000e+20</td>\n",
       "    </tr>\n",
       "    <tr>\n",
       "      <th>153052</th>\n",
       "      <td>0x059EDD72Cd353dF5106D2B9cC5ab83a52287aC3a</td>\n",
       "      <td>3199</td>\n",
       "      <td>1.390000e+20</td>\n",
       "    </tr>\n",
       "    <tr>\n",
       "      <th>152584</th>\n",
       "      <td>0x059EDD72Cd353dF5106D2B9cC5ab83a52287aC3a</td>\n",
       "      <td>2557</td>\n",
       "      <td>1.300000e+20</td>\n",
       "    </tr>\n",
       "    <tr>\n",
       "      <th>114612</th>\n",
       "      <td>0x0427743DF720801825a5c82e0582B1E915E0F750</td>\n",
       "      <td>3</td>\n",
       "      <td>1.280000e+20</td>\n",
       "    </tr>\n",
       "    <tr>\n",
       "      <th>219808</th>\n",
       "      <td>0x06012c8cf97BEaD5deAe237070F9587f8E7A266d</td>\n",
       "      <td>74</td>\n",
       "      <td>1.190000e+20</td>\n",
       "    </tr>\n",
       "    <tr>\n",
       "      <th>153470</th>\n",
       "      <td>0x059EDD72Cd353dF5106D2B9cC5ab83a52287aC3a</td>\n",
       "      <td>3709</td>\n",
       "      <td>1.170000e+20</td>\n",
       "    </tr>\n",
       "    <tr>\n",
       "      <th>153467</th>\n",
       "      <td>0x059EDD72Cd353dF5106D2B9cC5ab83a52287aC3a</td>\n",
       "      <td>3704</td>\n",
       "      <td>1.170000e+20</td>\n",
       "    </tr>\n",
       "    <tr>\n",
       "      <th>153466</th>\n",
       "      <td>0x059EDD72Cd353dF5106D2B9cC5ab83a52287aC3a</td>\n",
       "      <td>3703</td>\n",
       "      <td>1.170000e+20</td>\n",
       "    </tr>\n",
       "    <tr>\n",
       "      <th>153152</th>\n",
       "      <td>0x059EDD72Cd353dF5106D2B9cC5ab83a52287aC3a</td>\n",
       "      <td>3315</td>\n",
       "      <td>1.170000e+20</td>\n",
       "    </tr>\n",
       "    <tr>\n",
       "      <th>153216</th>\n",
       "      <td>0x059EDD72Cd353dF5106D2B9cC5ab83a52287aC3a</td>\n",
       "      <td>3397</td>\n",
       "      <td>1.170000e+20</td>\n",
       "    </tr>\n",
       "    <tr>\n",
       "      <th>153240</th>\n",
       "      <td>0x059EDD72Cd353dF5106D2B9cC5ab83a52287aC3a</td>\n",
       "      <td>3455</td>\n",
       "      <td>1.170000e+20</td>\n",
       "    </tr>\n",
       "    <tr>\n",
       "      <th>153220</th>\n",
       "      <td>0x059EDD72Cd353dF5106D2B9cC5ab83a52287aC3a</td>\n",
       "      <td>3402</td>\n",
       "      <td>1.170000e+20</td>\n",
       "    </tr>\n",
       "    <tr>\n",
       "      <th>153414</th>\n",
       "      <td>0x059EDD72Cd353dF5106D2B9cC5ab83a52287aC3a</td>\n",
       "      <td>3646</td>\n",
       "      <td>1.170000e+20</td>\n",
       "    </tr>\n",
       "    <tr>\n",
       "      <th>153367</th>\n",
       "      <td>0x059EDD72Cd353dF5106D2B9cC5ab83a52287aC3a</td>\n",
       "      <td>3594</td>\n",
       "      <td>1.170000e+20</td>\n",
       "    </tr>\n",
       "    <tr>\n",
       "      <th>153199</th>\n",
       "      <td>0x059EDD72Cd353dF5106D2B9cC5ab83a52287aC3a</td>\n",
       "      <td>3365</td>\n",
       "      <td>1.170000e+20</td>\n",
       "    </tr>\n",
       "    <tr>\n",
       "      <th>484872</th>\n",
       "      <td>0x11595fFB2D3612d810612e34Bc1C2E6D6de55d26</td>\n",
       "      <td>16</td>\n",
       "      <td>1.100000e+20</td>\n",
       "    </tr>\n",
       "    <tr>\n",
       "      <th>164933</th>\n",
       "      <td>0x05a46f1E545526FB803FF974C790aCeA34D1f2D6</td>\n",
       "      <td>7642</td>\n",
       "      <td>1.020000e+20</td>\n",
       "    </tr>\n",
       "    <tr>\n",
       "      <th>224271</th>\n",
       "      <td>0x06012c8cf97BEaD5deAe237070F9587f8E7A266d</td>\n",
       "      <td>99</td>\n",
       "      <td>1.000000e+20</td>\n",
       "    </tr>\n",
       "    <tr>\n",
       "      <th>213103</th>\n",
       "      <td>0x06012c8cf97BEaD5deAe237070F9587f8E7A266d</td>\n",
       "      <td>35</td>\n",
       "      <td>1.000000e+20</td>\n",
       "    </tr>\n",
       "    <tr>\n",
       "      <th>212383</th>\n",
       "      <td>0x06012c8cf97BEaD5deAe237070F9587f8E7A266d</td>\n",
       "      <td>29</td>\n",
       "      <td>1.000000e+20</td>\n",
       "    </tr>\n",
       "    <tr>\n",
       "      <th>218135</th>\n",
       "      <td>0x06012c8cf97BEaD5deAe237070F9587f8E7A266d</td>\n",
       "      <td>63</td>\n",
       "      <td>1.000000e+20</td>\n",
       "    </tr>\n",
       "    <tr>\n",
       "      <th>212140</th>\n",
       "      <td>0x06012c8cf97BEaD5deAe237070F9587f8E7A266d</td>\n",
       "      <td>27</td>\n",
       "      <td>9.900000e+19</td>\n",
       "    </tr>\n",
       "    <tr>\n",
       "      <th>215481</th>\n",
       "      <td>0x06012c8cf97BEaD5deAe237070F9587f8E7A266d</td>\n",
       "      <td>47</td>\n",
       "      <td>9.800000e+19</td>\n",
       "    </tr>\n",
       "    <tr>\n",
       "      <th>211995</th>\n",
       "      <td>0x06012c8cf97BEaD5deAe237070F9587f8E7A266d</td>\n",
       "      <td>26</td>\n",
       "      <td>9.600000e+19</td>\n",
       "    </tr>\n",
       "  </tbody>\n",
       "</table>\n",
       "</div>"
      ],
      "text/plain": [
       "                                       nft_address token_id  market_value\n",
       "155562  0x059EDD72Cd353dF5106D2B9cC5ab83a52287aC3a     7583  9.225000e+20\n",
       "153528  0x059EDD72Cd353dF5106D2B9cC5ab83a52287aC3a     3784  7.500000e+20\n",
       "154998  0x059EDD72Cd353dF5106D2B9cC5ab83a52287aC3a     6339  4.850000e+20\n",
       "152803  0x059EDD72Cd353dF5106D2B9cC5ab83a52287aC3a     2855  4.200000e+20\n",
       "152474  0x059EDD72Cd353dF5106D2B9cC5ab83a52287aC3a     2414  3.000000e+20\n",
       "152414  0x059EDD72Cd353dF5106D2B9cC5ab83a52287aC3a     2339  3.000000e+20\n",
       "152276  0x059EDD72Cd353dF5106D2B9cC5ab83a52287aC3a     2191  3.000000e+20\n",
       "152286  0x059EDD72Cd353dF5106D2B9cC5ab83a52287aC3a     2201  3.000000e+20\n",
       "152694  0x059EDD72Cd353dF5106D2B9cC5ab83a52287aC3a     2683  3.000000e+20\n",
       "152318  0x059EDD72Cd353dF5106D2B9cC5ab83a52287aC3a     2236  3.000000e+20\n",
       "152330  0x059EDD72Cd353dF5106D2B9cC5ab83a52287aC3a     2248  3.000000e+20\n",
       "152597  0x059EDD72Cd353dF5106D2B9cC5ab83a52287aC3a     2572  3.000000e+20\n",
       "152366  0x059EDD72Cd353dF5106D2B9cC5ab83a52287aC3a     2289  3.000000e+20\n",
       "152477  0x059EDD72Cd353dF5106D2B9cC5ab83a52287aC3a     2419  3.000000e+20\n",
       "152613  0x059EDD72Cd353dF5106D2B9cC5ab83a52287aC3a     2589  3.000000e+20\n",
       "152619  0x059EDD72Cd353dF5106D2B9cC5ab83a52287aC3a     2595  3.000000e+20\n",
       "152611  0x059EDD72Cd353dF5106D2B9cC5ab83a52287aC3a     2586  3.000000e+20\n",
       "152722  0x059EDD72Cd353dF5106D2B9cC5ab83a52287aC3a     2722  3.000000e+20\n",
       "152449  0x059EDD72Cd353dF5106D2B9cC5ab83a52287aC3a     2380  3.000000e+20\n",
       "152469  0x059EDD72Cd353dF5106D2B9cC5ab83a52287aC3a     2404  3.000000e+20\n",
       "152464  0x059EDD72Cd353dF5106D2B9cC5ab83a52287aC3a     2399  3.000000e+20\n",
       "152459  0x059EDD72Cd353dF5106D2B9cC5ab83a52287aC3a     2394  3.000000e+20\n",
       "152416  0x059EDD72Cd353dF5106D2B9cC5ab83a52287aC3a     2340  3.000000e+20\n",
       "152721  0x059EDD72Cd353dF5106D2B9cC5ab83a52287aC3a     2721  3.000000e+20\n",
       "153685  0x059EDD72Cd353dF5106D2B9cC5ab83a52287aC3a     4008  2.500000e+20\n",
       "151638  0x059EDD72Cd353dF5106D2B9cC5ab83a52287aC3a     1780  2.350000e+20\n",
       "214006  0x06012c8cf97BEaD5deAe237070F9587f8E7A266d       40  2.250000e+20\n",
       "188441  0x06012c8cf97BEaD5deAe237070F9587f8E7A266d       17  1.770000e+20\n",
       "156481  0x059EDD72Cd353dF5106D2B9cC5ab83a52287aC3a      927  1.500000e+20\n",
       "152999  0x059EDD72Cd353dF5106D2B9cC5ab83a52287aC3a     3140  1.500000e+20\n",
       "152903  0x059EDD72Cd353dF5106D2B9cC5ab83a52287aC3a     3015  1.500000e+20\n",
       "152847  0x059EDD72Cd353dF5106D2B9cC5ab83a52287aC3a     2916  1.500000e+20\n",
       "214902  0x06012c8cf97BEaD5deAe237070F9587f8E7A266d       44  1.500000e+20\n",
       "152953  0x059EDD72Cd353dF5106D2B9cC5ab83a52287aC3a     3072  1.500000e+20\n",
       "152729  0x059EDD72Cd353dF5106D2B9cC5ab83a52287aC3a     2736  1.500000e+20\n",
       "186144  0x06012c8cf97BEaD5deAe237070F9587f8E7A266d       16  1.490000e+20\n",
       "213531  0x06012c8cf97BEaD5deAe237070F9587f8E7A266d       38  1.480000e+20\n",
       "153052  0x059EDD72Cd353dF5106D2B9cC5ab83a52287aC3a     3199  1.390000e+20\n",
       "152584  0x059EDD72Cd353dF5106D2B9cC5ab83a52287aC3a     2557  1.300000e+20\n",
       "114612  0x0427743DF720801825a5c82e0582B1E915E0F750        3  1.280000e+20\n",
       "219808  0x06012c8cf97BEaD5deAe237070F9587f8E7A266d       74  1.190000e+20\n",
       "153470  0x059EDD72Cd353dF5106D2B9cC5ab83a52287aC3a     3709  1.170000e+20\n",
       "153467  0x059EDD72Cd353dF5106D2B9cC5ab83a52287aC3a     3704  1.170000e+20\n",
       "153466  0x059EDD72Cd353dF5106D2B9cC5ab83a52287aC3a     3703  1.170000e+20\n",
       "153152  0x059EDD72Cd353dF5106D2B9cC5ab83a52287aC3a     3315  1.170000e+20\n",
       "153216  0x059EDD72Cd353dF5106D2B9cC5ab83a52287aC3a     3397  1.170000e+20\n",
       "153240  0x059EDD72Cd353dF5106D2B9cC5ab83a52287aC3a     3455  1.170000e+20\n",
       "153220  0x059EDD72Cd353dF5106D2B9cC5ab83a52287aC3a     3402  1.170000e+20\n",
       "153414  0x059EDD72Cd353dF5106D2B9cC5ab83a52287aC3a     3646  1.170000e+20\n",
       "153367  0x059EDD72Cd353dF5106D2B9cC5ab83a52287aC3a     3594  1.170000e+20\n",
       "153199  0x059EDD72Cd353dF5106D2B9cC5ab83a52287aC3a     3365  1.170000e+20\n",
       "484872  0x11595fFB2D3612d810612e34Bc1C2E6D6de55d26       16  1.100000e+20\n",
       "164933  0x05a46f1E545526FB803FF974C790aCeA34D1f2D6     7642  1.020000e+20\n",
       "224271  0x06012c8cf97BEaD5deAe237070F9587f8E7A266d       99  1.000000e+20\n",
       "213103  0x06012c8cf97BEaD5deAe237070F9587f8E7A266d       35  1.000000e+20\n",
       "212383  0x06012c8cf97BEaD5deAe237070F9587f8E7A266d       29  1.000000e+20\n",
       "218135  0x06012c8cf97BEaD5deAe237070F9587f8E7A266d       63  1.000000e+20\n",
       "212140  0x06012c8cf97BEaD5deAe237070F9587f8E7A266d       27  9.900000e+19\n",
       "215481  0x06012c8cf97BEaD5deAe237070F9587f8E7A266d       47  9.800000e+19\n",
       "211995  0x06012c8cf97BEaD5deAe237070F9587f8E7A266d       26  9.600000e+19"
      ]
     },
     "execution_count": 92,
     "metadata": {},
     "output_type": "execute_result"
    }
   ],
   "source": [
    "#hide\n",
    "a.head(60)"
   ]
  },
  {
   "cell_type": "markdown",
   "id": "090eb914-f9b1-48a5-b7a2-45530a2fb794",
   "metadata": {},
   "source": [
    "I then ran a statistical analysis of the list to get a sense of what the values were for each piece. "
   ]
  },
  {
   "cell_type": "code",
   "execution_count": 93,
   "id": "6ff5a126-fcfb-44d8-b57d-d507c24c0b90",
   "metadata": {},
   "outputs": [
    {
     "data": {
      "text/html": [
       "<div>\n",
       "<style scoped>\n",
       "    .dataframe tbody tr th:only-of-type {\n",
       "        vertical-align: middle;\n",
       "    }\n",
       "\n",
       "    .dataframe tbody tr th {\n",
       "        vertical-align: top;\n",
       "    }\n",
       "\n",
       "    .dataframe thead th {\n",
       "        text-align: right;\n",
       "    }\n",
       "</style>\n",
       "<table border=\"1\" class=\"dataframe\">\n",
       "  <thead>\n",
       "    <tr style=\"text-align: right;\">\n",
       "      <th></th>\n",
       "      <th>market_value</th>\n",
       "    </tr>\n",
       "  </thead>\n",
       "  <tbody>\n",
       "    <tr>\n",
       "      <th>count</th>\n",
       "      <td>5.000000e+00</td>\n",
       "    </tr>\n",
       "    <tr>\n",
       "      <th>mean</th>\n",
       "      <td>5.755000e+20</td>\n",
       "    </tr>\n",
       "    <tr>\n",
       "      <th>std</th>\n",
       "      <td>2.545241e+20</td>\n",
       "    </tr>\n",
       "    <tr>\n",
       "      <th>min</th>\n",
       "      <td>3.000000e+20</td>\n",
       "    </tr>\n",
       "    <tr>\n",
       "      <th>25%</th>\n",
       "      <td>4.200000e+20</td>\n",
       "    </tr>\n",
       "    <tr>\n",
       "      <th>50%</th>\n",
       "      <td>4.850000e+20</td>\n",
       "    </tr>\n",
       "    <tr>\n",
       "      <th>75%</th>\n",
       "      <td>7.500000e+20</td>\n",
       "    </tr>\n",
       "    <tr>\n",
       "      <th>max</th>\n",
       "      <td>9.225000e+20</td>\n",
       "    </tr>\n",
       "  </tbody>\n",
       "</table>\n",
       "</div>"
      ],
      "text/plain": [
       "       market_value\n",
       "count  5.000000e+00\n",
       "mean   5.755000e+20\n",
       "std    2.545241e+20\n",
       "min    3.000000e+20\n",
       "25%    4.200000e+20\n",
       "50%    4.850000e+20\n",
       "75%    7.500000e+20\n",
       "max    9.225000e+20"
      ]
     },
     "execution_count": 93,
     "metadata": {},
     "output_type": "execute_result"
    }
   ],
   "source": [
    "#hide\n",
    "a.head().describe()"
   ]
  },
  {
   "cell_type": "markdown",
   "id": "c8b2d5fc-1733-44ae-a88e-da134bb0ee39",
   "metadata": {},
   "source": [
    "Market value box plot of the top 60 NFT collections denoted in WEI. WEI is the smallest denomination of Ether (The Cryptocurrency) and it makes the transaction fee calculation easier. In order to convert WEI to US dollars one must first convert the WEI to Ether and then multiply that amount of Ether to its valued price at the time, which in this case was roughly around $2,694. "
   ]
  },
  {
   "cell_type": "code",
   "execution_count": 95,
   "id": "a5ec713c-c702-419d-af19-704547cb88b7",
   "metadata": {},
   "outputs": [
    {
     "data": {
      "text/plain": [
       "<AxesSubplot:>"
      ]
     },
     "execution_count": 95,
     "metadata": {},
     "output_type": "execute_result"
    },
    {
     "data": {
      "image/png": "[encoded data removed]",
      "text/plain": [
       "<Figure size 540x252 with 1 Axes>"
      ]
     },
     "metadata": {
      "needs_background": "light"
     },
     "output_type": "display_data"
    }
   ],
   "source": [
    "#hide_input\n",
    "a.head().describe().plot(kind='box')"
   ]
  },
  {
   "cell_type": "raw",
   "id": "9e1551fe-0796-428b-909a-7217e5e58462",
   "metadata": {},
   "source": [
    "I've converted the values of the box plot above to USD to get a better sense of the values: \n",
    "Mean = $1,550,684 \n",
    "Min = $808,350 \n",
    "Max = $2,485,676 \n",
    "25% = $1,131,690 \n",
    "50% = $1,306,832 \n",
    "75% = $2,020,875"
   ]
  },
  {
   "cell_type": "code",
   "execution_count": 96,
   "id": "80af731d-8bd4-4b61-bea7-1d8d7b2f9c73",
   "metadata": {},
   "outputs": [],
   "source": [
    "df1 = pd.read_sql_query('SELECT * FROM nfts', db)"
   ]
  },
  {
   "cell_type": "code",
   "execution_count": 97,
   "id": "bd2629a1-a391-4b4a-a3dd-f182b9ce8688",
   "metadata": {},
   "outputs": [
    {
     "data": {
      "text/plain": [
       "Index(['address', 'name', 'symbol'], dtype='object')"
      ]
     },
     "execution_count": 97,
     "metadata": {},
     "output_type": "execute_result"
    }
   ],
   "source": [
    "#hide\n",
    "df1.columns"
   ]
  },
  {
   "cell_type": "code",
   "execution_count": 165,
   "id": "9533e7a3-f894-439f-a268-ee7422f369c0",
   "metadata": {},
   "outputs": [
    {
     "data": {
      "text/html": [
       "<div>\n",
       "<style scoped>\n",
       "    .dataframe tbody tr th:only-of-type {\n",
       "        vertical-align: middle;\n",
       "    }\n",
       "\n",
       "    .dataframe tbody tr th {\n",
       "        vertical-align: top;\n",
       "    }\n",
       "\n",
       "    .dataframe thead th {\n",
       "        text-align: right;\n",
       "    }\n",
       "</style>\n",
       "<table border=\"1\" class=\"dataframe\">\n",
       "  <thead>\n",
       "    <tr style=\"text-align: right;\">\n",
       "      <th></th>\n",
       "      <th>address</th>\n",
       "      <th>name</th>\n",
       "      <th>symbol</th>\n",
       "    </tr>\n",
       "  </thead>\n",
       "  <tbody>\n",
       "    <tr>\n",
       "      <th>51</th>\n",
       "      <td>0x059EDD72Cd353dF5106D2B9cC5ab83a52287aC3a</td>\n",
       "      <td>Art Blocks</td>\n",
       "      <td>BLOCKS</td>\n",
       "    </tr>\n",
       "  </tbody>\n",
       "</table>\n",
       "</div>"
      ],
      "text/plain": [
       "                                       address        name  symbol\n",
       "51  0x059EDD72Cd353dF5106D2B9cC5ab83a52287aC3a  Art Blocks  BLOCKS"
      ]
     },
     "execution_count": 165,
     "metadata": {},
     "output_type": "execute_result"
    }
   ],
   "source": [
    "#collapse-output\n",
    "df1.loc[df1['address'] == '0x059EDD72Cd353dF5106D2B9cC5ab83a52287aC3a']"
   ]
  },
  {
   "cell_type": "code",
   "execution_count": 99,
   "id": "9380ef14-a106-44d5-b0a7-b49b1920576c",
   "metadata": {},
   "outputs": [
    {
     "data": {
      "text/html": [
       "<div>\n",
       "<style scoped>\n",
       "    .dataframe tbody tr th:only-of-type {\n",
       "        vertical-align: middle;\n",
       "    }\n",
       "\n",
       "    .dataframe tbody tr th {\n",
       "        vertical-align: top;\n",
       "    }\n",
       "\n",
       "    .dataframe thead th {\n",
       "        text-align: right;\n",
       "    }\n",
       "</style>\n",
       "<table border=\"1\" class=\"dataframe\">\n",
       "  <thead>\n",
       "    <tr style=\"text-align: right;\">\n",
       "      <th></th>\n",
       "      <th>address</th>\n",
       "      <th>name</th>\n",
       "      <th>symbol</th>\n",
       "    </tr>\n",
       "  </thead>\n",
       "  <tbody>\n",
       "    <tr>\n",
       "      <th>6</th>\n",
       "      <td>0x06012c8cf97BEaD5deAe237070F9587f8E7A266d</td>\n",
       "      <td>CryptoKitties</td>\n",
       "      <td>CK</td>\n",
       "    </tr>\n",
       "  </tbody>\n",
       "</table>\n",
       "</div>"
      ],
      "text/plain": [
       "                                      address           name symbol\n",
       "6  0x06012c8cf97BEaD5deAe237070F9587f8E7A266d  CryptoKitties     CK"
      ]
     },
     "execution_count": 99,
     "metadata": {},
     "output_type": "execute_result"
    }
   ],
   "source": [
    "#collapse-output\n",
    "df1.loc[df1['address'] == '0x06012c8cf97BEaD5deAe237070F9587f8E7A266d']"
   ]
  },
  {
   "cell_type": "code",
   "execution_count": 100,
   "id": "6fbfca1c-140b-49d1-ac19-f27b6036ef97",
   "metadata": {},
   "outputs": [
    {
     "data": {
      "text/html": [
       "<div>\n",
       "<style scoped>\n",
       "    .dataframe tbody tr th:only-of-type {\n",
       "        vertical-align: middle;\n",
       "    }\n",
       "\n",
       "    .dataframe tbody tr th {\n",
       "        vertical-align: top;\n",
       "    }\n",
       "\n",
       "    .dataframe thead th {\n",
       "        text-align: right;\n",
       "    }\n",
       "</style>\n",
       "<table border=\"1\" class=\"dataframe\">\n",
       "  <thead>\n",
       "    <tr style=\"text-align: right;\">\n",
       "      <th></th>\n",
       "      <th>address</th>\n",
       "      <th>name</th>\n",
       "      <th>symbol</th>\n",
       "    </tr>\n",
       "  </thead>\n",
       "  <tbody>\n",
       "    <tr>\n",
       "      <th>262</th>\n",
       "      <td>0x0427743DF720801825a5c82e0582B1E915E0F750</td>\n",
       "      <td>0xmons.xyz</td>\n",
       "      <td>0XMON</td>\n",
       "    </tr>\n",
       "  </tbody>\n",
       "</table>\n",
       "</div>"
      ],
      "text/plain": [
       "                                        address        name symbol\n",
       "262  0x0427743DF720801825a5c82e0582B1E915E0F750  0xmons.xyz  0XMON"
      ]
     },
     "execution_count": 100,
     "metadata": {},
     "output_type": "execute_result"
    }
   ],
   "source": [
    "#collapse-output\n",
    "df1.loc[df1['address'] == '0x0427743DF720801825a5c82e0582B1E915E0F750']"
   ]
  },
  {
   "cell_type": "code",
   "execution_count": 101,
   "id": "ccfcbbb3-2aca-495a-9639-a623aba8218f",
   "metadata": {},
   "outputs": [
    {
     "data": {
      "text/html": [
       "<div>\n",
       "<style scoped>\n",
       "    .dataframe tbody tr th:only-of-type {\n",
       "        vertical-align: middle;\n",
       "    }\n",
       "\n",
       "    .dataframe tbody tr th {\n",
       "        vertical-align: top;\n",
       "    }\n",
       "\n",
       "    .dataframe thead th {\n",
       "        text-align: right;\n",
       "    }\n",
       "</style>\n",
       "<table border=\"1\" class=\"dataframe\">\n",
       "  <thead>\n",
       "    <tr style=\"text-align: right;\">\n",
       "      <th></th>\n",
       "      <th>address</th>\n",
       "      <th>name</th>\n",
       "      <th>symbol</th>\n",
       "    </tr>\n",
       "  </thead>\n",
       "  <tbody>\n",
       "    <tr>\n",
       "      <th>989</th>\n",
       "      <td>0x11595fFB2D3612d810612e34Bc1C2E6D6de55d26</td>\n",
       "      <td>Tom Sachs Rocket Components</td>\n",
       "      <td>TSRC</td>\n",
       "    </tr>\n",
       "  </tbody>\n",
       "</table>\n",
       "</div>"
      ],
      "text/plain": [
       "                                        address                         name  \\\n",
       "989  0x11595fFB2D3612d810612e34Bc1C2E6D6de55d26  Tom Sachs Rocket Components   \n",
       "\n",
       "    symbol  \n",
       "989   TSRC  "
      ]
     },
     "execution_count": 101,
     "metadata": {},
     "output_type": "execute_result"
    }
   ],
   "source": [
    "#collapse-output\n",
    "df1.loc[df1['address'] == '0x11595fFB2D3612d810612e34Bc1C2E6D6de55d26']"
   ]
  },
  {
   "cell_type": "code",
   "execution_count": 102,
   "id": "3db1f899-a85b-4100-b09f-45ba77ca5bae",
   "metadata": {},
   "outputs": [
    {
     "data": {
      "text/html": [
       "<div>\n",
       "<style scoped>\n",
       "    .dataframe tbody tr th:only-of-type {\n",
       "        vertical-align: middle;\n",
       "    }\n",
       "\n",
       "    .dataframe tbody tr th {\n",
       "        vertical-align: top;\n",
       "    }\n",
       "\n",
       "    .dataframe thead th {\n",
       "        text-align: right;\n",
       "    }\n",
       "</style>\n",
       "<table border=\"1\" class=\"dataframe\">\n",
       "  <thead>\n",
       "    <tr style=\"text-align: right;\">\n",
       "      <th></th>\n",
       "      <th>address</th>\n",
       "      <th>name</th>\n",
       "      <th>symbol</th>\n",
       "    </tr>\n",
       "  </thead>\n",
       "  <tbody>\n",
       "    <tr>\n",
       "      <th>4609</th>\n",
       "      <td>0x05a46f1E545526FB803FF974C790aCeA34D1f2D6</td>\n",
       "      <td>n</td>\n",
       "      <td>N</td>\n",
       "    </tr>\n",
       "  </tbody>\n",
       "</table>\n",
       "</div>"
      ],
      "text/plain": [
       "                                         address name symbol\n",
       "4609  0x05a46f1E545526FB803FF974C790aCeA34D1f2D6    n      N"
      ]
     },
     "execution_count": 102,
     "metadata": {},
     "output_type": "execute_result"
    }
   ],
   "source": [
    "#collapse-output\n",
    "df1.loc[df1['address'] == '0x05a46f1E545526FB803FF974C790aCeA34D1f2D6']"
   ]
  },
  {
   "cell_type": "code",
   "execution_count": 120,
   "id": "2cc5027e-6f1c-4fb3-a384-a414fc2cedff",
   "metadata": {},
   "outputs": [
    {
     "data": {
      "application/vnd.plotly.v1+json": {
       "config": {
        "plotlyServerURL": "https://plot.ly"
       },
       "data": [
        {
         "marker": {
          "color": [
           "blue",
           "orange",
           "green",
           "red",
           "black"
          ],
          "size": [
           120,
           100,
           80,
           60,
           40
          ]
         },
         "mode": "markers",
         "text": [
          "Art Blocks",
          "CryptoKitties",
          "0xmons.xyz",
          "Tom Sachs Rocket Components",
          "n"
         ],
         "type": "scatter",
         "x": [
          1,
          2,
          3,
          4,
          5
         ],
         "y": [
          5,
          4,
          3,
          2,
          1
         ]
        }
       ],
       "layout": {
        "autosize": true,
        "template": {
         "data": {
          "bar": [
           {
            "error_x": {
             "color": "#2a3f5f"
            },
            "error_y": {
             "color": "#2a3f5f"
            },
            "marker": {
             "line": {
              "color": "#E5ECF6",
              "width": 0.5
             },
             "pattern": {
              "fillmode": "overlay",
              "size": 10,
              "solidity": 0.2
             }
            },
            "type": "bar"
           }
          ],
          "barpolar": [
           {
            "marker": {
             "line": {
              "color": "#E5ECF6",
              "width": 0.5
             },
             "pattern": {
              "fillmode": "overlay",
              "size": 10,
              "solidity": 0.2
             }
            },
            "type": "barpolar"
           }
          ],
          "carpet": [
           {
            "aaxis": {
             "endlinecolor": "#2a3f5f",
             "gridcolor": "white",
             "linecolor": "white",
             "minorgridcolor": "white",
             "startlinecolor": "#2a3f5f"
            },
            "baxis": {
             "endlinecolor": "#2a3f5f",
             "gridcolor": "white",
             "linecolor": "white",
             "minorgridcolor": "white",
             "startlinecolor": "#2a3f5f"
            },
            "type": "carpet"
           }
          ],
          "choropleth": [
           {
            "colorbar": {
             "outlinewidth": 0,
             "ticks": ""
            },
            "type": "choropleth"
           }
          ],
          "contour": [
           {
            "colorbar": {
             "outlinewidth": 0,
             "ticks": ""
            },
            "colorscale": [
             [
              0,
              "#0d0887"
             ],
             [
              0.1111111111111111,
              "#46039f"
             ],
             [
              0.2222222222222222,
              "#7201a8"
             ],
             [
              0.3333333333333333,
              "#9c179e"
             ],
             [
              0.4444444444444444,
              "#bd3786"
             ],
             [
              0.5555555555555556,
              "#d8576b"
             ],
             [
              0.6666666666666666,
              "#ed7953"
             ],
             [
              0.7777777777777778,
              "#fb9f3a"
             ],
             [
              0.8888888888888888,
              "#fdca26"
             ],
             [
              1,
              "#f0f921"
             ]
            ],
            "type": "contour"
           }
          ],
          "contourcarpet": [
           {
            "colorbar": {
             "outlinewidth": 0,
             "ticks": ""
            },
            "type": "contourcarpet"
           }
          ],
          "heatmap": [
           {
            "colorbar": {
             "outlinewidth": 0,
             "ticks": ""
            },
            "colorscale": [
             [
              0,
              "#0d0887"
             ],
             [
              0.1111111111111111,
              "#46039f"
             ],
             [
              0.2222222222222222,
              "#7201a8"
             ],
             [
              0.3333333333333333,
              "#9c179e"
             ],
             [
              0.4444444444444444,
              "#bd3786"
             ],
             [
              0.5555555555555556,
              "#d8576b"
             ],
             [
              0.6666666666666666,
              "#ed7953"
             ],
             [
              0.7777777777777778,
              "#fb9f3a"
             ],
             [
              0.8888888888888888,
              "#fdca26"
             ],
             [
              1,
              "#f0f921"
             ]
            ],
            "type": "heatmap"
           }
          ],
          "heatmapgl": [
           {
            "colorbar": {
             "outlinewidth": 0,
             "ticks": ""
            },
            "colorscale": [
             [
              0,
              "#0d0887"
             ],
             [
              0.1111111111111111,
              "#46039f"
             ],
             [
              0.2222222222222222,
              "#7201a8"
             ],
             [
              0.3333333333333333,
              "#9c179e"
             ],
             [
              0.4444444444444444,
              "#bd3786"
             ],
             [
              0.5555555555555556,
              "#d8576b"
             ],
             [
              0.6666666666666666,
              "#ed7953"
             ],
             [
              0.7777777777777778,
              "#fb9f3a"
             ],
             [
              0.8888888888888888,
              "#fdca26"
             ],
             [
              1,
              "#f0f921"
             ]
            ],
            "type": "heatmapgl"
           }
          ],
          "histogram": [
           {
            "marker": {
             "pattern": {
              "fillmode": "overlay",
              "size": 10,
              "solidity": 0.2
             }
            },
            "type": "histogram"
           }
          ],
          "histogram2d": [
           {
            "colorbar": {
             "outlinewidth": 0,
             "ticks": ""
            },
            "colorscale": [
             [
              0,
              "#0d0887"
             ],
             [
              0.1111111111111111,
              "#46039f"
             ],
             [
              0.2222222222222222,
              "#7201a8"
             ],
             [
              0.3333333333333333,
              "#9c179e"
             ],
             [
              0.4444444444444444,
              "#bd3786"
             ],
             [
              0.5555555555555556,
              "#d8576b"
             ],
             [
              0.6666666666666666,
              "#ed7953"
             ],
             [
              0.7777777777777778,
              "#fb9f3a"
             ],
             [
              0.8888888888888888,
              "#fdca26"
             ],
             [
              1,
              "#f0f921"
             ]
            ],
            "type": "histogram2d"
           }
          ],
          "histogram2dcontour": [
           {
            "colorbar": {
             "outlinewidth": 0,
             "ticks": ""
            },
            "colorscale": [
             [
              0,
              "#0d0887"
             ],
             [
              0.1111111111111111,
              "#46039f"
             ],
             [
              0.2222222222222222,
              "#7201a8"
             ],
             [
              0.3333333333333333,
              "#9c179e"
             ],
             [
              0.4444444444444444,
              "#bd3786"
             ],
             [
              0.5555555555555556,
              "#d8576b"
             ],
             [
              0.6666666666666666,
              "#ed7953"
             ],
             [
              0.7777777777777778,
              "#fb9f3a"
             ],
             [
              0.8888888888888888,
              "#fdca26"
             ],
             [
              1,
              "#f0f921"
             ]
            ],
            "type": "histogram2dcontour"
           }
          ],
          "mesh3d": [
           {
            "colorbar": {
             "outlinewidth": 0,
             "ticks": ""
            },
            "type": "mesh3d"
           }
          ],
          "parcoords": [
           {
            "line": {
             "colorbar": {
              "outlinewidth": 0,
              "ticks": ""
             }
            },
            "type": "parcoords"
           }
          ],
          "pie": [
           {
            "automargin": true,
            "type": "pie"
           }
          ],
          "scatter": [
           {
            "marker": {
             "colorbar": {
              "outlinewidth": 0,
              "ticks": ""
             }
            },
            "type": "scatter"
           }
          ],
          "scatter3d": [
           {
            "line": {
             "colorbar": {
              "outlinewidth": 0,
              "ticks": ""
             }
            },
            "marker": {
             "colorbar": {
              "outlinewidth": 0,
              "ticks": ""
             }
            },
            "type": "scatter3d"
           }
          ],
          "scattercarpet": [
           {
            "marker": {
             "colorbar": {
              "outlinewidth": 0,
              "ticks": ""
             }
            },
            "type": "scattercarpet"
           }
          ],
          "scattergeo": [
           {
            "marker": {
             "colorbar": {
              "outlinewidth": 0,
              "ticks": ""
             }
            },
            "type": "scattergeo"
           }
          ],
          "scattergl": [
           {
            "marker": {
             "colorbar": {
              "outlinewidth": 0,
              "ticks": ""
             }
            },
            "type": "scattergl"
           }
          ],
          "scattermapbox": [
           {
            "marker": {
             "colorbar": {
              "outlinewidth": 0,
              "ticks": ""
             }
            },
            "type": "scattermapbox"
           }
          ],
          "scatterpolar": [
           {
            "marker": {
             "colorbar": {
              "outlinewidth": 0,
              "ticks": ""
             }
            },
            "type": "scatterpolar"
           }
          ],
          "scatterpolargl": [
           {
            "marker": {
             "colorbar": {
              "outlinewidth": 0,
              "ticks": ""
             }
            },
            "type": "scatterpolargl"
           }
          ],
          "scatterternary": [
           {
            "marker": {
             "colorbar": {
              "outlinewidth": 0,
              "ticks": ""
             }
            },
            "type": "scatterternary"
           }
          ],
          "surface": [
           {
            "colorbar": {
             "outlinewidth": 0,
             "ticks": ""
            },
            "colorscale": [
             [
              0,
              "#0d0887"
             ],
             [
              0.1111111111111111,
              "#46039f"
             ],
             [
              0.2222222222222222,
              "#7201a8"
             ],
             [
              0.3333333333333333,
              "#9c179e"
             ],
             [
              0.4444444444444444,
              "#bd3786"
             ],
             [
              0.5555555555555556,
              "#d8576b"
             ],
             [
              0.6666666666666666,
              "#ed7953"
             ],
             [
              0.7777777777777778,
              "#fb9f3a"
             ],
             [
              0.8888888888888888,
              "#fdca26"
             ],
             [
              1,
              "#f0f921"
             ]
            ],
            "type": "surface"
           }
          ],
          "table": [
           {
            "cells": {
             "fill": {
              "color": "#EBF0F8"
             },
             "line": {
              "color": "white"
             }
            },
            "header": {
             "fill": {
              "color": "#C8D4E3"
             },
             "line": {
              "color": "white"
             }
            },
            "type": "table"
           }
          ]
         },
         "layout": {
          "annotationdefaults": {
           "arrowcolor": "#2a3f5f",
           "arrowhead": 0,
           "arrowwidth": 1
          },
          "autotypenumbers": "strict",
          "coloraxis": {
           "colorbar": {
            "outlinewidth": 0,
            "ticks": ""
           }
          },
          "colorscale": {
           "diverging": [
            [
             0,
             "#8e0152"
            ],
            [
             0.1,
             "#c51b7d"
            ],
            [
             0.2,
             "#de77ae"
            ],
            [
             0.3,
             "#f1b6da"
            ],
            [
             0.4,
             "#fde0ef"
            ],
            [
             0.5,
             "#f7f7f7"
            ],
            [
             0.6,
             "#e6f5d0"
            ],
            [
             0.7,
             "#b8e186"
            ],
            [
             0.8,
             "#7fbc41"
            ],
            [
             0.9,
             "#4d9221"
            ],
            [
             1,
             "#276419"
            ]
           ],
           "sequential": [
            [
             0,
             "#0d0887"
            ],
            [
             0.1111111111111111,
             "#46039f"
            ],
            [
             0.2222222222222222,
             "#7201a8"
            ],
            [
             0.3333333333333333,
             "#9c179e"
            ],
            [
             0.4444444444444444,
             "#bd3786"
            ],
            [
             0.5555555555555556,
             "#d8576b"
            ],
            [
             0.6666666666666666,
             "#ed7953"
            ],
            [
             0.7777777777777778,
             "#fb9f3a"
            ],
            [
             0.8888888888888888,
             "#fdca26"
            ],
            [
             1,
             "#f0f921"
            ]
           ],
           "sequentialminus": [
            [
             0,
             "#0d0887"
            ],
            [
             0.1111111111111111,
             "#46039f"
            ],
            [
             0.2222222222222222,
             "#7201a8"
            ],
            [
             0.3333333333333333,
             "#9c179e"
            ],
            [
             0.4444444444444444,
             "#bd3786"
            ],
            [
             0.5555555555555556,
             "#d8576b"
            ],
            [
             0.6666666666666666,
             "#ed7953"
            ],
            [
             0.7777777777777778,
             "#fb9f3a"
            ],
            [
             0.8888888888888888,
             "#fdca26"
            ],
            [
             1,
             "#f0f921"
            ]
           ]
          },
          "colorway": [
           "#636efa",
           "#EF553B",
           "#00cc96",
           "#ab63fa",
           "#FFA15A",
           "#19d3f3",
           "#FF6692",
           "#B6E880",
           "#FF97FF",
           "#FECB52"
          ],
          "font": {
           "color": "#2a3f5f"
          },
          "geo": {
           "bgcolor": "white",
           "lakecolor": "white",
           "landcolor": "#E5ECF6",
           "showlakes": true,
           "showland": true,
           "subunitcolor": "white"
          },
          "hoverlabel": {
           "align": "left"
          },
          "hovermode": "closest",
          "mapbox": {
           "style": "light"
          },
          "paper_bgcolor": "white",
          "plot_bgcolor": "#E5ECF6",
          "polar": {
           "angularaxis": {
            "gridcolor": "white",
            "linecolor": "white",
            "ticks": ""
           },
           "bgcolor": "#E5ECF6",
           "radialaxis": {
            "gridcolor": "white",
            "linecolor": "white",
            "ticks": ""
           }
          },
          "scene": {
           "xaxis": {
            "backgroundcolor": "#E5ECF6",
            "gridcolor": "white",
            "gridwidth": 2,
            "linecolor": "white",
            "showbackground": true,
            "ticks": "",
            "zerolinecolor": "white"
           },
           "yaxis": {
            "backgroundcolor": "#E5ECF6",
            "gridcolor": "white",
            "gridwidth": 2,
            "linecolor": "white",
            "showbackground": true,
            "ticks": "",
            "zerolinecolor": "white"
           },
           "zaxis": {
            "backgroundcolor": "#E5ECF6",
            "gridcolor": "white",
            "gridwidth": 2,
            "linecolor": "white",
            "showbackground": true,
            "ticks": "",
            "zerolinecolor": "white"
           }
          },
          "shapedefaults": {
           "line": {
            "color": "#2a3f5f"
           }
          },
          "ternary": {
           "aaxis": {
            "gridcolor": "white",
            "linecolor": "white",
            "ticks": ""
           },
           "baxis": {
            "gridcolor": "white",
            "linecolor": "white",
            "ticks": ""
           },
           "bgcolor": "#E5ECF6",
           "caxis": {
            "gridcolor": "white",
            "linecolor": "white",
            "ticks": ""
           }
          },
          "title": {
           "x": 0.05
          },
          "xaxis": {
           "automargin": true,
           "gridcolor": "white",
           "linecolor": "white",
           "ticks": "",
           "title": {
            "standoff": 15
           },
           "zerolinecolor": "white",
           "zerolinewidth": 2
          },
          "yaxis": {
           "automargin": true,
           "gridcolor": "white",
           "linecolor": "white",
           "ticks": "",
           "title": {
            "standoff": 15
           },
           "zerolinecolor": "white",
           "zerolinewidth": 2
          }
         }
        },
        "title": {
         "text": "Top 5 Highest Valued NFT Collections"
        },
        "xaxis": {
         "autorange": true,
         "range": [
          0.13832109545544757,
          5.46477475689621
         ],
         "type": "linear"
        },
        "yaxis": {
         "autorange": true,
         "range": [
          -1.193548387096774,
          10.419354838709676
         ],
         "type": "linear"
        }
       }
      },
      "image/png": "[encoded data removed]",
      "text/html": [
       "<div>                            <div id=\"09ee7455-2344-40c9-b6a6-c0540c4b811c\" class=\"plotly-graph-div\" style=\"height:525px; width:100%;\"></div>            <script type=\"text/javascript\">                require([\"plotly\"], function(Plotly) {                    window.PLOTLYENV=window.PLOTLYENV || {};                                    if (document.getElementById(\"09ee7455-2344-40c9-b6a6-c0540c4b811c\")) {                    Plotly.newPlot(                        \"09ee7455-2344-40c9-b6a6-c0540c4b811c\",                        [{\"marker\":{\"color\":[\"blue\",\"orange\",\"green\",\"red\",\"black\"],\"size\":[120,100,80,60,40]},\"mode\":\"markers\",\"text\":[\"Art Blocks\",\"CryptoKitties\",\"0xmons.xyz\",\"Tom Sachs Rocket Components\",\"n\"],\"type\":\"scatter\",\"x\":[1,2,3,4,5],\"y\":[5,4,3,2,1]}],                        {\"template\":{\"data\":{\"bar\":[{\"error_x\":{\"color\":\"#2a3f5f\"},\"error_y\":{\"color\":\"#2a3f5f\"},\"marker\":{\"line\":{\"color\":\"#E5ECF6\",\"width\":0.5},\"pattern\":{\"fillmode\":\"overlay\",\"size\":10,\"solidity\":0.2}},\"type\":\"bar\"}],\"barpolar\":[{\"marker\":{\"line\":{\"color\":\"#E5ECF6\",\"width\":0.5},\"pattern\":{\"fillmode\":\"overlay\",\"size\":10,\"solidity\":0.2}},\"type\":\"barpolar\"}],\"carpet\":[{\"aaxis\":{\"endlinecolor\":\"#2a3f5f\",\"gridcolor\":\"white\",\"linecolor\":\"white\",\"minorgridcolor\":\"white\",\"startlinecolor\":\"#2a3f5f\"},\"baxis\":{\"endlinecolor\":\"#2a3f5f\",\"gridcolor\":\"white\",\"linecolor\":\"white\",\"minorgridcolor\":\"white\",\"startlinecolor\":\"#2a3f5f\"},\"type\":\"carpet\"}],\"choropleth\":[{\"colorbar\":{\"outlinewidth\":0,\"ticks\":\"\"},\"type\":\"choropleth\"}],\"contour\":[{\"colorbar\":{\"outlinewidth\":0,\"ticks\":\"\"},\"colorscale\":[[0.0,\"#0d0887\"],[0.1111111111111111,\"#46039f\"],[0.2222222222222222,\"#7201a8\"],[0.3333333333333333,\"#9c179e\"],[0.4444444444444444,\"#bd3786\"],[0.5555555555555556,\"#d8576b\"],[0.6666666666666666,\"#ed7953\"],[0.7777777777777778,\"#fb9f3a\"],[0.8888888888888888,\"#fdca26\"],[1.0,\"#f0f921\"]],\"type\":\"contour\"}],\"contourcarpet\":[{\"colorbar\":{\"outlinewidth\":0,\"ticks\":\"\"},\"type\":\"contourcarpet\"}],\"heatmap\":[{\"colorbar\":{\"outlinewidth\":0,\"ticks\":\"\"},\"colorscale\":[[0.0,\"#0d0887\"],[0.1111111111111111,\"#46039f\"],[0.2222222222222222,\"#7201a8\"],[0.3333333333333333,\"#9c179e\"],[0.4444444444444444,\"#bd3786\"],[0.5555555555555556,\"#d8576b\"],[0.6666666666666666,\"#ed7953\"],[0.7777777777777778,\"#fb9f3a\"],[0.8888888888888888,\"#fdca26\"],[1.0,\"#f0f921\"]],\"type\":\"heatmap\"}],\"heatmapgl\":[{\"colorbar\":{\"outlinewidth\":0,\"ticks\":\"\"},\"colorscale\":[[0.0,\"#0d0887\"],[0.1111111111111111,\"#46039f\"],[0.2222222222222222,\"#7201a8\"],[0.3333333333333333,\"#9c179e\"],[0.4444444444444444,\"#bd3786\"],[0.5555555555555556,\"#d8576b\"],[0.6666666666666666,\"#ed7953\"],[0.7777777777777778,\"#fb9f3a\"],[0.8888888888888888,\"#fdca26\"],[1.0,\"#f0f921\"]],\"type\":\"heatmapgl\"}],\"histogram\":[{\"marker\":{\"pattern\":{\"fillmode\":\"overlay\",\"size\":10,\"solidity\":0.2}},\"type\":\"histogram\"}],\"histogram2d\":[{\"colorbar\":{\"outlinewidth\":0,\"ticks\":\"\"},\"colorscale\":[[0.0,\"#0d0887\"],[0.1111111111111111,\"#46039f\"],[0.2222222222222222,\"#7201a8\"],[0.3333333333333333,\"#9c179e\"],[0.4444444444444444,\"#bd3786\"],[0.5555555555555556,\"#d8576b\"],[0.6666666666666666,\"#ed7953\"],[0.7777777777777778,\"#fb9f3a\"],[0.8888888888888888,\"#fdca26\"],[1.0,\"#f0f921\"]],\"type\":\"histogram2d\"}],\"histogram2dcontour\":[{\"colorbar\":{\"outlinewidth\":0,\"ticks\":\"\"},\"colorscale\":[[0.0,\"#0d0887\"],[0.1111111111111111,\"#46039f\"],[0.2222222222222222,\"#7201a8\"],[0.3333333333333333,\"#9c179e\"],[0.4444444444444444,\"#bd3786\"],[0.5555555555555556,\"#d8576b\"],[0.6666666666666666,\"#ed7953\"],[0.7777777777777778,\"#fb9f3a\"],[0.8888888888888888,\"#fdca26\"],[1.0,\"#f0f921\"]],\"type\":\"histogram2dcontour\"}],\"mesh3d\":[{\"colorbar\":{\"outlinewidth\":0,\"ticks\":\"\"},\"type\":\"mesh3d\"}],\"parcoords\":[{\"line\":{\"colorbar\":{\"outlinewidth\":0,\"ticks\":\"\"}},\"type\":\"parcoords\"}],\"pie\":[{\"automargin\":true,\"type\":\"pie\"}],\"scatter\":[{\"marker\":{\"colorbar\":{\"outlinewidth\":0,\"ticks\":\"\"}},\"type\":\"scatter\"}],\"scatter3d\":[{\"line\":{\"colorbar\":{\"outlinewidth\":0,\"ticks\":\"\"}},\"marker\":{\"colorbar\":{\"outlinewidth\":0,\"ticks\":\"\"}},\"type\":\"scatter3d\"}],\"scattercarpet\":[{\"marker\":{\"colorbar\":{\"outlinewidth\":0,\"ticks\":\"\"}},\"type\":\"scattercarpet\"}],\"scattergeo\":[{\"marker\":{\"colorbar\":{\"outlinewidth\":0,\"ticks\":\"\"}},\"type\":\"scattergeo\"}],\"scattergl\":[{\"marker\":{\"colorbar\":{\"outlinewidth\":0,\"ticks\":\"\"}},\"type\":\"scattergl\"}],\"scattermapbox\":[{\"marker\":{\"colorbar\":{\"outlinewidth\":0,\"ticks\":\"\"}},\"type\":\"scattermapbox\"}],\"scatterpolar\":[{\"marker\":{\"colorbar\":{\"outlinewidth\":0,\"ticks\":\"\"}},\"type\":\"scatterpolar\"}],\"scatterpolargl\":[{\"marker\":{\"colorbar\":{\"outlinewidth\":0,\"ticks\":\"\"}},\"type\":\"scatterpolargl\"}],\"scatterternary\":[{\"marker\":{\"colorbar\":{\"outlinewidth\":0,\"ticks\":\"\"}},\"type\":\"scatterternary\"}],\"surface\":[{\"colorbar\":{\"outlinewidth\":0,\"ticks\":\"\"},\"colorscale\":[[0.0,\"#0d0887\"],[0.1111111111111111,\"#46039f\"],[0.2222222222222222,\"#7201a8\"],[0.3333333333333333,\"#9c179e\"],[0.4444444444444444,\"#bd3786\"],[0.5555555555555556,\"#d8576b\"],[0.6666666666666666,\"#ed7953\"],[0.7777777777777778,\"#fb9f3a\"],[0.8888888888888888,\"#fdca26\"],[1.0,\"#f0f921\"]],\"type\":\"surface\"}],\"table\":[{\"cells\":{\"fill\":{\"color\":\"#EBF0F8\"},\"line\":{\"color\":\"white\"}},\"header\":{\"fill\":{\"color\":\"#C8D4E3\"},\"line\":{\"color\":\"white\"}},\"type\":\"table\"}]},\"layout\":{\"annotationdefaults\":{\"arrowcolor\":\"#2a3f5f\",\"arrowhead\":0,\"arrowwidth\":1},\"autotypenumbers\":\"strict\",\"coloraxis\":{\"colorbar\":{\"outlinewidth\":0,\"ticks\":\"\"}},\"colorscale\":{\"diverging\":[[0,\"#8e0152\"],[0.1,\"#c51b7d\"],[0.2,\"#de77ae\"],[0.3,\"#f1b6da\"],[0.4,\"#fde0ef\"],[0.5,\"#f7f7f7\"],[0.6,\"#e6f5d0\"],[0.7,\"#b8e186\"],[0.8,\"#7fbc41\"],[0.9,\"#4d9221\"],[1,\"#276419\"]],\"sequential\":[[0.0,\"#0d0887\"],[0.1111111111111111,\"#46039f\"],[0.2222222222222222,\"#7201a8\"],[0.3333333333333333,\"#9c179e\"],[0.4444444444444444,\"#bd3786\"],[0.5555555555555556,\"#d8576b\"],[0.6666666666666666,\"#ed7953\"],[0.7777777777777778,\"#fb9f3a\"],[0.8888888888888888,\"#fdca26\"],[1.0,\"#f0f921\"]],\"sequentialminus\":[[0.0,\"#0d0887\"],[0.1111111111111111,\"#46039f\"],[0.2222222222222222,\"#7201a8\"],[0.3333333333333333,\"#9c179e\"],[0.4444444444444444,\"#bd3786\"],[0.5555555555555556,\"#d8576b\"],[0.6666666666666666,\"#ed7953\"],[0.7777777777777778,\"#fb9f3a\"],[0.8888888888888888,\"#fdca26\"],[1.0,\"#f0f921\"]]},\"colorway\":[\"#636efa\",\"#EF553B\",\"#00cc96\",\"#ab63fa\",\"#FFA15A\",\"#19d3f3\",\"#FF6692\",\"#B6E880\",\"#FF97FF\",\"#FECB52\"],\"font\":{\"color\":\"#2a3f5f\"},\"geo\":{\"bgcolor\":\"white\",\"lakecolor\":\"white\",\"landcolor\":\"#E5ECF6\",\"showlakes\":true,\"showland\":true,\"subunitcolor\":\"white\"},\"hoverlabel\":{\"align\":\"left\"},\"hovermode\":\"closest\",\"mapbox\":{\"style\":\"light\"},\"paper_bgcolor\":\"white\",\"plot_bgcolor\":\"#E5ECF6\",\"polar\":{\"angularaxis\":{\"gridcolor\":\"white\",\"linecolor\":\"white\",\"ticks\":\"\"},\"bgcolor\":\"#E5ECF6\",\"radialaxis\":{\"gridcolor\":\"white\",\"linecolor\":\"white\",\"ticks\":\"\"}},\"scene\":{\"xaxis\":{\"backgroundcolor\":\"#E5ECF6\",\"gridcolor\":\"white\",\"gridwidth\":2,\"linecolor\":\"white\",\"showbackground\":true,\"ticks\":\"\",\"zerolinecolor\":\"white\"},\"yaxis\":{\"backgroundcolor\":\"#E5ECF6\",\"gridcolor\":\"white\",\"gridwidth\":2,\"linecolor\":\"white\",\"showbackground\":true,\"ticks\":\"\",\"zerolinecolor\":\"white\"},\"zaxis\":{\"backgroundcolor\":\"#E5ECF6\",\"gridcolor\":\"white\",\"gridwidth\":2,\"linecolor\":\"white\",\"showbackground\":true,\"ticks\":\"\",\"zerolinecolor\":\"white\"}},\"shapedefaults\":{\"line\":{\"color\":\"#2a3f5f\"}},\"ternary\":{\"aaxis\":{\"gridcolor\":\"white\",\"linecolor\":\"white\",\"ticks\":\"\"},\"baxis\":{\"gridcolor\":\"white\",\"linecolor\":\"white\",\"ticks\":\"\"},\"bgcolor\":\"#E5ECF6\",\"caxis\":{\"gridcolor\":\"white\",\"linecolor\":\"white\",\"ticks\":\"\"}},\"title\":{\"x\":0.05},\"xaxis\":{\"automargin\":true,\"gridcolor\":\"white\",\"linecolor\":\"white\",\"ticks\":\"\",\"title\":{\"standoff\":15},\"zerolinecolor\":\"white\",\"zerolinewidth\":2},\"yaxis\":{\"automargin\":true,\"gridcolor\":\"white\",\"linecolor\":\"white\",\"ticks\":\"\",\"title\":{\"standoff\":15},\"zerolinecolor\":\"white\",\"zerolinewidth\":2}}},\"title\":{\"text\":\"Top 5 Highest Valued NFT Collections\"}},                        {\"responsive\": true}                    ).then(function(){\n",
       "                            \n",
       "var gd = document.getElementById('09ee7455-2344-40c9-b6a6-c0540c4b811c');\n",
       "var x = new MutationObserver(function (mutations, observer) {{\n",
       "        var display = window.getComputedStyle(gd).display;\n",
       "        if (!display || display === 'none') {{\n",
       "            console.log([gd, 'removed!']);\n",
       "            Plotly.purge(gd);\n",
       "            observer.disconnect();\n",
       "        }}\n",
       "}});\n",
       "\n",
       "// Listen for the removal of the full notebook cells\n",
       "var notebookContainer = gd.closest('#notebook-container');\n",
       "if (notebookContainer) {{\n",
       "    x.observe(notebookContainer, {childList: true});\n",
       "}}\n",
       "\n",
       "// Listen for the clearing of the current output cell\n",
       "var outputEl = gd.closest('.output');\n",
       "if (outputEl) {{\n",
       "    x.observe(outputEl, {childList: true});\n",
       "}}\n",
       "\n",
       "                        })                };                });            </script>        </div>"
      ]
     },
     "metadata": {},
     "output_type": "display_data"
    }
   ],
   "source": [
    "#collapse-hide\n",
    "import plotly.graph_objects as go\n",
    "\n",
    "fig = go.Figure(data=[go.Scatter(\n",
    "    x=[1, 2, 3, 4, 5], y=[5, 4, 3, 2, 1],\n",
    "    text=['Art Blocks', 'CryptoKitties', '0xmons.xyz', 'Tom Sachs Rocket Components', 'n'],\n",
    "    mode='markers',\n",
    "    marker=dict(\n",
    "        color=['blue', 'orange',  'green', 'red','black'],\n",
    "        size=[120, 100, 80, 60, 40],\n",
    "    )\n",
    ")])\n",
    "fig.update_layout(\n",
    "    title='Top 5 Highest Valued NFT Collections',\n",
    ")\n",
    "    \n",
    "fig.show()"
   ]
  },
  {
   "cell_type": "markdown",
   "id": "46d47268-470d-4221-8b1b-8f5c4d51068a",
   "metadata": {
    "tags": []
   },
   "source": [
    "Now that i got a clear understanding of which NFT's are highest in value I began to take a look at each collection individually to see how factors such as the amount of current owners they have, the cost of minting, and the amount of transfers influence their value. "
   ]
  },
  {
   "cell_type": "markdown",
   "id": "39011823-f125-4549-999d-cad2bf284c15",
   "metadata": {},
   "source": [
    "I first took a look to see if there was a correlation between the amount of owners and collection value, however I should note that like current market value dataset I was limited to looking at just 500000 rows from the total dataset"
   ]
  },
  {
   "cell_type": "code",
   "execution_count": 18,
   "id": "b4b4c3e7-a40a-4f48-8431-f1feb505b55b",
   "metadata": {},
   "outputs": [],
   "source": [
    "df2 = pd.read_sql_query('SELECT * FROM current_owners limit 500000;', db)"
   ]
  },
  {
   "cell_type": "code",
   "execution_count": 105,
   "id": "44f7b380-8ee5-4673-9ad3-94689a20bd1b",
   "metadata": {},
   "outputs": [
    {
     "data": {
      "text/plain": [
       "Index(['nft_address', 'token_id', 'owner'], dtype='object')"
      ]
     },
     "execution_count": 105,
     "metadata": {},
     "output_type": "execute_result"
    }
   ],
   "source": [
    "#hide\n",
    "df2.columns"
   ]
  },
  {
   "cell_type": "code",
   "execution_count": 106,
   "id": "1864464e-a1f8-4331-ad97-d0e71180456b",
   "metadata": {},
   "outputs": [
    {
     "data": {
      "text/html": [
       "<div>\n",
       "<style scoped>\n",
       "    .dataframe tbody tr th:only-of-type {\n",
       "        vertical-align: middle;\n",
       "    }\n",
       "\n",
       "    .dataframe tbody tr th {\n",
       "        vertical-align: top;\n",
       "    }\n",
       "\n",
       "    .dataframe thead th {\n",
       "        text-align: right;\n",
       "    }\n",
       "</style>\n",
       "<table border=\"1\" class=\"dataframe\">\n",
       "  <thead>\n",
       "    <tr style=\"text-align: right;\">\n",
       "      <th></th>\n",
       "      <th>nft_address</th>\n",
       "      <th>token_id</th>\n",
       "      <th>owner</th>\n",
       "    </tr>\n",
       "  </thead>\n",
       "  <tbody>\n",
       "    <tr>\n",
       "      <th>150786</th>\n",
       "      <td>0x059EDD72Cd353dF5106D2B9cC5ab83a52287aC3a</td>\n",
       "      <td>0</td>\n",
       "      <td>0xC896866E927e6F8a416Ba209976115E79fA0a66F</td>\n",
       "    </tr>\n",
       "    <tr>\n",
       "      <th>150787</th>\n",
       "      <td>0x059EDD72Cd353dF5106D2B9cC5ab83a52287aC3a</td>\n",
       "      <td>1</td>\n",
       "      <td>0xC896866E927e6F8a416Ba209976115E79fA0a66F</td>\n",
       "    </tr>\n",
       "    <tr>\n",
       "      <th>150788</th>\n",
       "      <td>0x059EDD72Cd353dF5106D2B9cC5ab83a52287aC3a</td>\n",
       "      <td>10</td>\n",
       "      <td>0x7Fbc25EEDFd1D7F9cE1EC1dB951D22f0a8B0691a</td>\n",
       "    </tr>\n",
       "    <tr>\n",
       "      <th>150789</th>\n",
       "      <td>0x059EDD72Cd353dF5106D2B9cC5ab83a52287aC3a</td>\n",
       "      <td>100</td>\n",
       "      <td>0x4D3DfD28AA35869D52C5cE077Aa36E3944b48d1C</td>\n",
       "    </tr>\n",
       "    <tr>\n",
       "      <th>150790</th>\n",
       "      <td>0x059EDD72Cd353dF5106D2B9cC5ab83a52287aC3a</td>\n",
       "      <td>1000002</td>\n",
       "      <td>0x7Fbc25EEDFd1D7F9cE1EC1dB951D22f0a8B0691a</td>\n",
       "    </tr>\n",
       "    <tr>\n",
       "      <th>...</th>\n",
       "      <td>...</td>\n",
       "      <td>...</td>\n",
       "      <td>...</td>\n",
       "    </tr>\n",
       "    <tr>\n",
       "      <th>156524</th>\n",
       "      <td>0x059EDD72Cd353dF5106D2B9cC5ab83a52287aC3a</td>\n",
       "      <td>992</td>\n",
       "      <td>0x01956B22171782e8D7c47d7dC7Ae371c24AeEe30</td>\n",
       "    </tr>\n",
       "    <tr>\n",
       "      <th>156525</th>\n",
       "      <td>0x059EDD72Cd353dF5106D2B9cC5ab83a52287aC3a</td>\n",
       "      <td>993</td>\n",
       "      <td>0x6E70d217636fEEBF83Ab1cACFdE147d07538526E</td>\n",
       "    </tr>\n",
       "    <tr>\n",
       "      <th>156526</th>\n",
       "      <td>0x059EDD72Cd353dF5106D2B9cC5ab83a52287aC3a</td>\n",
       "      <td>994</td>\n",
       "      <td>0xCF9799f5292BF594D1716E941C67Bf77C29E1a8B</td>\n",
       "    </tr>\n",
       "    <tr>\n",
       "      <th>156527</th>\n",
       "      <td>0x059EDD72Cd353dF5106D2B9cC5ab83a52287aC3a</td>\n",
       "      <td>995</td>\n",
       "      <td>0x26efA48F71252F2F7D6c3927E615e6dfAA96B85D</td>\n",
       "    </tr>\n",
       "    <tr>\n",
       "      <th>156528</th>\n",
       "      <td>0x059EDD72Cd353dF5106D2B9cC5ab83a52287aC3a</td>\n",
       "      <td>997</td>\n",
       "      <td>0x19A0110537e4960c765D6f3Fea9445b022A287f0</td>\n",
       "    </tr>\n",
       "  </tbody>\n",
       "</table>\n",
       "<p>5743 rows × 3 columns</p>\n",
       "</div>"
      ],
      "text/plain": [
       "                                       nft_address token_id  \\\n",
       "150786  0x059EDD72Cd353dF5106D2B9cC5ab83a52287aC3a        0   \n",
       "150787  0x059EDD72Cd353dF5106D2B9cC5ab83a52287aC3a        1   \n",
       "150788  0x059EDD72Cd353dF5106D2B9cC5ab83a52287aC3a       10   \n",
       "150789  0x059EDD72Cd353dF5106D2B9cC5ab83a52287aC3a      100   \n",
       "150790  0x059EDD72Cd353dF5106D2B9cC5ab83a52287aC3a  1000002   \n",
       "...                                            ...      ...   \n",
       "156524  0x059EDD72Cd353dF5106D2B9cC5ab83a52287aC3a      992   \n",
       "156525  0x059EDD72Cd353dF5106D2B9cC5ab83a52287aC3a      993   \n",
       "156526  0x059EDD72Cd353dF5106D2B9cC5ab83a52287aC3a      994   \n",
       "156527  0x059EDD72Cd353dF5106D2B9cC5ab83a52287aC3a      995   \n",
       "156528  0x059EDD72Cd353dF5106D2B9cC5ab83a52287aC3a      997   \n",
       "\n",
       "                                             owner  \n",
       "150786  0xC896866E927e6F8a416Ba209976115E79fA0a66F  \n",
       "150787  0xC896866E927e6F8a416Ba209976115E79fA0a66F  \n",
       "150788  0x7Fbc25EEDFd1D7F9cE1EC1dB951D22f0a8B0691a  \n",
       "150789  0x4D3DfD28AA35869D52C5cE077Aa36E3944b48d1C  \n",
       "150790  0x7Fbc25EEDFd1D7F9cE1EC1dB951D22f0a8B0691a  \n",
       "...                                            ...  \n",
       "156524  0x01956B22171782e8D7c47d7dC7Ae371c24AeEe30  \n",
       "156525  0x6E70d217636fEEBF83Ab1cACFdE147d07538526E  \n",
       "156526  0xCF9799f5292BF594D1716E941C67Bf77C29E1a8B  \n",
       "156527  0x26efA48F71252F2F7D6c3927E615e6dfAA96B85D  \n",
       "156528  0x19A0110537e4960c765D6f3Fea9445b022A287f0  \n",
       "\n",
       "[5743 rows x 3 columns]"
      ]
     },
     "execution_count": 106,
     "metadata": {},
     "output_type": "execute_result"
    }
   ],
   "source": [
    "#collapse-output\n",
    "df2.loc[df2['nft_address'] == '0x059EDD72Cd353dF5106D2B9cC5ab83a52287aC3a']"
   ]
  },
  {
   "cell_type": "code",
   "execution_count": 107,
   "id": "680af6f2-c3d9-4b47-8ec6-ee273ab785cc",
   "metadata": {},
   "outputs": [
    {
     "data": {
      "text/html": [
       "<div>\n",
       "<style scoped>\n",
       "    .dataframe tbody tr th:only-of-type {\n",
       "        vertical-align: middle;\n",
       "    }\n",
       "\n",
       "    .dataframe tbody tr th {\n",
       "        vertical-align: top;\n",
       "    }\n",
       "\n",
       "    .dataframe thead th {\n",
       "        text-align: right;\n",
       "    }\n",
       "</style>\n",
       "<table border=\"1\" class=\"dataframe\">\n",
       "  <thead>\n",
       "    <tr style=\"text-align: right;\">\n",
       "      <th></th>\n",
       "      <th>nft_address</th>\n",
       "      <th>token_id</th>\n",
       "      <th>owner</th>\n",
       "    </tr>\n",
       "  </thead>\n",
       "  <tbody>\n",
       "    <tr>\n",
       "      <th>167660</th>\n",
       "      <td>0x06012c8cf97BEaD5deAe237070F9587f8E7A266d</td>\n",
       "      <td>1000041</td>\n",
       "      <td>0x6C62230f009820a60001a82976234B590e7b2292</td>\n",
       "    </tr>\n",
       "    <tr>\n",
       "      <th>167661</th>\n",
       "      <td>0x06012c8cf97BEaD5deAe237070F9587f8E7A266d</td>\n",
       "      <td>1000043</td>\n",
       "      <td>0xc231593658224CEb4242667F7fFf04b579AEDB98</td>\n",
       "    </tr>\n",
       "    <tr>\n",
       "      <th>167662</th>\n",
       "      <td>0x06012c8cf97BEaD5deAe237070F9587f8E7A266d</td>\n",
       "      <td>1000054</td>\n",
       "      <td>0x2f423Af118b376733B4281e1A48da62465Fc476b</td>\n",
       "    </tr>\n",
       "    <tr>\n",
       "      <th>167663</th>\n",
       "      <td>0x06012c8cf97BEaD5deAe237070F9587f8E7A266d</td>\n",
       "      <td>1000102</td>\n",
       "      <td>0x7B9AB3AeD9582A379dcBc3e1dd28405330dC64D5</td>\n",
       "    </tr>\n",
       "    <tr>\n",
       "      <th>167664</th>\n",
       "      <td>0x06012c8cf97BEaD5deAe237070F9587f8E7A266d</td>\n",
       "      <td>1000238</td>\n",
       "      <td>0xa03Ee697425842Ef74b85C43552609beE34aebFD</td>\n",
       "    </tr>\n",
       "    <tr>\n",
       "      <th>...</th>\n",
       "      <td>...</td>\n",
       "      <td>...</td>\n",
       "      <td>...</td>\n",
       "    </tr>\n",
       "    <tr>\n",
       "      <th>224412</th>\n",
       "      <td>0x06012c8cf97BEaD5deAe237070F9587f8E7A266d</td>\n",
       "      <td>998690</td>\n",
       "      <td>0x12b11cB89Efd6AdF1b56470824f548DC2b93572B</td>\n",
       "    </tr>\n",
       "    <tr>\n",
       "      <th>224413</th>\n",
       "      <td>0x06012c8cf97BEaD5deAe237070F9587f8E7A266d</td>\n",
       "      <td>999470</td>\n",
       "      <td>0x2cBdc108Ea9A35eb9685B8A534A07c714AB3539d</td>\n",
       "    </tr>\n",
       "    <tr>\n",
       "      <th>224414</th>\n",
       "      <td>0x06012c8cf97BEaD5deAe237070F9587f8E7A266d</td>\n",
       "      <td>999691</td>\n",
       "      <td>0x9C6E6e963460Cc027A33744248A177727900a4B8</td>\n",
       "    </tr>\n",
       "    <tr>\n",
       "      <th>224415</th>\n",
       "      <td>0x06012c8cf97BEaD5deAe237070F9587f8E7A266d</td>\n",
       "      <td>999857</td>\n",
       "      <td>0x613d62B1313655E1cA9ED15D2D8B1e2Cb4C0Bcad</td>\n",
       "    </tr>\n",
       "    <tr>\n",
       "      <th>224416</th>\n",
       "      <td>0x06012c8cf97BEaD5deAe237070F9587f8E7A266d</td>\n",
       "      <td>999890</td>\n",
       "      <td>0xd6d3A9D2D44D31D4830760710061bE1920A8eDE1</td>\n",
       "    </tr>\n",
       "  </tbody>\n",
       "</table>\n",
       "<p>56757 rows × 3 columns</p>\n",
       "</div>"
      ],
      "text/plain": [
       "                                       nft_address token_id  \\\n",
       "167660  0x06012c8cf97BEaD5deAe237070F9587f8E7A266d  1000041   \n",
       "167661  0x06012c8cf97BEaD5deAe237070F9587f8E7A266d  1000043   \n",
       "167662  0x06012c8cf97BEaD5deAe237070F9587f8E7A266d  1000054   \n",
       "167663  0x06012c8cf97BEaD5deAe237070F9587f8E7A266d  1000102   \n",
       "167664  0x06012c8cf97BEaD5deAe237070F9587f8E7A266d  1000238   \n",
       "...                                            ...      ...   \n",
       "224412  0x06012c8cf97BEaD5deAe237070F9587f8E7A266d   998690   \n",
       "224413  0x06012c8cf97BEaD5deAe237070F9587f8E7A266d   999470   \n",
       "224414  0x06012c8cf97BEaD5deAe237070F9587f8E7A266d   999691   \n",
       "224415  0x06012c8cf97BEaD5deAe237070F9587f8E7A266d   999857   \n",
       "224416  0x06012c8cf97BEaD5deAe237070F9587f8E7A266d   999890   \n",
       "\n",
       "                                             owner  \n",
       "167660  0x6C62230f009820a60001a82976234B590e7b2292  \n",
       "167661  0xc231593658224CEb4242667F7fFf04b579AEDB98  \n",
       "167662  0x2f423Af118b376733B4281e1A48da62465Fc476b  \n",
       "167663  0x7B9AB3AeD9582A379dcBc3e1dd28405330dC64D5  \n",
       "167664  0xa03Ee697425842Ef74b85C43552609beE34aebFD  \n",
       "...                                            ...  \n",
       "224412  0x12b11cB89Efd6AdF1b56470824f548DC2b93572B  \n",
       "224413  0x2cBdc108Ea9A35eb9685B8A534A07c714AB3539d  \n",
       "224414  0x9C6E6e963460Cc027A33744248A177727900a4B8  \n",
       "224415  0x613d62B1313655E1cA9ED15D2D8B1e2Cb4C0Bcad  \n",
       "224416  0xd6d3A9D2D44D31D4830760710061bE1920A8eDE1  \n",
       "\n",
       "[56757 rows x 3 columns]"
      ]
     },
     "execution_count": 107,
     "metadata": {},
     "output_type": "execute_result"
    }
   ],
   "source": [
    "#collapse-output\n",
    "df2.loc[df2['nft_address'] == '0x06012c8cf97BEaD5deAe237070F9587f8E7A266d']"
   ]
  },
  {
   "cell_type": "code",
   "execution_count": 108,
   "id": "511666e6-d198-4109-9147-b2e951c3cf4c",
   "metadata": {},
   "outputs": [
    {
     "data": {
      "text/html": [
       "<div>\n",
       "<style scoped>\n",
       "    .dataframe tbody tr th:only-of-type {\n",
       "        vertical-align: middle;\n",
       "    }\n",
       "\n",
       "    .dataframe tbody tr th {\n",
       "        vertical-align: top;\n",
       "    }\n",
       "\n",
       "    .dataframe thead th {\n",
       "        text-align: right;\n",
       "    }\n",
       "</style>\n",
       "<table border=\"1\" class=\"dataframe\">\n",
       "  <thead>\n",
       "    <tr style=\"text-align: right;\">\n",
       "      <th></th>\n",
       "      <th>nft_address</th>\n",
       "      <th>token_id</th>\n",
       "      <th>owner</th>\n",
       "    </tr>\n",
       "  </thead>\n",
       "  <tbody>\n",
       "    <tr>\n",
       "      <th>114425</th>\n",
       "      <td>0x0427743DF720801825a5c82e0582B1E915E0F750</td>\n",
       "      <td>100</td>\n",
       "      <td>0x0c3DbcF236282ed1ECa06597D8858CCfBa569c47</td>\n",
       "    </tr>\n",
       "    <tr>\n",
       "      <th>114426</th>\n",
       "      <td>0x0427743DF720801825a5c82e0582B1E915E0F750</td>\n",
       "      <td>101</td>\n",
       "      <td>0xFaF1031B02A994b80f12Cc1ee4C0dCeBbB946aA0</td>\n",
       "    </tr>\n",
       "    <tr>\n",
       "      <th>114427</th>\n",
       "      <td>0x0427743DF720801825a5c82e0582B1E915E0F750</td>\n",
       "      <td>102</td>\n",
       "      <td>0xFe202706E36F31aFBaf4b4543C2A8bBa4ddB2deE</td>\n",
       "    </tr>\n",
       "    <tr>\n",
       "      <th>114428</th>\n",
       "      <td>0x0427743DF720801825a5c82e0582B1E915E0F750</td>\n",
       "      <td>103</td>\n",
       "      <td>0x73FFCe54cE7d21397A7932D9bC2a7e013FF30902</td>\n",
       "    </tr>\n",
       "    <tr>\n",
       "      <th>114429</th>\n",
       "      <td>0x0427743DF720801825a5c82e0582B1E915E0F750</td>\n",
       "      <td>106</td>\n",
       "      <td>0x5E0Ad9C6a1810B6b6c839c3bB71c755A3A29C49f</td>\n",
       "    </tr>\n",
       "    <tr>\n",
       "      <th>...</th>\n",
       "      <td>...</td>\n",
       "      <td>...</td>\n",
       "      <td>...</td>\n",
       "    </tr>\n",
       "    <tr>\n",
       "      <th>114684</th>\n",
       "      <td>0x0427743DF720801825a5c82e0582B1E915E0F750</td>\n",
       "      <td>92</td>\n",
       "      <td>0xE301612b0751f6D862a27BE205fb8e3c40c8C6db</td>\n",
       "    </tr>\n",
       "    <tr>\n",
       "      <th>114685</th>\n",
       "      <td>0x0427743DF720801825a5c82e0582B1E915E0F750</td>\n",
       "      <td>94</td>\n",
       "      <td>0xA947aEBa6697a85BFD845ADC8384cbD1956d74C5</td>\n",
       "    </tr>\n",
       "    <tr>\n",
       "      <th>114686</th>\n",
       "      <td>0x0427743DF720801825a5c82e0582B1E915E0F750</td>\n",
       "      <td>95</td>\n",
       "      <td>0x2e71232E6bc4e41EF0023A3512ECF48D769b207c</td>\n",
       "    </tr>\n",
       "    <tr>\n",
       "      <th>114687</th>\n",
       "      <td>0x0427743DF720801825a5c82e0582B1E915E0F750</td>\n",
       "      <td>97</td>\n",
       "      <td>0x0c3DbcF236282ed1ECa06597D8858CCfBa569c47</td>\n",
       "    </tr>\n",
       "    <tr>\n",
       "      <th>114688</th>\n",
       "      <td>0x0427743DF720801825a5c82e0582B1E915E0F750</td>\n",
       "      <td>99</td>\n",
       "      <td>0xb39fF833f6B42D474Bc649E3f435856c8F0CB426</td>\n",
       "    </tr>\n",
       "  </tbody>\n",
       "</table>\n",
       "<p>264 rows × 3 columns</p>\n",
       "</div>"
      ],
      "text/plain": [
       "                                       nft_address token_id  \\\n",
       "114425  0x0427743DF720801825a5c82e0582B1E915E0F750      100   \n",
       "114426  0x0427743DF720801825a5c82e0582B1E915E0F750      101   \n",
       "114427  0x0427743DF720801825a5c82e0582B1E915E0F750      102   \n",
       "114428  0x0427743DF720801825a5c82e0582B1E915E0F750      103   \n",
       "114429  0x0427743DF720801825a5c82e0582B1E915E0F750      106   \n",
       "...                                            ...      ...   \n",
       "114684  0x0427743DF720801825a5c82e0582B1E915E0F750       92   \n",
       "114685  0x0427743DF720801825a5c82e0582B1E915E0F750       94   \n",
       "114686  0x0427743DF720801825a5c82e0582B1E915E0F750       95   \n",
       "114687  0x0427743DF720801825a5c82e0582B1E915E0F750       97   \n",
       "114688  0x0427743DF720801825a5c82e0582B1E915E0F750       99   \n",
       "\n",
       "                                             owner  \n",
       "114425  0x0c3DbcF236282ed1ECa06597D8858CCfBa569c47  \n",
       "114426  0xFaF1031B02A994b80f12Cc1ee4C0dCeBbB946aA0  \n",
       "114427  0xFe202706E36F31aFBaf4b4543C2A8bBa4ddB2deE  \n",
       "114428  0x73FFCe54cE7d21397A7932D9bC2a7e013FF30902  \n",
       "114429  0x5E0Ad9C6a1810B6b6c839c3bB71c755A3A29C49f  \n",
       "...                                            ...  \n",
       "114684  0xE301612b0751f6D862a27BE205fb8e3c40c8C6db  \n",
       "114685  0xA947aEBa6697a85BFD845ADC8384cbD1956d74C5  \n",
       "114686  0x2e71232E6bc4e41EF0023A3512ECF48D769b207c  \n",
       "114687  0x0c3DbcF236282ed1ECa06597D8858CCfBa569c47  \n",
       "114688  0xb39fF833f6B42D474Bc649E3f435856c8F0CB426  \n",
       "\n",
       "[264 rows x 3 columns]"
      ]
     },
     "execution_count": 108,
     "metadata": {},
     "output_type": "execute_result"
    }
   ],
   "source": [
    "#collapse-output\n",
    "df2.loc[df2['nft_address'] == '0x0427743DF720801825a5c82e0582B1E915E0F750']"
   ]
  },
  {
   "cell_type": "code",
   "execution_count": 133,
   "id": "f7b3a98f-4eb1-4bc8-a6eb-37f560b21c6c",
   "metadata": {},
   "outputs": [
    {
     "data": {
      "text/html": [
       "<div>\n",
       "<style scoped>\n",
       "    .dataframe tbody tr th:only-of-type {\n",
       "        vertical-align: middle;\n",
       "    }\n",
       "\n",
       "    .dataframe tbody tr th {\n",
       "        vertical-align: top;\n",
       "    }\n",
       "\n",
       "    .dataframe thead th {\n",
       "        text-align: right;\n",
       "    }\n",
       "</style>\n",
       "<table border=\"1\" class=\"dataframe\">\n",
       "  <thead>\n",
       "    <tr style=\"text-align: right;\">\n",
       "      <th></th>\n",
       "      <th>nft_address</th>\n",
       "      <th>token_id</th>\n",
       "      <th>owner</th>\n",
       "    </tr>\n",
       "  </thead>\n",
       "  <tbody>\n",
       "    <tr>\n",
       "      <th>484204</th>\n",
       "      <td>0x11595fFB2D3612d810612e34Bc1C2E6D6de55d26</td>\n",
       "      <td>0</td>\n",
       "      <td>0x0000000000000000000000000000000000000000</td>\n",
       "    </tr>\n",
       "    <tr>\n",
       "      <th>484205</th>\n",
       "      <td>0x11595fFB2D3612d810612e34Bc1C2E6D6de55d26</td>\n",
       "      <td>1</td>\n",
       "      <td>0x0000000000000000000000000000000000000000</td>\n",
       "    </tr>\n",
       "    <tr>\n",
       "      <th>484206</th>\n",
       "      <td>0x11595fFB2D3612d810612e34Bc1C2E6D6de55d26</td>\n",
       "      <td>10</td>\n",
       "      <td>0x0000000000000000000000000000000000000000</td>\n",
       "    </tr>\n",
       "    <tr>\n",
       "      <th>484207</th>\n",
       "      <td>0x11595fFB2D3612d810612e34Bc1C2E6D6de55d26</td>\n",
       "      <td>100</td>\n",
       "      <td>0xCe90a7949bb78892F159F428D0dC23a8E3584d75</td>\n",
       "    </tr>\n",
       "    <tr>\n",
       "      <th>484208</th>\n",
       "      <td>0x11595fFB2D3612d810612e34Bc1C2E6D6de55d26</td>\n",
       "      <td>1000</td>\n",
       "      <td>0x0000000000000000000000000000000000000000</td>\n",
       "    </tr>\n",
       "    <tr>\n",
       "      <th>...</th>\n",
       "      <td>...</td>\n",
       "      <td>...</td>\n",
       "      <td>...</td>\n",
       "    </tr>\n",
       "    <tr>\n",
       "      <th>487199</th>\n",
       "      <td>0x11595fFB2D3612d810612e34Bc1C2E6D6de55d26</td>\n",
       "      <td>995</td>\n",
       "      <td>0x0000000000000000000000000000000000000000</td>\n",
       "    </tr>\n",
       "    <tr>\n",
       "      <th>487200</th>\n",
       "      <td>0x11595fFB2D3612d810612e34Bc1C2E6D6de55d26</td>\n",
       "      <td>996</td>\n",
       "      <td>0x0000000000000000000000000000000000000000</td>\n",
       "    </tr>\n",
       "    <tr>\n",
       "      <th>487201</th>\n",
       "      <td>0x11595fFB2D3612d810612e34Bc1C2E6D6de55d26</td>\n",
       "      <td>997</td>\n",
       "      <td>0xAe873595b03b09fBEdF892D3e75636c4d49D523C</td>\n",
       "    </tr>\n",
       "    <tr>\n",
       "      <th>487202</th>\n",
       "      <td>0x11595fFB2D3612d810612e34Bc1C2E6D6de55d26</td>\n",
       "      <td>998</td>\n",
       "      <td>0x6Ec30Fd91A504Aad948839B985C7263888B2Ad68</td>\n",
       "    </tr>\n",
       "    <tr>\n",
       "      <th>487203</th>\n",
       "      <td>0x11595fFB2D3612d810612e34Bc1C2E6D6de55d26</td>\n",
       "      <td>999</td>\n",
       "      <td>0x0000000000000000000000000000000000000000</td>\n",
       "    </tr>\n",
       "  </tbody>\n",
       "</table>\n",
       "<p>3000 rows × 3 columns</p>\n",
       "</div>"
      ],
      "text/plain": [
       "                                       nft_address token_id  \\\n",
       "484204  0x11595fFB2D3612d810612e34Bc1C2E6D6de55d26        0   \n",
       "484205  0x11595fFB2D3612d810612e34Bc1C2E6D6de55d26        1   \n",
       "484206  0x11595fFB2D3612d810612e34Bc1C2E6D6de55d26       10   \n",
       "484207  0x11595fFB2D3612d810612e34Bc1C2E6D6de55d26      100   \n",
       "484208  0x11595fFB2D3612d810612e34Bc1C2E6D6de55d26     1000   \n",
       "...                                            ...      ...   \n",
       "487199  0x11595fFB2D3612d810612e34Bc1C2E6D6de55d26      995   \n",
       "487200  0x11595fFB2D3612d810612e34Bc1C2E6D6de55d26      996   \n",
       "487201  0x11595fFB2D3612d810612e34Bc1C2E6D6de55d26      997   \n",
       "487202  0x11595fFB2D3612d810612e34Bc1C2E6D6de55d26      998   \n",
       "487203  0x11595fFB2D3612d810612e34Bc1C2E6D6de55d26      999   \n",
       "\n",
       "                                             owner  \n",
       "484204  0x0000000000000000000000000000000000000000  \n",
       "484205  0x0000000000000000000000000000000000000000  \n",
       "484206  0x0000000000000000000000000000000000000000  \n",
       "484207  0xCe90a7949bb78892F159F428D0dC23a8E3584d75  \n",
       "484208  0x0000000000000000000000000000000000000000  \n",
       "...                                            ...  \n",
       "487199  0x0000000000000000000000000000000000000000  \n",
       "487200  0x0000000000000000000000000000000000000000  \n",
       "487201  0xAe873595b03b09fBEdF892D3e75636c4d49D523C  \n",
       "487202  0x6Ec30Fd91A504Aad948839B985C7263888B2Ad68  \n",
       "487203  0x0000000000000000000000000000000000000000  \n",
       "\n",
       "[3000 rows x 3 columns]"
      ]
     },
     "execution_count": 133,
     "metadata": {},
     "output_type": "execute_result"
    }
   ],
   "source": [
    "#collapse-output\n",
    "df2.loc[df2['nft_address'] == '0x11595fFB2D3612d810612e34Bc1C2E6D6de55d26']"
   ]
  },
  {
   "cell_type": "code",
   "execution_count": 110,
   "id": "960e585f-77ec-4fc1-a246-142d4a7a1be1",
   "metadata": {},
   "outputs": [
    {
     "data": {
      "text/html": [
       "<div>\n",
       "<style scoped>\n",
       "    .dataframe tbody tr th:only-of-type {\n",
       "        vertical-align: middle;\n",
       "    }\n",
       "\n",
       "    .dataframe tbody tr th {\n",
       "        vertical-align: top;\n",
       "    }\n",
       "\n",
       "    .dataframe thead th {\n",
       "        text-align: right;\n",
       "    }\n",
       "</style>\n",
       "<table border=\"1\" class=\"dataframe\">\n",
       "  <thead>\n",
       "    <tr style=\"text-align: right;\">\n",
       "      <th></th>\n",
       "      <th>nft_address</th>\n",
       "      <th>token_id</th>\n",
       "      <th>owner</th>\n",
       "    </tr>\n",
       "  </thead>\n",
       "  <tbody>\n",
       "    <tr>\n",
       "      <th>157552</th>\n",
       "      <td>0x05a46f1E545526FB803FF974C790aCeA34D1f2D6</td>\n",
       "      <td>1</td>\n",
       "      <td>0x6327343B3a12Fbd25488Da0e82Bd4512aD080423</td>\n",
       "    </tr>\n",
       "    <tr>\n",
       "      <th>157553</th>\n",
       "      <td>0x05a46f1E545526FB803FF974C790aCeA34D1f2D6</td>\n",
       "      <td>10</td>\n",
       "      <td>0xef728Cdeb37A080Ab86312e860A956122D3A6252</td>\n",
       "    </tr>\n",
       "    <tr>\n",
       "      <th>157554</th>\n",
       "      <td>0x05a46f1E545526FB803FF974C790aCeA34D1f2D6</td>\n",
       "      <td>100</td>\n",
       "      <td>0xdA59cf2548c4768f66fA6F078A843C24dE941049</td>\n",
       "    </tr>\n",
       "    <tr>\n",
       "      <th>157555</th>\n",
       "      <td>0x05a46f1E545526FB803FF974C790aCeA34D1f2D6</td>\n",
       "      <td>1000</td>\n",
       "      <td>0xbb38E1c9e6d61B51F2eF5f9290b29e86d9191FDf</td>\n",
       "    </tr>\n",
       "    <tr>\n",
       "      <th>157556</th>\n",
       "      <td>0x05a46f1E545526FB803FF974C790aCeA34D1f2D6</td>\n",
       "      <td>1001</td>\n",
       "      <td>0xE16dF6503Acd3c79b6E032f62c61752bEC16eeF2</td>\n",
       "    </tr>\n",
       "    <tr>\n",
       "      <th>...</th>\n",
       "      <td>...</td>\n",
       "      <td>...</td>\n",
       "      <td>...</td>\n",
       "    </tr>\n",
       "    <tr>\n",
       "      <th>166435</th>\n",
       "      <td>0x05a46f1E545526FB803FF974C790aCeA34D1f2D6</td>\n",
       "      <td>995</td>\n",
       "      <td>0xe5C030D8Af0E024E60bC04fb0240FD470e6Ab28a</td>\n",
       "    </tr>\n",
       "    <tr>\n",
       "      <th>166436</th>\n",
       "      <td>0x05a46f1E545526FB803FF974C790aCeA34D1f2D6</td>\n",
       "      <td>996</td>\n",
       "      <td>0x071666CD02Cc335806bc182b6743EaC0DfB6437e</td>\n",
       "    </tr>\n",
       "    <tr>\n",
       "      <th>166437</th>\n",
       "      <td>0x05a46f1E545526FB803FF974C790aCeA34D1f2D6</td>\n",
       "      <td>997</td>\n",
       "      <td>0x08543f4c79f7e5d585A2622cA485e8201eFd9aDA</td>\n",
       "    </tr>\n",
       "    <tr>\n",
       "      <th>166438</th>\n",
       "      <td>0x05a46f1E545526FB803FF974C790aCeA34D1f2D6</td>\n",
       "      <td>998</td>\n",
       "      <td>0xa8eBe1eeD676d5BfEB7F7B5933625281489aF8A3</td>\n",
       "    </tr>\n",
       "    <tr>\n",
       "      <th>166439</th>\n",
       "      <td>0x05a46f1E545526FB803FF974C790aCeA34D1f2D6</td>\n",
       "      <td>999</td>\n",
       "      <td>0xdA59cf2548c4768f66fA6F078A843C24dE941049</td>\n",
       "    </tr>\n",
       "  </tbody>\n",
       "</table>\n",
       "<p>8888 rows × 3 columns</p>\n",
       "</div>"
      ],
      "text/plain": [
       "                                       nft_address token_id  \\\n",
       "157552  0x05a46f1E545526FB803FF974C790aCeA34D1f2D6        1   \n",
       "157553  0x05a46f1E545526FB803FF974C790aCeA34D1f2D6       10   \n",
       "157554  0x05a46f1E545526FB803FF974C790aCeA34D1f2D6      100   \n",
       "157555  0x05a46f1E545526FB803FF974C790aCeA34D1f2D6     1000   \n",
       "157556  0x05a46f1E545526FB803FF974C790aCeA34D1f2D6     1001   \n",
       "...                                            ...      ...   \n",
       "166435  0x05a46f1E545526FB803FF974C790aCeA34D1f2D6      995   \n",
       "166436  0x05a46f1E545526FB803FF974C790aCeA34D1f2D6      996   \n",
       "166437  0x05a46f1E545526FB803FF974C790aCeA34D1f2D6      997   \n",
       "166438  0x05a46f1E545526FB803FF974C790aCeA34D1f2D6      998   \n",
       "166439  0x05a46f1E545526FB803FF974C790aCeA34D1f2D6      999   \n",
       "\n",
       "                                             owner  \n",
       "157552  0x6327343B3a12Fbd25488Da0e82Bd4512aD080423  \n",
       "157553  0xef728Cdeb37A080Ab86312e860A956122D3A6252  \n",
       "157554  0xdA59cf2548c4768f66fA6F078A843C24dE941049  \n",
       "157555  0xbb38E1c9e6d61B51F2eF5f9290b29e86d9191FDf  \n",
       "157556  0xE16dF6503Acd3c79b6E032f62c61752bEC16eeF2  \n",
       "...                                            ...  \n",
       "166435  0xe5C030D8Af0E024E60bC04fb0240FD470e6Ab28a  \n",
       "166436  0x071666CD02Cc335806bc182b6743EaC0DfB6437e  \n",
       "166437  0x08543f4c79f7e5d585A2622cA485e8201eFd9aDA  \n",
       "166438  0xa8eBe1eeD676d5BfEB7F7B5933625281489aF8A3  \n",
       "166439  0xdA59cf2548c4768f66fA6F078A843C24dE941049  \n",
       "\n",
       "[8888 rows x 3 columns]"
      ]
     },
     "execution_count": 110,
     "metadata": {},
     "output_type": "execute_result"
    }
   ],
   "source": [
    "#collapse-output\n",
    "df2.loc[df2['nft_address'] == '0x05a46f1E545526FB803FF974C790aCeA34D1f2D6']"
   ]
  },
  {
   "cell_type": "code",
   "execution_count": 114,
   "id": "c9b650bd-9e62-43b9-936f-9744602cb659",
   "metadata": {},
   "outputs": [
    {
     "name": "stdout",
     "output_type": "stream",
     "text": [
      "               NFT Collections  Number of Owners\n",
      "0                   Art Blocks              5743\n",
      "1                CryptoKitties             56757\n",
      "2                   0xmons.xyz               264\n",
      "3  Tom Sachs Rocket Components              3000\n",
      "4                            n              8888\n"
     ]
    }
   ],
   "source": [
    "#hide\n",
    "owner_data = {'NFT Collections':['Art Blocks', 'CryptoKitties', '0xmons.xyz', 'Tom Sachs Rocket Components','n'], 'Number of Owners':[5743, 56757, 264, 3000, 8888]}\n",
    "ownersdf = pd.DataFrame(owner_data)\n",
    "print(ownersdf)"
   ]
  },
  {
   "cell_type": "code",
   "execution_count": 146,
   "id": "7a50ef77-69fa-4cd9-b809-dc0de9a49210",
   "metadata": {
    "tags": []
   },
   "outputs": [
    {
     "data": {
      "text/plain": [
       "Text(0, 0.5, 'Collection Owners')"
      ]
     },
     "execution_count": 146,
     "metadata": {},
     "output_type": "execute_result"
    },
    {
     "data": {
      "image/png": "[encoded data removed]",
      "text/plain": [
       "<Figure size 1080x720 with 1 Axes>"
      ]
     },
     "metadata": {
      "needs_background": "light"
     },
     "output_type": "display_data"
    }
   ],
   "source": [
    "#collapse-hide\n",
    "ownersdf.plot(kind='bar', x='NFT Collections', y='Number of Owners', color=['blue', 'orange', 'green', 'red','black'],figsize=(15, 10),legend=False)\n",
    "plt.title('NFT Collection Owners')\n",
    "plt.xlabel('NFT Collections')\n",
    "plt.ylabel('Collection Owners')"
   ]
  },
  {
   "cell_type": "markdown",
   "id": "5298a3e9-7228-4f7d-9e3e-09447576a3b1",
   "metadata": {},
   "source": [
    "# Analytical Process Shift\n",
    "After doing this analysis of current owners for each collection I was able to tell that there was no direct correlation between the number of owners and the value NFT's and so I started to think about the results I would be getting if I continued to analyze the mint costs and transfer count of each collection. So, it was here where I did some more background research on the affect of each factor and found that neither of the factors influence the market value. I learned that by looking at the current owners I would only be seeing how many individual pieces are within the collection, which does not influence the value of a NFT collection. Then, if I did an analysis on the minting cost of NFT's which is a procedure needed to be done in order to further buy or sell the digital object, I would not recieve any correlation either because the minting cost does not affect the NFT value but rather the value of the NFT is what affects the minting cost. Lastly, I found that if I did an analysis on the amount of transfers within a collection I would always end up with a positive correlation between the increase of transfers and increase of value because NFT values automatically increase over time due to the scarcity of the pieces. So, I decided to shift my analysis on comparing the transfers made by owners who hold NFT's within high value collections and owners who hold NFT's within low value collections. By shifting my analytical process to this comparison between owners I knew I would no longer be able to gain insight into the factors that influece increases or decreases within the NFT market, but I would be gaining insight into what the best practices are when obtaining NFT's which should ultimately increase or at the very least maintain my investment.\n",
    "\n",
    "Furthermore, being that I had completed an analysis on the top collections and owners I was still able to use that data to help me explore the transfer dataset which contained the amount of transfer ins and transfer outs made by owners. The 'transfer in' data gave me the total amount of purchases made owners between April 1st and September 25th and the 'transfer out' data gave me the total amount of sells made by owners between April 1st and September 25th. "
   ]
  },
  {
   "cell_type": "markdown",
   "id": "5693f355-27ce-4f3c-ade5-043ac0286234",
   "metadata": {},
   "source": [
    "I continued my analysis by looking at a sample of owner's transfer ins & outs within the 5 high market value collections still utilizing the supplimentary collection and owner data above.  "
   ]
  },
  {
   "cell_type": "code",
   "execution_count": 27,
   "id": "50d46b9c-a710-49fe-9d94-0f339898a022",
   "metadata": {},
   "outputs": [],
   "source": [
    "df3 = pd.read_sql_query('SELECT * FROM transfer_statistics_by_address limit 500000;', db)"
   ]
  },
  {
   "cell_type": "code",
   "execution_count": 122,
   "id": "04dff3a5-76fa-4c49-b5c2-4fb14a1ca751",
   "metadata": {},
   "outputs": [
    {
     "data": {
      "text/plain": [
       "Index(['address', 'transfers_out', 'transfers_in'], dtype='object')"
      ]
     },
     "execution_count": 122,
     "metadata": {},
     "output_type": "execute_result"
    }
   ],
   "source": [
    "#hide\n",
    "df3.columns"
   ]
  },
  {
   "cell_type": "code",
   "execution_count": 123,
   "id": "b536575e-e532-4636-82bf-20811364a7fa",
   "metadata": {},
   "outputs": [
    {
     "data": {
      "text/html": [
       "<div>\n",
       "<style scoped>\n",
       "    .dataframe tbody tr th:only-of-type {\n",
       "        vertical-align: middle;\n",
       "    }\n",
       "\n",
       "    .dataframe tbody tr th {\n",
       "        vertical-align: top;\n",
       "    }\n",
       "\n",
       "    .dataframe thead th {\n",
       "        text-align: right;\n",
       "    }\n",
       "</style>\n",
       "<table border=\"1\" class=\"dataframe\">\n",
       "  <thead>\n",
       "    <tr style=\"text-align: right;\">\n",
       "      <th></th>\n",
       "      <th>address</th>\n",
       "      <th>transfers_out</th>\n",
       "      <th>transfers_in</th>\n",
       "    </tr>\n",
       "  </thead>\n",
       "  <tbody>\n",
       "    <tr>\n",
       "      <th>359240</th>\n",
       "      <td>0xC896866E927e6F8a416Ba209976115E79fA0a66F</td>\n",
       "      <td>0</td>\n",
       "      <td>1700</td>\n",
       "    </tr>\n",
       "  </tbody>\n",
       "</table>\n",
       "</div>"
      ],
      "text/plain": [
       "                                           address  transfers_out  \\\n",
       "359240  0xC896866E927e6F8a416Ba209976115E79fA0a66F              0   \n",
       "\n",
       "        transfers_in  \n",
       "359240          1700  "
      ]
     },
     "execution_count": 123,
     "metadata": {},
     "output_type": "execute_result"
    }
   ],
   "source": [
    "#collapse-output\n",
    "# Adress of Art Blocks NFT Holder\n",
    "df3.loc[df3['address'] == '0xC896866E927e6F8a416Ba209976115E79fA0a66F']"
   ]
  },
  {
   "cell_type": "code",
   "execution_count": 124,
   "id": "622a8f0e-52e6-4c56-a392-096eee493ae3",
   "metadata": {},
   "outputs": [
    {
     "data": {
      "text/html": [
       "<div>\n",
       "<style scoped>\n",
       "    .dataframe tbody tr th:only-of-type {\n",
       "        vertical-align: middle;\n",
       "    }\n",
       "\n",
       "    .dataframe tbody tr th {\n",
       "        vertical-align: top;\n",
       "    }\n",
       "\n",
       "    .dataframe thead th {\n",
       "        text-align: right;\n",
       "    }\n",
       "</style>\n",
       "<table border=\"1\" class=\"dataframe\">\n",
       "  <thead>\n",
       "    <tr style=\"text-align: right;\">\n",
       "      <th></th>\n",
       "      <th>address</th>\n",
       "      <th>transfers_out</th>\n",
       "      <th>transfers_in</th>\n",
       "    </tr>\n",
       "  </thead>\n",
       "  <tbody>\n",
       "    <tr>\n",
       "      <th>213422</th>\n",
       "      <td>0x6C62230f009820a60001a82976234B590e7b2292</td>\n",
       "      <td>0</td>\n",
       "      <td>1855</td>\n",
       "    </tr>\n",
       "  </tbody>\n",
       "</table>\n",
       "</div>"
      ],
      "text/plain": [
       "                                           address  transfers_out  \\\n",
       "213422  0x6C62230f009820a60001a82976234B590e7b2292              0   \n",
       "\n",
       "        transfers_in  \n",
       "213422          1855  "
      ]
     },
     "execution_count": 124,
     "metadata": {},
     "output_type": "execute_result"
    }
   ],
   "source": [
    "#collapse-output\n",
    "# Address of CryptoKitties NFT holder\n",
    "df3.loc[df3['address'] == '0x6C62230f009820a60001a82976234B590e7b2292']"
   ]
  },
  {
   "cell_type": "code",
   "execution_count": 125,
   "id": "70d78d1b-3b2d-42d0-90fd-154414006935",
   "metadata": {},
   "outputs": [
    {
     "data": {
      "text/html": [
       "<div>\n",
       "<style scoped>\n",
       "    .dataframe tbody tr th:only-of-type {\n",
       "        vertical-align: middle;\n",
       "    }\n",
       "\n",
       "    .dataframe tbody tr th {\n",
       "        vertical-align: top;\n",
       "    }\n",
       "\n",
       "    .dataframe thead th {\n",
       "        text-align: right;\n",
       "    }\n",
       "</style>\n",
       "<table border=\"1\" class=\"dataframe\">\n",
       "  <thead>\n",
       "    <tr style=\"text-align: right;\">\n",
       "      <th></th>\n",
       "      <th>address</th>\n",
       "      <th>transfers_out</th>\n",
       "      <th>transfers_in</th>\n",
       "    </tr>\n",
       "  </thead>\n",
       "  <tbody>\n",
       "    <tr>\n",
       "      <th>28656</th>\n",
       "      <td>0x0c3DbcF236282ed1ECa06597D8858CCfBa569c47</td>\n",
       "      <td>6</td>\n",
       "      <td>50</td>\n",
       "    </tr>\n",
       "  </tbody>\n",
       "</table>\n",
       "</div>"
      ],
      "text/plain": [
       "                                          address  transfers_out  transfers_in\n",
       "28656  0x0c3DbcF236282ed1ECa06597D8858CCfBa569c47              6            50"
      ]
     },
     "execution_count": 125,
     "metadata": {},
     "output_type": "execute_result"
    }
   ],
   "source": [
    "#collapse-output\n",
    "# Address of 0xymons.xyz NFT holder\n",
    "df3.loc[df3['address'] == '0x0c3DbcF236282ed1ECa06597D8858CCfBa569c47']"
   ]
  },
  {
   "cell_type": "code",
   "execution_count": 126,
   "id": "8b1e70e1-0f8c-411b-a46f-5d50f39d77b3",
   "metadata": {},
   "outputs": [
    {
     "data": {
      "text/html": [
       "<div>\n",
       "<style scoped>\n",
       "    .dataframe tbody tr th:only-of-type {\n",
       "        vertical-align: middle;\n",
       "    }\n",
       "\n",
       "    .dataframe tbody tr th {\n",
       "        vertical-align: top;\n",
       "    }\n",
       "\n",
       "    .dataframe thead th {\n",
       "        text-align: right;\n",
       "    }\n",
       "</style>\n",
       "<table border=\"1\" class=\"dataframe\">\n",
       "  <thead>\n",
       "    <tr style=\"text-align: right;\">\n",
       "      <th></th>\n",
       "      <th>address</th>\n",
       "      <th>transfers_out</th>\n",
       "      <th>transfers_in</th>\n",
       "    </tr>\n",
       "  </thead>\n",
       "  <tbody>\n",
       "    <tr>\n",
       "      <th>365789</th>\n",
       "      <td>0xCe90a7949bb78892F159F428D0dC23a8E3584d75</td>\n",
       "      <td>0</td>\n",
       "      <td>189</td>\n",
       "    </tr>\n",
       "  </tbody>\n",
       "</table>\n",
       "</div>"
      ],
      "text/plain": [
       "                                           address  transfers_out  \\\n",
       "365789  0xCe90a7949bb78892F159F428D0dC23a8E3584d75              0   \n",
       "\n",
       "        transfers_in  \n",
       "365789           189  "
      ]
     },
     "execution_count": 126,
     "metadata": {},
     "output_type": "execute_result"
    }
   ],
   "source": [
    "#collapse-output\n",
    "# Address of Tom Sachs Rocket Component NFT holder\n",
    "df3.loc[df3['address'] == '0xCe90a7949bb78892F159F428D0dC23a8E3584d75']"
   ]
  },
  {
   "cell_type": "code",
   "execution_count": 149,
   "id": "264e8b6c-ad77-4aec-afc2-f179dee9157a",
   "metadata": {},
   "outputs": [
    {
     "data": {
      "text/html": [
       "<div>\n",
       "<style scoped>\n",
       "    .dataframe tbody tr th:only-of-type {\n",
       "        vertical-align: middle;\n",
       "    }\n",
       "\n",
       "    .dataframe tbody tr th {\n",
       "        vertical-align: top;\n",
       "    }\n",
       "\n",
       "    .dataframe thead th {\n",
       "        text-align: right;\n",
       "    }\n",
       "</style>\n",
       "<table border=\"1\" class=\"dataframe\">\n",
       "  <thead>\n",
       "    <tr style=\"text-align: right;\">\n",
       "      <th></th>\n",
       "      <th>address</th>\n",
       "      <th>transfers_out</th>\n",
       "      <th>transfers_in</th>\n",
       "    </tr>\n",
       "  </thead>\n",
       "  <tbody>\n",
       "    <tr>\n",
       "      <th>493386</th>\n",
       "      <td>0xef728Cdeb37A080Ab86312e860A956122D3A6252</td>\n",
       "      <td>22</td>\n",
       "      <td>30</td>\n",
       "    </tr>\n",
       "  </tbody>\n",
       "</table>\n",
       "</div>"
      ],
      "text/plain": [
       "                                           address  transfers_out  \\\n",
       "493386  0xef728Cdeb37A080Ab86312e860A956122D3A6252             22   \n",
       "\n",
       "        transfers_in  \n",
       "493386            30  "
      ]
     },
     "execution_count": 149,
     "metadata": {},
     "output_type": "execute_result"
    }
   ],
   "source": [
    "#collapse-output\n",
    "# Address of N NFT holder\n",
    "df3.loc[df3['address'] == '0xef728Cdeb37A080Ab86312e860A956122D3A6252']"
   ]
  },
  {
   "cell_type": "markdown",
   "id": "026377c6-5eb7-4976-9142-90efaab849e3",
   "metadata": {},
   "source": [
    "## Low Market Value NFT Collections"
   ]
  },
  {
   "cell_type": "code",
   "execution_count": 128,
   "id": "4bc08191-dcf9-446b-bca9-39f0f2019f5f",
   "metadata": {},
   "outputs": [
    {
     "data": {
      "text/html": [
       "<div>\n",
       "<style scoped>\n",
       "    .dataframe tbody tr th:only-of-type {\n",
       "        vertical-align: middle;\n",
       "    }\n",
       "\n",
       "    .dataframe tbody tr th {\n",
       "        vertical-align: top;\n",
       "    }\n",
       "\n",
       "    .dataframe thead th {\n",
       "        text-align: right;\n",
       "    }\n",
       "</style>\n",
       "<table border=\"1\" class=\"dataframe\">\n",
       "  <thead>\n",
       "    <tr style=\"text-align: right;\">\n",
       "      <th></th>\n",
       "      <th>market_value</th>\n",
       "    </tr>\n",
       "  </thead>\n",
       "  <tbody>\n",
       "    <tr>\n",
       "      <th>count</th>\n",
       "      <td>2.500000e+05</td>\n",
       "    </tr>\n",
       "    <tr>\n",
       "      <th>mean</th>\n",
       "      <td>6.144561e+15</td>\n",
       "    </tr>\n",
       "    <tr>\n",
       "      <th>std</th>\n",
       "      <td>1.265567e+16</td>\n",
       "    </tr>\n",
       "    <tr>\n",
       "      <th>min</th>\n",
       "      <td>0.000000e+00</td>\n",
       "    </tr>\n",
       "    <tr>\n",
       "      <th>25%</th>\n",
       "      <td>0.000000e+00</td>\n",
       "    </tr>\n",
       "    <tr>\n",
       "      <th>50%</th>\n",
       "      <td>0.000000e+00</td>\n",
       "    </tr>\n",
       "    <tr>\n",
       "      <th>75%</th>\n",
       "      <td>4.993869e+15</td>\n",
       "    </tr>\n",
       "    <tr>\n",
       "      <th>max</th>\n",
       "      <td>5.000000e+16</td>\n",
       "    </tr>\n",
       "  </tbody>\n",
       "</table>\n",
       "</div>"
      ],
      "text/plain": [
       "       market_value\n",
       "count  2.500000e+05\n",
       "mean   6.144561e+15\n",
       "std    1.265567e+16\n",
       "min    0.000000e+00\n",
       "25%    0.000000e+00\n",
       "50%    0.000000e+00\n",
       "75%    4.993869e+15\n",
       "max    5.000000e+16"
      ]
     },
     "execution_count": 128,
     "metadata": {},
     "output_type": "execute_result"
    }
   ],
   "source": [
    "#hide\n",
    "a.tail(250000).describe()"
   ]
  },
  {
   "cell_type": "markdown",
   "id": "a895c951-2315-4861-ab0f-35accec7168a",
   "metadata": {},
   "source": [
    "Once I had all the transfer data for the high value collection owners I then moved on to running the same analysis for the low value NFT collections. However, for these the I had to include the bottom 250000 nft collections in the descriptive statistics because if I would've included the bottom 60 like I did for the high value collections I would've gotten an output that only contained NFT values less than $50 which also did not contain the bottom 5 value collections I was looking for. "
   ]
  },
  {
   "cell_type": "markdown",
   "id": "2b0ddc8c-6955-4b04-a798-c13adc28f216",
   "metadata": {},
   "source": [
    "Market value box plot of the bottom 250,000 NFT Collections"
   ]
  },
  {
   "cell_type": "code",
   "execution_count": 130,
   "id": "9c38681d-f642-4099-a282-f42a4a92392d",
   "metadata": {},
   "outputs": [
    {
     "data": {
      "text/plain": [
       "<AxesSubplot:>"
      ]
     },
     "execution_count": 130,
     "metadata": {},
     "output_type": "execute_result"
    },
    {
     "data": {
      "image/png": "[encoded data removed]",
      "text/plain": [
       "<Figure size 540x252 with 1 Axes>"
      ]
     },
     "metadata": {
      "needs_background": "light"
     },
     "output_type": "display_data"
    }
   ],
   "source": [
    "#hide-input\n",
    "a.tail(250000).describe().plot(kind='box')"
   ]
  },
  {
   "cell_type": "code",
   "execution_count": 132,
   "id": "ef70575c-d3a2-4c3a-bced-8d1958cd2b47",
   "metadata": {
    "tags": []
   },
   "outputs": [
    {
     "data": {
      "text/html": [
       "<div>\n",
       "<style scoped>\n",
       "    .dataframe tbody tr th:only-of-type {\n",
       "        vertical-align: middle;\n",
       "    }\n",
       "\n",
       "    .dataframe tbody tr th {\n",
       "        vertical-align: top;\n",
       "    }\n",
       "\n",
       "    .dataframe thead th {\n",
       "        text-align: right;\n",
       "    }\n",
       "</style>\n",
       "<table border=\"1\" class=\"dataframe\">\n",
       "  <thead>\n",
       "    <tr style=\"text-align: right;\">\n",
       "      <th></th>\n",
       "      <th>nft_address</th>\n",
       "      <th>token_id</th>\n",
       "      <th>market_value</th>\n",
       "    </tr>\n",
       "  </thead>\n",
       "  <tbody>\n",
       "    <tr>\n",
       "      <th>283756</th>\n",
       "      <td>0x07a13eea351D501cFedf96BDA8528bBC71CA5D80</td>\n",
       "      <td>2739</td>\n",
       "      <td>5.000000e+16</td>\n",
       "    </tr>\n",
       "    <tr>\n",
       "      <th>442734</th>\n",
       "      <td>0x0FD644BeA6Db6736A77c155d343FCC7747b837d6</td>\n",
       "      <td>4514</td>\n",
       "      <td>5.000000e+16</td>\n",
       "    </tr>\n",
       "    <tr>\n",
       "      <th>283757</th>\n",
       "      <td>0x07a13eea351D501cFedf96BDA8528bBC71CA5D80</td>\n",
       "      <td>274</td>\n",
       "      <td>5.000000e+16</td>\n",
       "    </tr>\n",
       "    <tr>\n",
       "      <th>283758</th>\n",
       "      <td>0x07a13eea351D501cFedf96BDA8528bBC71CA5D80</td>\n",
       "      <td>2740</td>\n",
       "      <td>5.000000e+16</td>\n",
       "    </tr>\n",
       "    <tr>\n",
       "      <th>283759</th>\n",
       "      <td>0x07a13eea351D501cFedf96BDA8528bBC71CA5D80</td>\n",
       "      <td>2741</td>\n",
       "      <td>5.000000e+16</td>\n",
       "    </tr>\n",
       "    <tr>\n",
       "      <th>...</th>\n",
       "      <td>...</td>\n",
       "      <td>...</td>\n",
       "      <td>...</td>\n",
       "    </tr>\n",
       "    <tr>\n",
       "      <th>184065</th>\n",
       "      <td>0x06012c8cf97BEaD5deAe237070F9587f8E7A266d</td>\n",
       "      <td>1558251</td>\n",
       "      <td>0.000000e+00</td>\n",
       "    </tr>\n",
       "    <tr>\n",
       "      <th>184064</th>\n",
       "      <td>0x06012c8cf97BEaD5deAe237070F9587f8E7A266d</td>\n",
       "      <td>1558249</td>\n",
       "      <td>0.000000e+00</td>\n",
       "    </tr>\n",
       "    <tr>\n",
       "      <th>184062</th>\n",
       "      <td>0x06012c8cf97BEaD5deAe237070F9587f8E7A266d</td>\n",
       "      <td>1558230</td>\n",
       "      <td>0.000000e+00</td>\n",
       "    </tr>\n",
       "    <tr>\n",
       "      <th>184061</th>\n",
       "      <td>0x06012c8cf97BEaD5deAe237070F9587f8E7A266d</td>\n",
       "      <td>1558104</td>\n",
       "      <td>0.000000e+00</td>\n",
       "    </tr>\n",
       "    <tr>\n",
       "      <th>499999</th>\n",
       "      <td>0x125Ecab9FdC132cAd4D6C055b9381AaD60efAF3D</td>\n",
       "      <td>1715</td>\n",
       "      <td>0.000000e+00</td>\n",
       "    </tr>\n",
       "  </tbody>\n",
       "</table>\n",
       "<p>250000 rows × 3 columns</p>\n",
       "</div>"
      ],
      "text/plain": [
       "                                       nft_address token_id  market_value\n",
       "283756  0x07a13eea351D501cFedf96BDA8528bBC71CA5D80     2739  5.000000e+16\n",
       "442734  0x0FD644BeA6Db6736A77c155d343FCC7747b837d6     4514  5.000000e+16\n",
       "283757  0x07a13eea351D501cFedf96BDA8528bBC71CA5D80      274  5.000000e+16\n",
       "283758  0x07a13eea351D501cFedf96BDA8528bBC71CA5D80     2740  5.000000e+16\n",
       "283759  0x07a13eea351D501cFedf96BDA8528bBC71CA5D80     2741  5.000000e+16\n",
       "...                                            ...      ...           ...\n",
       "184065  0x06012c8cf97BEaD5deAe237070F9587f8E7A266d  1558251  0.000000e+00\n",
       "184064  0x06012c8cf97BEaD5deAe237070F9587f8E7A266d  1558249  0.000000e+00\n",
       "184062  0x06012c8cf97BEaD5deAe237070F9587f8E7A266d  1558230  0.000000e+00\n",
       "184061  0x06012c8cf97BEaD5deAe237070F9587f8E7A266d  1558104  0.000000e+00\n",
       "499999  0x125Ecab9FdC132cAd4D6C055b9381AaD60efAF3D     1715  0.000000e+00\n",
       "\n",
       "[250000 rows x 3 columns]"
      ]
     },
     "execution_count": 132,
     "metadata": {},
     "output_type": "execute_result"
    }
   ],
   "source": [
    "#hide\n",
    "a.tail(250000)"
   ]
  },
  {
   "cell_type": "markdown",
   "id": "bba1332f-8406-4d68-ac4e-280ab327bf17",
   "metadata": {},
   "source": [
    "I then ran the tail of the NFT dataframe to find the bottom 5 NFT collections\n",
    "and then I located the NFT address of the bottom 5 collections within the NFT dataset to get a clear list of the names."
   ]
  },
  {
   "cell_type": "code",
   "execution_count": 134,
   "id": "e1ee04b8-223c-4bbf-b541-52fe8bd73967",
   "metadata": {},
   "outputs": [
    {
     "data": {
      "text/html": [
       "<div>\n",
       "<style scoped>\n",
       "    .dataframe tbody tr th:only-of-type {\n",
       "        vertical-align: middle;\n",
       "    }\n",
       "\n",
       "    .dataframe tbody tr th {\n",
       "        vertical-align: top;\n",
       "    }\n",
       "\n",
       "    .dataframe thead th {\n",
       "        text-align: right;\n",
       "    }\n",
       "</style>\n",
       "<table border=\"1\" class=\"dataframe\">\n",
       "  <thead>\n",
       "    <tr style=\"text-align: right;\">\n",
       "      <th></th>\n",
       "      <th>address</th>\n",
       "      <th>name</th>\n",
       "      <th>symbol</th>\n",
       "    </tr>\n",
       "  </thead>\n",
       "  <tbody>\n",
       "    <tr>\n",
       "      <th>1427</th>\n",
       "      <td>0x05cd72B0b8Becf4D7105bDc6fcaea758FD73C7E7</td>\n",
       "      <td>HedgehogsInSocks</td>\n",
       "      <td>HEDGEHOGS</td>\n",
       "    </tr>\n",
       "  </tbody>\n",
       "</table>\n",
       "</div>"
      ],
      "text/plain": [
       "                                         address              name     symbol\n",
       "1427  0x05cd72B0b8Becf4D7105bDc6fcaea758FD73C7E7  HedgehogsInSocks  HEDGEHOGS"
      ]
     },
     "execution_count": 134,
     "metadata": {},
     "output_type": "execute_result"
    }
   ],
   "source": [
    "#collapse-output\n",
    "df1.loc[df1['address'] == '0x05cd72B0b8Becf4D7105bDc6fcaea758FD73C7E7']"
   ]
  },
  {
   "cell_type": "code",
   "execution_count": 135,
   "id": "dc96f990-c948-46d1-8900-cda3379198ce",
   "metadata": {},
   "outputs": [
    {
     "data": {
      "text/html": [
       "<div>\n",
       "<style scoped>\n",
       "    .dataframe tbody tr th:only-of-type {\n",
       "        vertical-align: middle;\n",
       "    }\n",
       "\n",
       "    .dataframe tbody tr th {\n",
       "        vertical-align: top;\n",
       "    }\n",
       "\n",
       "    .dataframe thead th {\n",
       "        text-align: right;\n",
       "    }\n",
       "</style>\n",
       "<table border=\"1\" class=\"dataframe\">\n",
       "  <thead>\n",
       "    <tr style=\"text-align: right;\">\n",
       "      <th></th>\n",
       "      <th>address</th>\n",
       "      <th>name</th>\n",
       "      <th>symbol</th>\n",
       "    </tr>\n",
       "  </thead>\n",
       "  <tbody>\n",
       "    <tr>\n",
       "      <th>5011</th>\n",
       "      <td>0x125Ecab9FdC132cAd4D6C055b9381AaD60efAF3D</td>\n",
       "      <td>MONSTER MOBS</td>\n",
       "      <td>MONSTERMOBS</td>\n",
       "    </tr>\n",
       "  </tbody>\n",
       "</table>\n",
       "</div>"
      ],
      "text/plain": [
       "                                         address          name       symbol\n",
       "5011  0x125Ecab9FdC132cAd4D6C055b9381AaD60efAF3D  MONSTER MOBS  MONSTERMOBS"
      ]
     },
     "execution_count": 135,
     "metadata": {},
     "output_type": "execute_result"
    }
   ],
   "source": [
    "#collapse-output\n",
    "df1.loc[df1['address'] == '0x125Ecab9FdC132cAd4D6C055b9381AaD60efAF3D']"
   ]
  },
  {
   "cell_type": "code",
   "execution_count": 136,
   "id": "f6758fbe-460c-4956-a4ab-b7e17c40ec6d",
   "metadata": {},
   "outputs": [
    {
     "data": {
      "text/html": [
       "<div>\n",
       "<style scoped>\n",
       "    .dataframe tbody tr th:only-of-type {\n",
       "        vertical-align: middle;\n",
       "    }\n",
       "\n",
       "    .dataframe tbody tr th {\n",
       "        vertical-align: top;\n",
       "    }\n",
       "\n",
       "    .dataframe thead th {\n",
       "        text-align: right;\n",
       "    }\n",
       "</style>\n",
       "<table border=\"1\" class=\"dataframe\">\n",
       "  <thead>\n",
       "    <tr style=\"text-align: right;\">\n",
       "      <th></th>\n",
       "      <th>address</th>\n",
       "      <th>name</th>\n",
       "      <th>symbol</th>\n",
       "    </tr>\n",
       "  </thead>\n",
       "  <tbody>\n",
       "    <tr>\n",
       "      <th>3597</th>\n",
       "      <td>0x08Da8a11C9b3A35D715B5da5B3E4661929490F53</td>\n",
       "      <td>ManekiGang</td>\n",
       "      <td>MKGG</td>\n",
       "    </tr>\n",
       "  </tbody>\n",
       "</table>\n",
       "</div>"
      ],
      "text/plain": [
       "                                         address        name symbol\n",
       "3597  0x08Da8a11C9b3A35D715B5da5B3E4661929490F53  ManekiGang   MKGG"
      ]
     },
     "execution_count": 136,
     "metadata": {},
     "output_type": "execute_result"
    }
   ],
   "source": [
    "#collapse-output\n",
    "df1.loc[df1['address'] == '0x08Da8a11C9b3A35D715B5da5B3E4661929490F53']"
   ]
  },
  {
   "cell_type": "code",
   "execution_count": 137,
   "id": "af3f701c-f2a6-4555-ba24-7878cb8c7ad2",
   "metadata": {
    "tags": []
   },
   "outputs": [
    {
     "data": {
      "text/html": [
       "<div>\n",
       "<style scoped>\n",
       "    .dataframe tbody tr th:only-of-type {\n",
       "        vertical-align: middle;\n",
       "    }\n",
       "\n",
       "    .dataframe tbody tr th {\n",
       "        vertical-align: top;\n",
       "    }\n",
       "\n",
       "    .dataframe thead th {\n",
       "        text-align: right;\n",
       "    }\n",
       "</style>\n",
       "<table border=\"1\" class=\"dataframe\">\n",
       "  <thead>\n",
       "    <tr style=\"text-align: right;\">\n",
       "      <th></th>\n",
       "      <th>address</th>\n",
       "      <th>name</th>\n",
       "      <th>symbol</th>\n",
       "    </tr>\n",
       "  </thead>\n",
       "  <tbody>\n",
       "    <tr>\n",
       "      <th>535</th>\n",
       "      <td>0x066f2D5ead7951F0d0038C19AffD500B9F02c0e5</td>\n",
       "      <td>CryptoJanky</td>\n",
       "      <td>JNK</td>\n",
       "    </tr>\n",
       "  </tbody>\n",
       "</table>\n",
       "</div>"
      ],
      "text/plain": [
       "                                        address         name symbol\n",
       "535  0x066f2D5ead7951F0d0038C19AffD500B9F02c0e5  CryptoJanky    JNK"
      ]
     },
     "execution_count": 137,
     "metadata": {},
     "output_type": "execute_result"
    }
   ],
   "source": [
    "#collapse-output\n",
    "df1.loc[df1['address'] == '0x066f2D5ead7951F0d0038C19AffD500B9F02c0e5']"
   ]
  },
  {
   "cell_type": "code",
   "execution_count": 138,
   "id": "b5c852de-c80c-4cf8-99bf-24ef57989ce1",
   "metadata": {},
   "outputs": [
    {
     "data": {
      "text/html": [
       "<div>\n",
       "<style scoped>\n",
       "    .dataframe tbody tr th:only-of-type {\n",
       "        vertical-align: middle;\n",
       "    }\n",
       "\n",
       "    .dataframe tbody tr th {\n",
       "        vertical-align: top;\n",
       "    }\n",
       "\n",
       "    .dataframe thead th {\n",
       "        text-align: right;\n",
       "    }\n",
       "</style>\n",
       "<table border=\"1\" class=\"dataframe\">\n",
       "  <thead>\n",
       "    <tr style=\"text-align: right;\">\n",
       "      <th></th>\n",
       "      <th>address</th>\n",
       "      <th>name</th>\n",
       "      <th>symbol</th>\n",
       "    </tr>\n",
       "  </thead>\n",
       "  <tbody>\n",
       "    <tr>\n",
       "      <th>5471</th>\n",
       "      <td>0x08f0B2A4351514E63E9E03A661aDFe58D463CfBc</td>\n",
       "      <td>TheProjectURS</td>\n",
       "      <td>URS</td>\n",
       "    </tr>\n",
       "  </tbody>\n",
       "</table>\n",
       "</div>"
      ],
      "text/plain": [
       "                                         address           name symbol\n",
       "5471  0x08f0B2A4351514E63E9E03A661aDFe58D463CfBc  TheProjectURS    URS"
      ]
     },
     "execution_count": 138,
     "metadata": {},
     "output_type": "execute_result"
    }
   ],
   "source": [
    "#collapse-output\n",
    "df1.loc[df1['address'] == '0x08f0B2A4351514E63E9E03A661aDFe58D463CfBc']"
   ]
  },
  {
   "cell_type": "markdown",
   "id": "78586c2e-5325-448f-a750-225348892802",
   "metadata": {},
   "source": [
    "I then created the bubble chart showing the bottom 5 valued NFT collections"
   ]
  },
  {
   "cell_type": "code",
   "execution_count": 139,
   "id": "9ca68ac5-543a-4c27-a8a8-a4e77e33ba26",
   "metadata": {},
   "outputs": [
    {
     "data": {
      "application/vnd.plotly.v1+json": {
       "config": {
        "plotlyServerURL": "https://plot.ly"
       },
       "data": [
        {
         "marker": {
          "color": [
           "red",
           "pink",
           "yellow",
           "purple",
           "brown"
          ],
          "size": [
           120,
           100,
           80,
           60,
           40
          ]
         },
         "mode": "markers",
         "text": [
          "HedgehogsInSocks",
          "MONSTER MOBS",
          "ManekiGang",
          "CryptoJanky",
          "TheProjectURS"
         ],
         "type": "scatter",
         "x": [
          1,
          2,
          3,
          4,
          5
         ],
         "y": [
          5,
          4,
          3,
          2,
          1
         ]
        }
       ],
       "layout": {
        "autosize": true,
        "template": {
         "data": {
          "bar": [
           {
            "error_x": {
             "color": "#2a3f5f"
            },
            "error_y": {
             "color": "#2a3f5f"
            },
            "marker": {
             "line": {
              "color": "#E5ECF6",
              "width": 0.5
             },
             "pattern": {
              "fillmode": "overlay",
              "size": 10,
              "solidity": 0.2
             }
            },
            "type": "bar"
           }
          ],
          "barpolar": [
           {
            "marker": {
             "line": {
              "color": "#E5ECF6",
              "width": 0.5
             },
             "pattern": {
              "fillmode": "overlay",
              "size": 10,
              "solidity": 0.2
             }
            },
            "type": "barpolar"
           }
          ],
          "carpet": [
           {
            "aaxis": {
             "endlinecolor": "#2a3f5f",
             "gridcolor": "white",
             "linecolor": "white",
             "minorgridcolor": "white",
             "startlinecolor": "#2a3f5f"
            },
            "baxis": {
             "endlinecolor": "#2a3f5f",
             "gridcolor": "white",
             "linecolor": "white",
             "minorgridcolor": "white",
             "startlinecolor": "#2a3f5f"
            },
            "type": "carpet"
           }
          ],
          "choropleth": [
           {
            "colorbar": {
             "outlinewidth": 0,
             "ticks": ""
            },
            "type": "choropleth"
           }
          ],
          "contour": [
           {
            "colorbar": {
             "outlinewidth": 0,
             "ticks": ""
            },
            "colorscale": [
             [
              0,
              "#0d0887"
             ],
             [
              0.1111111111111111,
              "#46039f"
             ],
             [
              0.2222222222222222,
              "#7201a8"
             ],
             [
              0.3333333333333333,
              "#9c179e"
             ],
             [
              0.4444444444444444,
              "#bd3786"
             ],
             [
              0.5555555555555556,
              "#d8576b"
             ],
             [
              0.6666666666666666,
              "#ed7953"
             ],
             [
              0.7777777777777778,
              "#fb9f3a"
             ],
             [
              0.8888888888888888,
              "#fdca26"
             ],
             [
              1,
              "#f0f921"
             ]
            ],
            "type": "contour"
           }
          ],
          "contourcarpet": [
           {
            "colorbar": {
             "outlinewidth": 0,
             "ticks": ""
            },
            "type": "contourcarpet"
           }
          ],
          "heatmap": [
           {
            "colorbar": {
             "outlinewidth": 0,
             "ticks": ""
            },
            "colorscale": [
             [
              0,
              "#0d0887"
             ],
             [
              0.1111111111111111,
              "#46039f"
             ],
             [
              0.2222222222222222,
              "#7201a8"
             ],
             [
              0.3333333333333333,
              "#9c179e"
             ],
             [
              0.4444444444444444,
              "#bd3786"
             ],
             [
              0.5555555555555556,
              "#d8576b"
             ],
             [
              0.6666666666666666,
              "#ed7953"
             ],
             [
              0.7777777777777778,
              "#fb9f3a"
             ],
             [
              0.8888888888888888,
              "#fdca26"
             ],
             [
              1,
              "#f0f921"
             ]
            ],
            "type": "heatmap"
           }
          ],
          "heatmapgl": [
           {
            "colorbar": {
             "outlinewidth": 0,
             "ticks": ""
            },
            "colorscale": [
             [
              0,
              "#0d0887"
             ],
             [
              0.1111111111111111,
              "#46039f"
             ],
             [
              0.2222222222222222,
              "#7201a8"
             ],
             [
              0.3333333333333333,
              "#9c179e"
             ],
             [
              0.4444444444444444,
              "#bd3786"
             ],
             [
              0.5555555555555556,
              "#d8576b"
             ],
             [
              0.6666666666666666,
              "#ed7953"
             ],
             [
              0.7777777777777778,
              "#fb9f3a"
             ],
             [
              0.8888888888888888,
              "#fdca26"
             ],
             [
              1,
              "#f0f921"
             ]
            ],
            "type": "heatmapgl"
           }
          ],
          "histogram": [
           {
            "marker": {
             "pattern": {
              "fillmode": "overlay",
              "size": 10,
              "solidity": 0.2
             }
            },
            "type": "histogram"
           }
          ],
          "histogram2d": [
           {
            "colorbar": {
             "outlinewidth": 0,
             "ticks": ""
            },
            "colorscale": [
             [
              0,
              "#0d0887"
             ],
             [
              0.1111111111111111,
              "#46039f"
             ],
             [
              0.2222222222222222,
              "#7201a8"
             ],
             [
              0.3333333333333333,
              "#9c179e"
             ],
             [
              0.4444444444444444,
              "#bd3786"
             ],
             [
              0.5555555555555556,
              "#d8576b"
             ],
             [
              0.6666666666666666,
              "#ed7953"
             ],
             [
              0.7777777777777778,
              "#fb9f3a"
             ],
             [
              0.8888888888888888,
              "#fdca26"
             ],
             [
              1,
              "#f0f921"
             ]
            ],
            "type": "histogram2d"
           }
          ],
          "histogram2dcontour": [
           {
            "colorbar": {
             "outlinewidth": 0,
             "ticks": ""
            },
            "colorscale": [
             [
              0,
              "#0d0887"
             ],
             [
              0.1111111111111111,
              "#46039f"
             ],
             [
              0.2222222222222222,
              "#7201a8"
             ],
             [
              0.3333333333333333,
              "#9c179e"
             ],
             [
              0.4444444444444444,
              "#bd3786"
             ],
             [
              0.5555555555555556,
              "#d8576b"
             ],
             [
              0.6666666666666666,
              "#ed7953"
             ],
             [
              0.7777777777777778,
              "#fb9f3a"
             ],
             [
              0.8888888888888888,
              "#fdca26"
             ],
             [
              1,
              "#f0f921"
             ]
            ],
            "type": "histogram2dcontour"
           }
          ],
          "mesh3d": [
           {
            "colorbar": {
             "outlinewidth": 0,
             "ticks": ""
            },
            "type": "mesh3d"
           }
          ],
          "parcoords": [
           {
            "line": {
             "colorbar": {
              "outlinewidth": 0,
              "ticks": ""
             }
            },
            "type": "parcoords"
           }
          ],
          "pie": [
           {
            "automargin": true,
            "type": "pie"
           }
          ],
          "scatter": [
           {
            "marker": {
             "colorbar": {
              "outlinewidth": 0,
              "ticks": ""
             }
            },
            "type": "scatter"
           }
          ],
          "scatter3d": [
           {
            "line": {
             "colorbar": {
              "outlinewidth": 0,
              "ticks": ""
             }
            },
            "marker": {
             "colorbar": {
              "outlinewidth": 0,
              "ticks": ""
             }
            },
            "type": "scatter3d"
           }
          ],
          "scattercarpet": [
           {
            "marker": {
             "colorbar": {
              "outlinewidth": 0,
              "ticks": ""
             }
            },
            "type": "scattercarpet"
           }
          ],
          "scattergeo": [
           {
            "marker": {
             "colorbar": {
              "outlinewidth": 0,
              "ticks": ""
             }
            },
            "type": "scattergeo"
           }
          ],
          "scattergl": [
           {
            "marker": {
             "colorbar": {
              "outlinewidth": 0,
              "ticks": ""
             }
            },
            "type": "scattergl"
           }
          ],
          "scattermapbox": [
           {
            "marker": {
             "colorbar": {
              "outlinewidth": 0,
              "ticks": ""
             }
            },
            "type": "scattermapbox"
           }
          ],
          "scatterpolar": [
           {
            "marker": {
             "colorbar": {
              "outlinewidth": 0,
              "ticks": ""
             }
            },
            "type": "scatterpolar"
           }
          ],
          "scatterpolargl": [
           {
            "marker": {
             "colorbar": {
              "outlinewidth": 0,
              "ticks": ""
             }
            },
            "type": "scatterpolargl"
           }
          ],
          "scatterternary": [
           {
            "marker": {
             "colorbar": {
              "outlinewidth": 0,
              "ticks": ""
             }
            },
            "type": "scatterternary"
           }
          ],
          "surface": [
           {
            "colorbar": {
             "outlinewidth": 0,
             "ticks": ""
            },
            "colorscale": [
             [
              0,
              "#0d0887"
             ],
             [
              0.1111111111111111,
              "#46039f"
             ],
             [
              0.2222222222222222,
              "#7201a8"
             ],
             [
              0.3333333333333333,
              "#9c179e"
             ],
             [
              0.4444444444444444,
              "#bd3786"
             ],
             [
              0.5555555555555556,
              "#d8576b"
             ],
             [
              0.6666666666666666,
              "#ed7953"
             ],
             [
              0.7777777777777778,
              "#fb9f3a"
             ],
             [
              0.8888888888888888,
              "#fdca26"
             ],
             [
              1,
              "#f0f921"
             ]
            ],
            "type": "surface"
           }
          ],
          "table": [
           {
            "cells": {
             "fill": {
              "color": "#EBF0F8"
             },
             "line": {
              "color": "white"
             }
            },
            "header": {
             "fill": {
              "color": "#C8D4E3"
             },
             "line": {
              "color": "white"
             }
            },
            "type": "table"
           }
          ]
         },
         "layout": {
          "annotationdefaults": {
           "arrowcolor": "#2a3f5f",
           "arrowhead": 0,
           "arrowwidth": 1
          },
          "autotypenumbers": "strict",
          "coloraxis": {
           "colorbar": {
            "outlinewidth": 0,
            "ticks": ""
           }
          },
          "colorscale": {
           "diverging": [
            [
             0,
             "#8e0152"
            ],
            [
             0.1,
             "#c51b7d"
            ],
            [
             0.2,
             "#de77ae"
            ],
            [
             0.3,
             "#f1b6da"
            ],
            [
             0.4,
             "#fde0ef"
            ],
            [
             0.5,
             "#f7f7f7"
            ],
            [
             0.6,
             "#e6f5d0"
            ],
            [
             0.7,
             "#b8e186"
            ],
            [
             0.8,
             "#7fbc41"
            ],
            [
             0.9,
             "#4d9221"
            ],
            [
             1,
             "#276419"
            ]
           ],
           "sequential": [
            [
             0,
             "#0d0887"
            ],
            [
             0.1111111111111111,
             "#46039f"
            ],
            [
             0.2222222222222222,
             "#7201a8"
            ],
            [
             0.3333333333333333,
             "#9c179e"
            ],
            [
             0.4444444444444444,
             "#bd3786"
            ],
            [
             0.5555555555555556,
             "#d8576b"
            ],
            [
             0.6666666666666666,
             "#ed7953"
            ],
            [
             0.7777777777777778,
             "#fb9f3a"
            ],
            [
             0.8888888888888888,
             "#fdca26"
            ],
            [
             1,
             "#f0f921"
            ]
           ],
           "sequentialminus": [
            [
             0,
             "#0d0887"
            ],
            [
             0.1111111111111111,
             "#46039f"
            ],
            [
             0.2222222222222222,
             "#7201a8"
            ],
            [
             0.3333333333333333,
             "#9c179e"
            ],
            [
             0.4444444444444444,
             "#bd3786"
            ],
            [
             0.5555555555555556,
             "#d8576b"
            ],
            [
             0.6666666666666666,
             "#ed7953"
            ],
            [
             0.7777777777777778,
             "#fb9f3a"
            ],
            [
             0.8888888888888888,
             "#fdca26"
            ],
            [
             1,
             "#f0f921"
            ]
           ]
          },
          "colorway": [
           "#636efa",
           "#EF553B",
           "#00cc96",
           "#ab63fa",
           "#FFA15A",
           "#19d3f3",
           "#FF6692",
           "#B6E880",
           "#FF97FF",
           "#FECB52"
          ],
          "font": {
           "color": "#2a3f5f"
          },
          "geo": {
           "bgcolor": "white",
           "lakecolor": "white",
           "landcolor": "#E5ECF6",
           "showlakes": true,
           "showland": true,
           "subunitcolor": "white"
          },
          "hoverlabel": {
           "align": "left"
          },
          "hovermode": "closest",
          "mapbox": {
           "style": "light"
          },
          "paper_bgcolor": "white",
          "plot_bgcolor": "#E5ECF6",
          "polar": {
           "angularaxis": {
            "gridcolor": "white",
            "linecolor": "white",
            "ticks": ""
           },
           "bgcolor": "#E5ECF6",
           "radialaxis": {
            "gridcolor": "white",
            "linecolor": "white",
            "ticks": ""
           }
          },
          "scene": {
           "xaxis": {
            "backgroundcolor": "#E5ECF6",
            "gridcolor": "white",
            "gridwidth": 2,
            "linecolor": "white",
            "showbackground": true,
            "ticks": "",
            "zerolinecolor": "white"
           },
           "yaxis": {
            "backgroundcolor": "#E5ECF6",
            "gridcolor": "white",
            "gridwidth": 2,
            "linecolor": "white",
            "showbackground": true,
            "ticks": "",
            "zerolinecolor": "white"
           },
           "zaxis": {
            "backgroundcolor": "#E5ECF6",
            "gridcolor": "white",
            "gridwidth": 2,
            "linecolor": "white",
            "showbackground": true,
            "ticks": "",
            "zerolinecolor": "white"
           }
          },
          "shapedefaults": {
           "line": {
            "color": "#2a3f5f"
           }
          },
          "ternary": {
           "aaxis": {
            "gridcolor": "white",
            "linecolor": "white",
            "ticks": ""
           },
           "baxis": {
            "gridcolor": "white",
            "linecolor": "white",
            "ticks": ""
           },
           "bgcolor": "#E5ECF6",
           "caxis": {
            "gridcolor": "white",
            "linecolor": "white",
            "ticks": ""
           }
          },
          "title": {
           "x": 0.05
          },
          "xaxis": {
           "automargin": true,
           "gridcolor": "white",
           "linecolor": "white",
           "ticks": "",
           "title": {
            "standoff": 15
           },
           "zerolinecolor": "white",
           "zerolinewidth": 2
          },
          "yaxis": {
           "automargin": true,
           "gridcolor": "white",
           "linecolor": "white",
           "ticks": "",
           "title": {
            "standoff": 15
           },
           "zerolinecolor": "white",
           "zerolinewidth": 2
          }
         }
        },
        "title": {
         "text": "Top 5 Lowest Valued NFT Collections"
        },
        "xaxis": {
         "autorange": true,
         "range": [
          0.13832109545544757,
          5.46477475689621
         ],
         "type": "linear"
        },
        "yaxis": {
         "autorange": true,
         "range": [
          -1.193548387096774,
          10.419354838709676
         ],
         "type": "linear"
        }
       }
      },
      "image/png": "[encoded data removed]",
      "text/html": [
       "<div>                            <div id=\"67763330-49f6-40d1-aa88-3ca924feaa2f\" class=\"plotly-graph-div\" style=\"height:525px; width:100%;\"></div>            <script type=\"text/javascript\">                require([\"plotly\"], function(Plotly) {                    window.PLOTLYENV=window.PLOTLYENV || {};                                    if (document.getElementById(\"67763330-49f6-40d1-aa88-3ca924feaa2f\")) {                    Plotly.newPlot(                        \"67763330-49f6-40d1-aa88-3ca924feaa2f\",                        [{\"marker\":{\"color\":[\"red\",\"pink\",\"yellow\",\"purple\",\"brown\"],\"size\":[120,100,80,60,40]},\"mode\":\"markers\",\"text\":[\"HedgehogsInSocks\",\"MONSTER MOBS\",\"ManekiGang\",\"CryptoJanky\",\"TheProjectURS\"],\"type\":\"scatter\",\"x\":[1,2,3,4,5],\"y\":[5,4,3,2,1]}],                        {\"template\":{\"data\":{\"bar\":[{\"error_x\":{\"color\":\"#2a3f5f\"},\"error_y\":{\"color\":\"#2a3f5f\"},\"marker\":{\"line\":{\"color\":\"#E5ECF6\",\"width\":0.5},\"pattern\":{\"fillmode\":\"overlay\",\"size\":10,\"solidity\":0.2}},\"type\":\"bar\"}],\"barpolar\":[{\"marker\":{\"line\":{\"color\":\"#E5ECF6\",\"width\":0.5},\"pattern\":{\"fillmode\":\"overlay\",\"size\":10,\"solidity\":0.2}},\"type\":\"barpolar\"}],\"carpet\":[{\"aaxis\":{\"endlinecolor\":\"#2a3f5f\",\"gridcolor\":\"white\",\"linecolor\":\"white\",\"minorgridcolor\":\"white\",\"startlinecolor\":\"#2a3f5f\"},\"baxis\":{\"endlinecolor\":\"#2a3f5f\",\"gridcolor\":\"white\",\"linecolor\":\"white\",\"minorgridcolor\":\"white\",\"startlinecolor\":\"#2a3f5f\"},\"type\":\"carpet\"}],\"choropleth\":[{\"colorbar\":{\"outlinewidth\":0,\"ticks\":\"\"},\"type\":\"choropleth\"}],\"contour\":[{\"colorbar\":{\"outlinewidth\":0,\"ticks\":\"\"},\"colorscale\":[[0.0,\"#0d0887\"],[0.1111111111111111,\"#46039f\"],[0.2222222222222222,\"#7201a8\"],[0.3333333333333333,\"#9c179e\"],[0.4444444444444444,\"#bd3786\"],[0.5555555555555556,\"#d8576b\"],[0.6666666666666666,\"#ed7953\"],[0.7777777777777778,\"#fb9f3a\"],[0.8888888888888888,\"#fdca26\"],[1.0,\"#f0f921\"]],\"type\":\"contour\"}],\"contourcarpet\":[{\"colorbar\":{\"outlinewidth\":0,\"ticks\":\"\"},\"type\":\"contourcarpet\"}],\"heatmap\":[{\"colorbar\":{\"outlinewidth\":0,\"ticks\":\"\"},\"colorscale\":[[0.0,\"#0d0887\"],[0.1111111111111111,\"#46039f\"],[0.2222222222222222,\"#7201a8\"],[0.3333333333333333,\"#9c179e\"],[0.4444444444444444,\"#bd3786\"],[0.5555555555555556,\"#d8576b\"],[0.6666666666666666,\"#ed7953\"],[0.7777777777777778,\"#fb9f3a\"],[0.8888888888888888,\"#fdca26\"],[1.0,\"#f0f921\"]],\"type\":\"heatmap\"}],\"heatmapgl\":[{\"colorbar\":{\"outlinewidth\":0,\"ticks\":\"\"},\"colorscale\":[[0.0,\"#0d0887\"],[0.1111111111111111,\"#46039f\"],[0.2222222222222222,\"#7201a8\"],[0.3333333333333333,\"#9c179e\"],[0.4444444444444444,\"#bd3786\"],[0.5555555555555556,\"#d8576b\"],[0.6666666666666666,\"#ed7953\"],[0.7777777777777778,\"#fb9f3a\"],[0.8888888888888888,\"#fdca26\"],[1.0,\"#f0f921\"]],\"type\":\"heatmapgl\"}],\"histogram\":[{\"marker\":{\"pattern\":{\"fillmode\":\"overlay\",\"size\":10,\"solidity\":0.2}},\"type\":\"histogram\"}],\"histogram2d\":[{\"colorbar\":{\"outlinewidth\":0,\"ticks\":\"\"},\"colorscale\":[[0.0,\"#0d0887\"],[0.1111111111111111,\"#46039f\"],[0.2222222222222222,\"#7201a8\"],[0.3333333333333333,\"#9c179e\"],[0.4444444444444444,\"#bd3786\"],[0.5555555555555556,\"#d8576b\"],[0.6666666666666666,\"#ed7953\"],[0.7777777777777778,\"#fb9f3a\"],[0.8888888888888888,\"#fdca26\"],[1.0,\"#f0f921\"]],\"type\":\"histogram2d\"}],\"histogram2dcontour\":[{\"colorbar\":{\"outlinewidth\":0,\"ticks\":\"\"},\"colorscale\":[[0.0,\"#0d0887\"],[0.1111111111111111,\"#46039f\"],[0.2222222222222222,\"#7201a8\"],[0.3333333333333333,\"#9c179e\"],[0.4444444444444444,\"#bd3786\"],[0.5555555555555556,\"#d8576b\"],[0.6666666666666666,\"#ed7953\"],[0.7777777777777778,\"#fb9f3a\"],[0.8888888888888888,\"#fdca26\"],[1.0,\"#f0f921\"]],\"type\":\"histogram2dcontour\"}],\"mesh3d\":[{\"colorbar\":{\"outlinewidth\":0,\"ticks\":\"\"},\"type\":\"mesh3d\"}],\"parcoords\":[{\"line\":{\"colorbar\":{\"outlinewidth\":0,\"ticks\":\"\"}},\"type\":\"parcoords\"}],\"pie\":[{\"automargin\":true,\"type\":\"pie\"}],\"scatter\":[{\"marker\":{\"colorbar\":{\"outlinewidth\":0,\"ticks\":\"\"}},\"type\":\"scatter\"}],\"scatter3d\":[{\"line\":{\"colorbar\":{\"outlinewidth\":0,\"ticks\":\"\"}},\"marker\":{\"colorbar\":{\"outlinewidth\":0,\"ticks\":\"\"}},\"type\":\"scatter3d\"}],\"scattercarpet\":[{\"marker\":{\"colorbar\":{\"outlinewidth\":0,\"ticks\":\"\"}},\"type\":\"scattercarpet\"}],\"scattergeo\":[{\"marker\":{\"colorbar\":{\"outlinewidth\":0,\"ticks\":\"\"}},\"type\":\"scattergeo\"}],\"scattergl\":[{\"marker\":{\"colorbar\":{\"outlinewidth\":0,\"ticks\":\"\"}},\"type\":\"scattergl\"}],\"scattermapbox\":[{\"marker\":{\"colorbar\":{\"outlinewidth\":0,\"ticks\":\"\"}},\"type\":\"scattermapbox\"}],\"scatterpolar\":[{\"marker\":{\"colorbar\":{\"outlinewidth\":0,\"ticks\":\"\"}},\"type\":\"scatterpolar\"}],\"scatterpolargl\":[{\"marker\":{\"colorbar\":{\"outlinewidth\":0,\"ticks\":\"\"}},\"type\":\"scatterpolargl\"}],\"scatterternary\":[{\"marker\":{\"colorbar\":{\"outlinewidth\":0,\"ticks\":\"\"}},\"type\":\"scatterternary\"}],\"surface\":[{\"colorbar\":{\"outlinewidth\":0,\"ticks\":\"\"},\"colorscale\":[[0.0,\"#0d0887\"],[0.1111111111111111,\"#46039f\"],[0.2222222222222222,\"#7201a8\"],[0.3333333333333333,\"#9c179e\"],[0.4444444444444444,\"#bd3786\"],[0.5555555555555556,\"#d8576b\"],[0.6666666666666666,\"#ed7953\"],[0.7777777777777778,\"#fb9f3a\"],[0.8888888888888888,\"#fdca26\"],[1.0,\"#f0f921\"]],\"type\":\"surface\"}],\"table\":[{\"cells\":{\"fill\":{\"color\":\"#EBF0F8\"},\"line\":{\"color\":\"white\"}},\"header\":{\"fill\":{\"color\":\"#C8D4E3\"},\"line\":{\"color\":\"white\"}},\"type\":\"table\"}]},\"layout\":{\"annotationdefaults\":{\"arrowcolor\":\"#2a3f5f\",\"arrowhead\":0,\"arrowwidth\":1},\"autotypenumbers\":\"strict\",\"coloraxis\":{\"colorbar\":{\"outlinewidth\":0,\"ticks\":\"\"}},\"colorscale\":{\"diverging\":[[0,\"#8e0152\"],[0.1,\"#c51b7d\"],[0.2,\"#de77ae\"],[0.3,\"#f1b6da\"],[0.4,\"#fde0ef\"],[0.5,\"#f7f7f7\"],[0.6,\"#e6f5d0\"],[0.7,\"#b8e186\"],[0.8,\"#7fbc41\"],[0.9,\"#4d9221\"],[1,\"#276419\"]],\"sequential\":[[0.0,\"#0d0887\"],[0.1111111111111111,\"#46039f\"],[0.2222222222222222,\"#7201a8\"],[0.3333333333333333,\"#9c179e\"],[0.4444444444444444,\"#bd3786\"],[0.5555555555555556,\"#d8576b\"],[0.6666666666666666,\"#ed7953\"],[0.7777777777777778,\"#fb9f3a\"],[0.8888888888888888,\"#fdca26\"],[1.0,\"#f0f921\"]],\"sequentialminus\":[[0.0,\"#0d0887\"],[0.1111111111111111,\"#46039f\"],[0.2222222222222222,\"#7201a8\"],[0.3333333333333333,\"#9c179e\"],[0.4444444444444444,\"#bd3786\"],[0.5555555555555556,\"#d8576b\"],[0.6666666666666666,\"#ed7953\"],[0.7777777777777778,\"#fb9f3a\"],[0.8888888888888888,\"#fdca26\"],[1.0,\"#f0f921\"]]},\"colorway\":[\"#636efa\",\"#EF553B\",\"#00cc96\",\"#ab63fa\",\"#FFA15A\",\"#19d3f3\",\"#FF6692\",\"#B6E880\",\"#FF97FF\",\"#FECB52\"],\"font\":{\"color\":\"#2a3f5f\"},\"geo\":{\"bgcolor\":\"white\",\"lakecolor\":\"white\",\"landcolor\":\"#E5ECF6\",\"showlakes\":true,\"showland\":true,\"subunitcolor\":\"white\"},\"hoverlabel\":{\"align\":\"left\"},\"hovermode\":\"closest\",\"mapbox\":{\"style\":\"light\"},\"paper_bgcolor\":\"white\",\"plot_bgcolor\":\"#E5ECF6\",\"polar\":{\"angularaxis\":{\"gridcolor\":\"white\",\"linecolor\":\"white\",\"ticks\":\"\"},\"bgcolor\":\"#E5ECF6\",\"radialaxis\":{\"gridcolor\":\"white\",\"linecolor\":\"white\",\"ticks\":\"\"}},\"scene\":{\"xaxis\":{\"backgroundcolor\":\"#E5ECF6\",\"gridcolor\":\"white\",\"gridwidth\":2,\"linecolor\":\"white\",\"showbackground\":true,\"ticks\":\"\",\"zerolinecolor\":\"white\"},\"yaxis\":{\"backgroundcolor\":\"#E5ECF6\",\"gridcolor\":\"white\",\"gridwidth\":2,\"linecolor\":\"white\",\"showbackground\":true,\"ticks\":\"\",\"zerolinecolor\":\"white\"},\"zaxis\":{\"backgroundcolor\":\"#E5ECF6\",\"gridcolor\":\"white\",\"gridwidth\":2,\"linecolor\":\"white\",\"showbackground\":true,\"ticks\":\"\",\"zerolinecolor\":\"white\"}},\"shapedefaults\":{\"line\":{\"color\":\"#2a3f5f\"}},\"ternary\":{\"aaxis\":{\"gridcolor\":\"white\",\"linecolor\":\"white\",\"ticks\":\"\"},\"baxis\":{\"gridcolor\":\"white\",\"linecolor\":\"white\",\"ticks\":\"\"},\"bgcolor\":\"#E5ECF6\",\"caxis\":{\"gridcolor\":\"white\",\"linecolor\":\"white\",\"ticks\":\"\"}},\"title\":{\"x\":0.05},\"xaxis\":{\"automargin\":true,\"gridcolor\":\"white\",\"linecolor\":\"white\",\"ticks\":\"\",\"title\":{\"standoff\":15},\"zerolinecolor\":\"white\",\"zerolinewidth\":2},\"yaxis\":{\"automargin\":true,\"gridcolor\":\"white\",\"linecolor\":\"white\",\"ticks\":\"\",\"title\":{\"standoff\":15},\"zerolinecolor\":\"white\",\"zerolinewidth\":2}}},\"title\":{\"text\":\"Top 5 Lowest Valued NFT Collections\"}},                        {\"responsive\": true}                    ).then(function(){\n",
       "                            \n",
       "var gd = document.getElementById('67763330-49f6-40d1-aa88-3ca924feaa2f');\n",
       "var x = new MutationObserver(function (mutations, observer) {{\n",
       "        var display = window.getComputedStyle(gd).display;\n",
       "        if (!display || display === 'none') {{\n",
       "            console.log([gd, 'removed!']);\n",
       "            Plotly.purge(gd);\n",
       "            observer.disconnect();\n",
       "        }}\n",
       "}});\n",
       "\n",
       "// Listen for the removal of the full notebook cells\n",
       "var notebookContainer = gd.closest('#notebook-container');\n",
       "if (notebookContainer) {{\n",
       "    x.observe(notebookContainer, {childList: true});\n",
       "}}\n",
       "\n",
       "// Listen for the clearing of the current output cell\n",
       "var outputEl = gd.closest('.output');\n",
       "if (outputEl) {{\n",
       "    x.observe(outputEl, {childList: true});\n",
       "}}\n",
       "\n",
       "                        })                };                });            </script>        </div>"
      ]
     },
     "metadata": {},
     "output_type": "display_data"
    }
   ],
   "source": [
    "#collapse-hide\n",
    "import plotly.graph_objects as go\n",
    "\n",
    "fig = go.Figure(data=[go.Scatter(\n",
    "    x=[1, 2, 3, 4, 5], y=[5, 4, 3, 2, 1],\n",
    "    text=['HedgehogsInSocks', 'MONSTER MOBS', 'ManekiGang', 'CryptoJanky', 'TheProjectURS'],\n",
    "    mode='markers',\n",
    "    marker=dict(\n",
    "        color=['red', 'pink',  'yellow', 'purple','brown'],\n",
    "        size=[120, 100, 80, 60, 40],\n",
    "    )\n",
    ")])\n",
    "fig.update_layout(\n",
    "    title='Top 5 Lowest Valued NFT Collections',\n",
    ")\n",
    "    \n",
    "fig.show()"
   ]
  },
  {
   "cell_type": "markdown",
   "id": "02bcb5ad-b909-4796-a0a4-ff4c8d53d7a6",
   "metadata": {},
   "source": [
    "I then looked for the amount of owners within these 5 bottom valued collections, so that I can get a sample from each collection to run the transfer analysis"
   ]
  },
  {
   "cell_type": "code",
   "execution_count": 140,
   "id": "2a83cb5f-a506-4860-8da8-836d38ae69fc",
   "metadata": {},
   "outputs": [
    {
     "data": {
      "text/html": [
       "<div>\n",
       "<style scoped>\n",
       "    .dataframe tbody tr th:only-of-type {\n",
       "        vertical-align: middle;\n",
       "    }\n",
       "\n",
       "    .dataframe tbody tr th {\n",
       "        vertical-align: top;\n",
       "    }\n",
       "\n",
       "    .dataframe thead th {\n",
       "        text-align: right;\n",
       "    }\n",
       "</style>\n",
       "<table border=\"1\" class=\"dataframe\">\n",
       "  <thead>\n",
       "    <tr style=\"text-align: right;\">\n",
       "      <th></th>\n",
       "      <th>nft_address</th>\n",
       "      <th>token_id</th>\n",
       "      <th>owner</th>\n",
       "    </tr>\n",
       "  </thead>\n",
       "  <tbody>\n",
       "    <tr>\n",
       "      <th>166471</th>\n",
       "      <td>0x05cd72B0b8Becf4D7105bDc6fcaea758FD73C7E7</td>\n",
       "      <td>0</td>\n",
       "      <td>0x7156359D0401947d63E18BAC51d157cfeeE9eEFa</td>\n",
       "    </tr>\n",
       "    <tr>\n",
       "      <th>166472</th>\n",
       "      <td>0x05cd72B0b8Becf4D7105bDc6fcaea758FD73C7E7</td>\n",
       "      <td>1</td>\n",
       "      <td>0x76240cCFDCCd5A8982886Cf5dFf94D52110FECdC</td>\n",
       "    </tr>\n",
       "    <tr>\n",
       "      <th>166473</th>\n",
       "      <td>0x05cd72B0b8Becf4D7105bDc6fcaea758FD73C7E7</td>\n",
       "      <td>10</td>\n",
       "      <td>0x1e412DF8F9b07364806BaD3A31B15EF17c2A6B36</td>\n",
       "    </tr>\n",
       "    <tr>\n",
       "      <th>166474</th>\n",
       "      <td>0x05cd72B0b8Becf4D7105bDc6fcaea758FD73C7E7</td>\n",
       "      <td>100</td>\n",
       "      <td>0xaE099730Dfc04C086Acd0Ad9881f86ac62AD0b7a</td>\n",
       "    </tr>\n",
       "    <tr>\n",
       "      <th>166475</th>\n",
       "      <td>0x05cd72B0b8Becf4D7105bDc6fcaea758FD73C7E7</td>\n",
       "      <td>101</td>\n",
       "      <td>0xFae0240C9Acd01BF6B8D1Eb467bF7df58eb8c800</td>\n",
       "    </tr>\n",
       "    <tr>\n",
       "      <th>...</th>\n",
       "      <td>...</td>\n",
       "      <td>...</td>\n",
       "      <td>...</td>\n",
       "    </tr>\n",
       "    <tr>\n",
       "      <th>167263</th>\n",
       "      <td>0x05cd72B0b8Becf4D7105bDc6fcaea758FD73C7E7</td>\n",
       "      <td>95</td>\n",
       "      <td>0xD9D45EC98b594e02FD2d202bBf2bbE417d72A4e2</td>\n",
       "    </tr>\n",
       "    <tr>\n",
       "      <th>167264</th>\n",
       "      <td>0x05cd72B0b8Becf4D7105bDc6fcaea758FD73C7E7</td>\n",
       "      <td>96</td>\n",
       "      <td>0x99ED7190511ac2B714fFbb9e4E1817f6851EF9f5</td>\n",
       "    </tr>\n",
       "    <tr>\n",
       "      <th>167265</th>\n",
       "      <td>0x05cd72B0b8Becf4D7105bDc6fcaea758FD73C7E7</td>\n",
       "      <td>97</td>\n",
       "      <td>0x99ED7190511ac2B714fFbb9e4E1817f6851EF9f5</td>\n",
       "    </tr>\n",
       "    <tr>\n",
       "      <th>167266</th>\n",
       "      <td>0x05cd72B0b8Becf4D7105bDc6fcaea758FD73C7E7</td>\n",
       "      <td>98</td>\n",
       "      <td>0x99ED7190511ac2B714fFbb9e4E1817f6851EF9f5</td>\n",
       "    </tr>\n",
       "    <tr>\n",
       "      <th>167267</th>\n",
       "      <td>0x05cd72B0b8Becf4D7105bDc6fcaea758FD73C7E7</td>\n",
       "      <td>99</td>\n",
       "      <td>0xE8DE914248c915060e629fEC5DdF3D01ce723588</td>\n",
       "    </tr>\n",
       "  </tbody>\n",
       "</table>\n",
       "<p>797 rows × 3 columns</p>\n",
       "</div>"
      ],
      "text/plain": [
       "                                       nft_address token_id  \\\n",
       "166471  0x05cd72B0b8Becf4D7105bDc6fcaea758FD73C7E7        0   \n",
       "166472  0x05cd72B0b8Becf4D7105bDc6fcaea758FD73C7E7        1   \n",
       "166473  0x05cd72B0b8Becf4D7105bDc6fcaea758FD73C7E7       10   \n",
       "166474  0x05cd72B0b8Becf4D7105bDc6fcaea758FD73C7E7      100   \n",
       "166475  0x05cd72B0b8Becf4D7105bDc6fcaea758FD73C7E7      101   \n",
       "...                                            ...      ...   \n",
       "167263  0x05cd72B0b8Becf4D7105bDc6fcaea758FD73C7E7       95   \n",
       "167264  0x05cd72B0b8Becf4D7105bDc6fcaea758FD73C7E7       96   \n",
       "167265  0x05cd72B0b8Becf4D7105bDc6fcaea758FD73C7E7       97   \n",
       "167266  0x05cd72B0b8Becf4D7105bDc6fcaea758FD73C7E7       98   \n",
       "167267  0x05cd72B0b8Becf4D7105bDc6fcaea758FD73C7E7       99   \n",
       "\n",
       "                                             owner  \n",
       "166471  0x7156359D0401947d63E18BAC51d157cfeeE9eEFa  \n",
       "166472  0x76240cCFDCCd5A8982886Cf5dFf94D52110FECdC  \n",
       "166473  0x1e412DF8F9b07364806BaD3A31B15EF17c2A6B36  \n",
       "166474  0xaE099730Dfc04C086Acd0Ad9881f86ac62AD0b7a  \n",
       "166475  0xFae0240C9Acd01BF6B8D1Eb467bF7df58eb8c800  \n",
       "...                                            ...  \n",
       "167263  0xD9D45EC98b594e02FD2d202bBf2bbE417d72A4e2  \n",
       "167264  0x99ED7190511ac2B714fFbb9e4E1817f6851EF9f5  \n",
       "167265  0x99ED7190511ac2B714fFbb9e4E1817f6851EF9f5  \n",
       "167266  0x99ED7190511ac2B714fFbb9e4E1817f6851EF9f5  \n",
       "167267  0xE8DE914248c915060e629fEC5DdF3D01ce723588  \n",
       "\n",
       "[797 rows x 3 columns]"
      ]
     },
     "execution_count": 140,
     "metadata": {},
     "output_type": "execute_result"
    }
   ],
   "source": [
    "#collapse-output\n",
    "df2.loc[df2['nft_address'] == '0x05cd72B0b8Becf4D7105bDc6fcaea758FD73C7E7']"
   ]
  },
  {
   "cell_type": "code",
   "execution_count": 141,
   "id": "b7787f87-e2ee-479a-b63e-f69279e4b440",
   "metadata": {},
   "outputs": [
    {
     "data": {
      "text/html": [
       "<div>\n",
       "<style scoped>\n",
       "    .dataframe tbody tr th:only-of-type {\n",
       "        vertical-align: middle;\n",
       "    }\n",
       "\n",
       "    .dataframe tbody tr th {\n",
       "        vertical-align: top;\n",
       "    }\n",
       "\n",
       "    .dataframe thead th {\n",
       "        text-align: right;\n",
       "    }\n",
       "</style>\n",
       "<table border=\"1\" class=\"dataframe\">\n",
       "  <thead>\n",
       "    <tr style=\"text-align: right;\">\n",
       "      <th></th>\n",
       "      <th>nft_address</th>\n",
       "      <th>token_id</th>\n",
       "      <th>owner</th>\n",
       "    </tr>\n",
       "  </thead>\n",
       "  <tbody>\n",
       "    <tr>\n",
       "      <th>499202</th>\n",
       "      <td>0x125Ecab9FdC132cAd4D6C055b9381AaD60efAF3D</td>\n",
       "      <td>0</td>\n",
       "      <td>0x071C81BcB8D6D7B3D26f4e186385f0aCe78C0bDd</td>\n",
       "    </tr>\n",
       "    <tr>\n",
       "      <th>499203</th>\n",
       "      <td>0x125Ecab9FdC132cAd4D6C055b9381AaD60efAF3D</td>\n",
       "      <td>1</td>\n",
       "      <td>0x5C7a9f47B765471173046C1FF98a4eBBD717f51d</td>\n",
       "    </tr>\n",
       "    <tr>\n",
       "      <th>499204</th>\n",
       "      <td>0x125Ecab9FdC132cAd4D6C055b9381AaD60efAF3D</td>\n",
       "      <td>10</td>\n",
       "      <td>0x0D7ed3ff76dd70805b1624E1AA6470c52F3E7DcE</td>\n",
       "    </tr>\n",
       "    <tr>\n",
       "      <th>499205</th>\n",
       "      <td>0x125Ecab9FdC132cAd4D6C055b9381AaD60efAF3D</td>\n",
       "      <td>100</td>\n",
       "      <td>0x499aC5FFE6a1A33480cfb6Ca76A578a133faA09f</td>\n",
       "    </tr>\n",
       "    <tr>\n",
       "      <th>499206</th>\n",
       "      <td>0x125Ecab9FdC132cAd4D6C055b9381AaD60efAF3D</td>\n",
       "      <td>1000</td>\n",
       "      <td>0xAC3c837D67B4F638C0ABBF711327CFd33149Cf3D</td>\n",
       "    </tr>\n",
       "    <tr>\n",
       "      <th>...</th>\n",
       "      <td>...</td>\n",
       "      <td>...</td>\n",
       "      <td>...</td>\n",
       "    </tr>\n",
       "    <tr>\n",
       "      <th>499995</th>\n",
       "      <td>0x125Ecab9FdC132cAd4D6C055b9381AaD60efAF3D</td>\n",
       "      <td>1711</td>\n",
       "      <td>0x720D330816aFd75A72e012F8D669A19918483375</td>\n",
       "    </tr>\n",
       "    <tr>\n",
       "      <th>499996</th>\n",
       "      <td>0x125Ecab9FdC132cAd4D6C055b9381AaD60efAF3D</td>\n",
       "      <td>1712</td>\n",
       "      <td>0x720D330816aFd75A72e012F8D669A19918483375</td>\n",
       "    </tr>\n",
       "    <tr>\n",
       "      <th>499997</th>\n",
       "      <td>0x125Ecab9FdC132cAd4D6C055b9381AaD60efAF3D</td>\n",
       "      <td>1713</td>\n",
       "      <td>0x720D330816aFd75A72e012F8D669A19918483375</td>\n",
       "    </tr>\n",
       "    <tr>\n",
       "      <th>499998</th>\n",
       "      <td>0x125Ecab9FdC132cAd4D6C055b9381AaD60efAF3D</td>\n",
       "      <td>1714</td>\n",
       "      <td>0x720D330816aFd75A72e012F8D669A19918483375</td>\n",
       "    </tr>\n",
       "    <tr>\n",
       "      <th>499999</th>\n",
       "      <td>0x125Ecab9FdC132cAd4D6C055b9381AaD60efAF3D</td>\n",
       "      <td>1715</td>\n",
       "      <td>0xea951D454723ffcbFbaD6375772EdC6557D8006c</td>\n",
       "    </tr>\n",
       "  </tbody>\n",
       "</table>\n",
       "<p>798 rows × 3 columns</p>\n",
       "</div>"
      ],
      "text/plain": [
       "                                       nft_address token_id  \\\n",
       "499202  0x125Ecab9FdC132cAd4D6C055b9381AaD60efAF3D        0   \n",
       "499203  0x125Ecab9FdC132cAd4D6C055b9381AaD60efAF3D        1   \n",
       "499204  0x125Ecab9FdC132cAd4D6C055b9381AaD60efAF3D       10   \n",
       "499205  0x125Ecab9FdC132cAd4D6C055b9381AaD60efAF3D      100   \n",
       "499206  0x125Ecab9FdC132cAd4D6C055b9381AaD60efAF3D     1000   \n",
       "...                                            ...      ...   \n",
       "499995  0x125Ecab9FdC132cAd4D6C055b9381AaD60efAF3D     1711   \n",
       "499996  0x125Ecab9FdC132cAd4D6C055b9381AaD60efAF3D     1712   \n",
       "499997  0x125Ecab9FdC132cAd4D6C055b9381AaD60efAF3D     1713   \n",
       "499998  0x125Ecab9FdC132cAd4D6C055b9381AaD60efAF3D     1714   \n",
       "499999  0x125Ecab9FdC132cAd4D6C055b9381AaD60efAF3D     1715   \n",
       "\n",
       "                                             owner  \n",
       "499202  0x071C81BcB8D6D7B3D26f4e186385f0aCe78C0bDd  \n",
       "499203  0x5C7a9f47B765471173046C1FF98a4eBBD717f51d  \n",
       "499204  0x0D7ed3ff76dd70805b1624E1AA6470c52F3E7DcE  \n",
       "499205  0x499aC5FFE6a1A33480cfb6Ca76A578a133faA09f  \n",
       "499206  0xAC3c837D67B4F638C0ABBF711327CFd33149Cf3D  \n",
       "...                                            ...  \n",
       "499995  0x720D330816aFd75A72e012F8D669A19918483375  \n",
       "499996  0x720D330816aFd75A72e012F8D669A19918483375  \n",
       "499997  0x720D330816aFd75A72e012F8D669A19918483375  \n",
       "499998  0x720D330816aFd75A72e012F8D669A19918483375  \n",
       "499999  0xea951D454723ffcbFbaD6375772EdC6557D8006c  \n",
       "\n",
       "[798 rows x 3 columns]"
      ]
     },
     "execution_count": 141,
     "metadata": {},
     "output_type": "execute_result"
    }
   ],
   "source": [
    "#collapse-output\n",
    "df2.loc[df2['nft_address'] == '0x125Ecab9FdC132cAd4D6C055b9381AaD60efAF3D']"
   ]
  },
  {
   "cell_type": "code",
   "execution_count": 142,
   "id": "1e7d78fa-8872-48cc-98f6-3d8fc8f39327",
   "metadata": {},
   "outputs": [
    {
     "data": {
      "text/html": [
       "<div>\n",
       "<style scoped>\n",
       "    .dataframe tbody tr th:only-of-type {\n",
       "        vertical-align: middle;\n",
       "    }\n",
       "\n",
       "    .dataframe tbody tr th {\n",
       "        vertical-align: top;\n",
       "    }\n",
       "\n",
       "    .dataframe thead th {\n",
       "        text-align: right;\n",
       "    }\n",
       "</style>\n",
       "<table border=\"1\" class=\"dataframe\">\n",
       "  <thead>\n",
       "    <tr style=\"text-align: right;\">\n",
       "      <th></th>\n",
       "      <th>nft_address</th>\n",
       "      <th>token_id</th>\n",
       "      <th>owner</th>\n",
       "    </tr>\n",
       "  </thead>\n",
       "  <tbody>\n",
       "    <tr>\n",
       "      <th>295573</th>\n",
       "      <td>0x08Da8a11C9b3A35D715B5da5B3E4661929490F53</td>\n",
       "      <td>0</td>\n",
       "      <td>0xB98b3547C8197148D93E7Ed1977803c1405cee5E</td>\n",
       "    </tr>\n",
       "    <tr>\n",
       "      <th>295574</th>\n",
       "      <td>0x08Da8a11C9b3A35D715B5da5B3E4661929490F53</td>\n",
       "      <td>1</td>\n",
       "      <td>0xE5a7Efe11e3f237fDD9b0ebe1a7d7F1380f5f710</td>\n",
       "    </tr>\n",
       "    <tr>\n",
       "      <th>295575</th>\n",
       "      <td>0x08Da8a11C9b3A35D715B5da5B3E4661929490F53</td>\n",
       "      <td>100</td>\n",
       "      <td>0xe3609Ec9e5103CA69Ad27C2d81bF846675E1c612</td>\n",
       "    </tr>\n",
       "    <tr>\n",
       "      <th>295576</th>\n",
       "      <td>0x08Da8a11C9b3A35D715B5da5B3E4661929490F53</td>\n",
       "      <td>1000</td>\n",
       "      <td>0xE57d3CC3aA62588C42285ED1daFBb579b2992Cc6</td>\n",
       "    </tr>\n",
       "    <tr>\n",
       "      <th>295577</th>\n",
       "      <td>0x08Da8a11C9b3A35D715B5da5B3E4661929490F53</td>\n",
       "      <td>10002</td>\n",
       "      <td>0x6BbcC2A1758Ebc099F0cb03583D9f2b16433C428</td>\n",
       "    </tr>\n",
       "    <tr>\n",
       "      <th>...</th>\n",
       "      <td>...</td>\n",
       "      <td>...</td>\n",
       "      <td>...</td>\n",
       "    </tr>\n",
       "    <tr>\n",
       "      <th>306926</th>\n",
       "      <td>0x08Da8a11C9b3A35D715B5da5B3E4661929490F53</td>\n",
       "      <td>9994</td>\n",
       "      <td>0xE5a7Efe11e3f237fDD9b0ebe1a7d7F1380f5f710</td>\n",
       "    </tr>\n",
       "    <tr>\n",
       "      <th>306927</th>\n",
       "      <td>0x08Da8a11C9b3A35D715B5da5B3E4661929490F53</td>\n",
       "      <td>9995</td>\n",
       "      <td>0xC4594cE2fFE7543117AEd14a8aA27A3b89bfE356</td>\n",
       "    </tr>\n",
       "    <tr>\n",
       "      <th>306928</th>\n",
       "      <td>0x08Da8a11C9b3A35D715B5da5B3E4661929490F53</td>\n",
       "      <td>9996</td>\n",
       "      <td>0x5f1088110EdcBa27Fc206cdcc326B413b5867361</td>\n",
       "    </tr>\n",
       "    <tr>\n",
       "      <th>306929</th>\n",
       "      <td>0x08Da8a11C9b3A35D715B5da5B3E4661929490F53</td>\n",
       "      <td>9997</td>\n",
       "      <td>0x853F1ecD269bcB6B579C5e520996db417b66b36c</td>\n",
       "    </tr>\n",
       "    <tr>\n",
       "      <th>306930</th>\n",
       "      <td>0x08Da8a11C9b3A35D715B5da5B3E4661929490F53</td>\n",
       "      <td>9998</td>\n",
       "      <td>0xc32049000c1D4D7eaF61cCba13D676e514514Dc7</td>\n",
       "    </tr>\n",
       "  </tbody>\n",
       "</table>\n",
       "<p>11358 rows × 3 columns</p>\n",
       "</div>"
      ],
      "text/plain": [
       "                                       nft_address token_id  \\\n",
       "295573  0x08Da8a11C9b3A35D715B5da5B3E4661929490F53        0   \n",
       "295574  0x08Da8a11C9b3A35D715B5da5B3E4661929490F53        1   \n",
       "295575  0x08Da8a11C9b3A35D715B5da5B3E4661929490F53      100   \n",
       "295576  0x08Da8a11C9b3A35D715B5da5B3E4661929490F53     1000   \n",
       "295577  0x08Da8a11C9b3A35D715B5da5B3E4661929490F53    10002   \n",
       "...                                            ...      ...   \n",
       "306926  0x08Da8a11C9b3A35D715B5da5B3E4661929490F53     9994   \n",
       "306927  0x08Da8a11C9b3A35D715B5da5B3E4661929490F53     9995   \n",
       "306928  0x08Da8a11C9b3A35D715B5da5B3E4661929490F53     9996   \n",
       "306929  0x08Da8a11C9b3A35D715B5da5B3E4661929490F53     9997   \n",
       "306930  0x08Da8a11C9b3A35D715B5da5B3E4661929490F53     9998   \n",
       "\n",
       "                                             owner  \n",
       "295573  0xB98b3547C8197148D93E7Ed1977803c1405cee5E  \n",
       "295574  0xE5a7Efe11e3f237fDD9b0ebe1a7d7F1380f5f710  \n",
       "295575  0xe3609Ec9e5103CA69Ad27C2d81bF846675E1c612  \n",
       "295576  0xE57d3CC3aA62588C42285ED1daFBb579b2992Cc6  \n",
       "295577  0x6BbcC2A1758Ebc099F0cb03583D9f2b16433C428  \n",
       "...                                            ...  \n",
       "306926  0xE5a7Efe11e3f237fDD9b0ebe1a7d7F1380f5f710  \n",
       "306927  0xC4594cE2fFE7543117AEd14a8aA27A3b89bfE356  \n",
       "306928  0x5f1088110EdcBa27Fc206cdcc326B413b5867361  \n",
       "306929  0x853F1ecD269bcB6B579C5e520996db417b66b36c  \n",
       "306930  0xc32049000c1D4D7eaF61cCba13D676e514514Dc7  \n",
       "\n",
       "[11358 rows x 3 columns]"
      ]
     },
     "execution_count": 142,
     "metadata": {},
     "output_type": "execute_result"
    }
   ],
   "source": [
    "#collapse-output\n",
    "df2.loc[df2['nft_address'] == '0x08Da8a11C9b3A35D715B5da5B3E4661929490F53']"
   ]
  },
  {
   "cell_type": "code",
   "execution_count": 143,
   "id": "2808beeb-d571-40fa-a9ab-a79665fa9e39",
   "metadata": {},
   "outputs": [
    {
     "data": {
      "text/html": [
       "<div>\n",
       "<style scoped>\n",
       "    .dataframe tbody tr th:only-of-type {\n",
       "        vertical-align: middle;\n",
       "    }\n",
       "\n",
       "    .dataframe tbody tr th {\n",
       "        vertical-align: top;\n",
       "    }\n",
       "\n",
       "    .dataframe thead th {\n",
       "        text-align: right;\n",
       "    }\n",
       "</style>\n",
       "<table border=\"1\" class=\"dataframe\">\n",
       "  <thead>\n",
       "    <tr style=\"text-align: right;\">\n",
       "      <th></th>\n",
       "      <th>nft_address</th>\n",
       "      <th>token_id</th>\n",
       "      <th>owner</th>\n",
       "    </tr>\n",
       "  </thead>\n",
       "  <tbody>\n",
       "    <tr>\n",
       "      <th>233190</th>\n",
       "      <td>0x066f2D5ead7951F0d0038C19AffD500B9F02c0e5</td>\n",
       "      <td>1</td>\n",
       "      <td>0x290FbE4d4745f6B5267c209C92C8D81CebB5E9f0</td>\n",
       "    </tr>\n",
       "    <tr>\n",
       "      <th>233191</th>\n",
       "      <td>0x066f2D5ead7951F0d0038C19AffD500B9F02c0e5</td>\n",
       "      <td>10</td>\n",
       "      <td>0xC2F87f88dF0F2c602a9a7Dc2e89cecdb9790d972</td>\n",
       "    </tr>\n",
       "    <tr>\n",
       "      <th>233192</th>\n",
       "      <td>0x066f2D5ead7951F0d0038C19AffD500B9F02c0e5</td>\n",
       "      <td>100</td>\n",
       "      <td>0x378C7162B3C883FEAF8E43c1aF69Fb92e00944dB</td>\n",
       "    </tr>\n",
       "    <tr>\n",
       "      <th>233193</th>\n",
       "      <td>0x066f2D5ead7951F0d0038C19AffD500B9F02c0e5</td>\n",
       "      <td>1000</td>\n",
       "      <td>0xAfbe89F1447a22684A4e3f1F4F941806c6D02e85</td>\n",
       "    </tr>\n",
       "    <tr>\n",
       "      <th>233194</th>\n",
       "      <td>0x066f2D5ead7951F0d0038C19AffD500B9F02c0e5</td>\n",
       "      <td>10000</td>\n",
       "      <td>0x4716A6058E7916Be509F6d93a8986867E6ac8FDe</td>\n",
       "    </tr>\n",
       "    <tr>\n",
       "      <th>...</th>\n",
       "      <td>...</td>\n",
       "      <td>...</td>\n",
       "      <td>...</td>\n",
       "    </tr>\n",
       "    <tr>\n",
       "      <th>245408</th>\n",
       "      <td>0x066f2D5ead7951F0d0038C19AffD500B9F02c0e5</td>\n",
       "      <td>9995</td>\n",
       "      <td>0x838A93A78C12d4e1111653f78d2BfCaFF49Bd5C6</td>\n",
       "    </tr>\n",
       "    <tr>\n",
       "      <th>245409</th>\n",
       "      <td>0x066f2D5ead7951F0d0038C19AffD500B9F02c0e5</td>\n",
       "      <td>9996</td>\n",
       "      <td>0x0BD8BeFeD58e6b41A2857d144bF3a574F86C97dC</td>\n",
       "    </tr>\n",
       "    <tr>\n",
       "      <th>245410</th>\n",
       "      <td>0x066f2D5ead7951F0d0038C19AffD500B9F02c0e5</td>\n",
       "      <td>9997</td>\n",
       "      <td>0xD9BdB3B8bb3C47bdC0017C958c8708F1373e9eEF</td>\n",
       "    </tr>\n",
       "    <tr>\n",
       "      <th>245411</th>\n",
       "      <td>0x066f2D5ead7951F0d0038C19AffD500B9F02c0e5</td>\n",
       "      <td>9998</td>\n",
       "      <td>0x50806F1E52f4C482CC96d03145Abf731074FA33F</td>\n",
       "    </tr>\n",
       "    <tr>\n",
       "      <th>245412</th>\n",
       "      <td>0x066f2D5ead7951F0d0038C19AffD500B9F02c0e5</td>\n",
       "      <td>9999</td>\n",
       "      <td>0x18867A60B441bF9571B337e1792d92F1F3cB1690</td>\n",
       "    </tr>\n",
       "  </tbody>\n",
       "</table>\n",
       "<p>12223 rows × 3 columns</p>\n",
       "</div>"
      ],
      "text/plain": [
       "                                       nft_address token_id  \\\n",
       "233190  0x066f2D5ead7951F0d0038C19AffD500B9F02c0e5        1   \n",
       "233191  0x066f2D5ead7951F0d0038C19AffD500B9F02c0e5       10   \n",
       "233192  0x066f2D5ead7951F0d0038C19AffD500B9F02c0e5      100   \n",
       "233193  0x066f2D5ead7951F0d0038C19AffD500B9F02c0e5     1000   \n",
       "233194  0x066f2D5ead7951F0d0038C19AffD500B9F02c0e5    10000   \n",
       "...                                            ...      ...   \n",
       "245408  0x066f2D5ead7951F0d0038C19AffD500B9F02c0e5     9995   \n",
       "245409  0x066f2D5ead7951F0d0038C19AffD500B9F02c0e5     9996   \n",
       "245410  0x066f2D5ead7951F0d0038C19AffD500B9F02c0e5     9997   \n",
       "245411  0x066f2D5ead7951F0d0038C19AffD500B9F02c0e5     9998   \n",
       "245412  0x066f2D5ead7951F0d0038C19AffD500B9F02c0e5     9999   \n",
       "\n",
       "                                             owner  \n",
       "233190  0x290FbE4d4745f6B5267c209C92C8D81CebB5E9f0  \n",
       "233191  0xC2F87f88dF0F2c602a9a7Dc2e89cecdb9790d972  \n",
       "233192  0x378C7162B3C883FEAF8E43c1aF69Fb92e00944dB  \n",
       "233193  0xAfbe89F1447a22684A4e3f1F4F941806c6D02e85  \n",
       "233194  0x4716A6058E7916Be509F6d93a8986867E6ac8FDe  \n",
       "...                                            ...  \n",
       "245408  0x838A93A78C12d4e1111653f78d2BfCaFF49Bd5C6  \n",
       "245409  0x0BD8BeFeD58e6b41A2857d144bF3a574F86C97dC  \n",
       "245410  0xD9BdB3B8bb3C47bdC0017C958c8708F1373e9eEF  \n",
       "245411  0x50806F1E52f4C482CC96d03145Abf731074FA33F  \n",
       "245412  0x18867A60B441bF9571B337e1792d92F1F3cB1690  \n",
       "\n",
       "[12223 rows x 3 columns]"
      ]
     },
     "execution_count": 143,
     "metadata": {},
     "output_type": "execute_result"
    }
   ],
   "source": [
    "#collapse-output\n",
    "df2.loc[df2['nft_address'] == '0x066f2D5ead7951F0d0038C19AffD500B9F02c0e5']"
   ]
  },
  {
   "cell_type": "code",
   "execution_count": 144,
   "id": "c3bdc5ff-f89e-491f-9196-7ebb457567e0",
   "metadata": {},
   "outputs": [
    {
     "data": {
      "text/html": [
       "<div>\n",
       "<style scoped>\n",
       "    .dataframe tbody tr th:only-of-type {\n",
       "        vertical-align: middle;\n",
       "    }\n",
       "\n",
       "    .dataframe tbody tr th {\n",
       "        vertical-align: top;\n",
       "    }\n",
       "\n",
       "    .dataframe thead th {\n",
       "        text-align: right;\n",
       "    }\n",
       "</style>\n",
       "<table border=\"1\" class=\"dataframe\">\n",
       "  <thead>\n",
       "    <tr style=\"text-align: right;\">\n",
       "      <th></th>\n",
       "      <th>nft_address</th>\n",
       "      <th>token_id</th>\n",
       "      <th>owner</th>\n",
       "    </tr>\n",
       "  </thead>\n",
       "  <tbody>\n",
       "    <tr>\n",
       "      <th>318320</th>\n",
       "      <td>0x08f0B2A4351514E63E9E03A661aDFe58D463CfBc</td>\n",
       "      <td>0</td>\n",
       "      <td>0xf3b714646376E8243ebE670FEd50c678E4d0be39</td>\n",
       "    </tr>\n",
       "    <tr>\n",
       "      <th>318321</th>\n",
       "      <td>0x08f0B2A4351514E63E9E03A661aDFe58D463CfBc</td>\n",
       "      <td>1</td>\n",
       "      <td>0x4332d57F7C7EdCf651734E31887FD35b632e5e4A</td>\n",
       "    </tr>\n",
       "    <tr>\n",
       "      <th>318322</th>\n",
       "      <td>0x08f0B2A4351514E63E9E03A661aDFe58D463CfBc</td>\n",
       "      <td>10</td>\n",
       "      <td>0x978Ab91FC0AE0330345F0e928C67F60E339a9216</td>\n",
       "    </tr>\n",
       "    <tr>\n",
       "      <th>318323</th>\n",
       "      <td>0x08f0B2A4351514E63E9E03A661aDFe58D463CfBc</td>\n",
       "      <td>100</td>\n",
       "      <td>0xA83c8F4fCF84d37Af5AB76Dd01cC34d4320dfc13</td>\n",
       "    </tr>\n",
       "    <tr>\n",
       "      <th>318324</th>\n",
       "      <td>0x08f0B2A4351514E63E9E03A661aDFe58D463CfBc</td>\n",
       "      <td>1000</td>\n",
       "      <td>0x8619Aa4B7fEF939b7b3BF6F39757f2c018928d8C</td>\n",
       "    </tr>\n",
       "    <tr>\n",
       "      <th>...</th>\n",
       "      <td>...</td>\n",
       "      <td>...</td>\n",
       "      <td>...</td>\n",
       "    </tr>\n",
       "    <tr>\n",
       "      <th>328298</th>\n",
       "      <td>0x08f0B2A4351514E63E9E03A661aDFe58D463CfBc</td>\n",
       "      <td>998</td>\n",
       "      <td>0xCe1334e7dA77348d92366C0C5f32125c099F570c</td>\n",
       "    </tr>\n",
       "    <tr>\n",
       "      <th>328299</th>\n",
       "      <td>0x08f0B2A4351514E63E9E03A661aDFe58D463CfBc</td>\n",
       "      <td>9980</td>\n",
       "      <td>0x1a9B0A1AC1d07033509A2F00e0498f4178A6C457</td>\n",
       "    </tr>\n",
       "    <tr>\n",
       "      <th>328300</th>\n",
       "      <td>0x08f0B2A4351514E63E9E03A661aDFe58D463CfBc</td>\n",
       "      <td>9981</td>\n",
       "      <td>0x26C30e9398CBf05Ce89E818f330A44D0CFDA7485</td>\n",
       "    </tr>\n",
       "    <tr>\n",
       "      <th>328301</th>\n",
       "      <td>0x08f0B2A4351514E63E9E03A661aDFe58D463CfBc</td>\n",
       "      <td>9982</td>\n",
       "      <td>0x64ae474dA28Db2Ef925b87E94a81C8F2783f6066</td>\n",
       "    </tr>\n",
       "    <tr>\n",
       "      <th>328302</th>\n",
       "      <td>0x08f0B2A4351514E63E9E03A661aDFe58D463CfBc</td>\n",
       "      <td>999</td>\n",
       "      <td>0xd3B39EBc306Ef743b197731Fe9252CE6a1F97a94</td>\n",
       "    </tr>\n",
       "  </tbody>\n",
       "</table>\n",
       "<p>9983 rows × 3 columns</p>\n",
       "</div>"
      ],
      "text/plain": [
       "                                       nft_address token_id  \\\n",
       "318320  0x08f0B2A4351514E63E9E03A661aDFe58D463CfBc        0   \n",
       "318321  0x08f0B2A4351514E63E9E03A661aDFe58D463CfBc        1   \n",
       "318322  0x08f0B2A4351514E63E9E03A661aDFe58D463CfBc       10   \n",
       "318323  0x08f0B2A4351514E63E9E03A661aDFe58D463CfBc      100   \n",
       "318324  0x08f0B2A4351514E63E9E03A661aDFe58D463CfBc     1000   \n",
       "...                                            ...      ...   \n",
       "328298  0x08f0B2A4351514E63E9E03A661aDFe58D463CfBc      998   \n",
       "328299  0x08f0B2A4351514E63E9E03A661aDFe58D463CfBc     9980   \n",
       "328300  0x08f0B2A4351514E63E9E03A661aDFe58D463CfBc     9981   \n",
       "328301  0x08f0B2A4351514E63E9E03A661aDFe58D463CfBc     9982   \n",
       "328302  0x08f0B2A4351514E63E9E03A661aDFe58D463CfBc      999   \n",
       "\n",
       "                                             owner  \n",
       "318320  0xf3b714646376E8243ebE670FEd50c678E4d0be39  \n",
       "318321  0x4332d57F7C7EdCf651734E31887FD35b632e5e4A  \n",
       "318322  0x978Ab91FC0AE0330345F0e928C67F60E339a9216  \n",
       "318323  0xA83c8F4fCF84d37Af5AB76Dd01cC34d4320dfc13  \n",
       "318324  0x8619Aa4B7fEF939b7b3BF6F39757f2c018928d8C  \n",
       "...                                            ...  \n",
       "328298  0xCe1334e7dA77348d92366C0C5f32125c099F570c  \n",
       "328299  0x1a9B0A1AC1d07033509A2F00e0498f4178A6C457  \n",
       "328300  0x26C30e9398CBf05Ce89E818f330A44D0CFDA7485  \n",
       "328301  0x64ae474dA28Db2Ef925b87E94a81C8F2783f6066  \n",
       "328302  0xd3B39EBc306Ef743b197731Fe9252CE6a1F97a94  \n",
       "\n",
       "[9983 rows x 3 columns]"
      ]
     },
     "execution_count": 144,
     "metadata": {},
     "output_type": "execute_result"
    }
   ],
   "source": [
    "#collapse-output\n",
    "df2.loc[df2['nft_address'] == '0x08f0B2A4351514E63E9E03A661aDFe58D463CfBc']"
   ]
  },
  {
   "cell_type": "code",
   "execution_count": 145,
   "id": "a33b0d7e-1c7b-41c1-9e30-4574c2fb913b",
   "metadata": {},
   "outputs": [
    {
     "name": "stdout",
     "output_type": "stream",
     "text": [
      "    NFT Collections  Number of Owners\n",
      "0  HedgehogsInSocks               797\n",
      "1      MONSTER MOBS               798\n",
      "2        ManekiGang             11358\n",
      "3       CryptoJanky             12223\n",
      "4     TheProjectURS              9983\n"
     ]
    }
   ],
   "source": [
    "#hide\n",
    "owner_data2 = {'NFT Collections':['HedgehogsInSocks', 'MONSTER MOBS', 'ManekiGang', 'CryptoJanky', 'TheProjectURS'], 'Number of Owners':[797, 798, 11358, 12223, 9983]}\n",
    "ownersdf2 = pd.DataFrame(owner_data2)\n",
    "print(ownersdf2)"
   ]
  },
  {
   "cell_type": "code",
   "execution_count": 163,
   "id": "8a405160-2a84-4705-95f0-c34cfd5b6a11",
   "metadata": {},
   "outputs": [
    {
     "data": {
      "text/plain": [
       "Text(0, 0.5, 'Collection Owners')"
      ]
     },
     "execution_count": 163,
     "metadata": {},
     "output_type": "execute_result"
    },
    {
     "data": {
      "image/png": "[encoded data removed]",
      "text/plain": [
       "<Figure size 1080x720 with 1 Axes>"
      ]
     },
     "metadata": {
      "needs_background": "light"
     },
     "output_type": "display_data"
    }
   ],
   "source": [
    "#collapse-hide\n",
    "ownersdf2.plot(kind='bar', x='NFT Collections', y='Number of Owners', color=['red', 'pink',  'yellow', 'purple','brown'],figsize=(15, 10),legend=False)\n",
    "plt.title('NFT Collection Owners')\n",
    "plt.xlabel('NFT Collections')\n",
    "plt.ylabel('Collection Owners')"
   ]
  },
  {
   "cell_type": "markdown",
   "id": "ad184f76-cebb-4728-89b3-0b52b0e8f487",
   "metadata": {},
   "source": [
    "I created this bar plot of the total amount of current owners within the bottom 5 collections just so the analysis process of both the high and low value collections would be symmetrical. I then ran the analysis of each owners transfers within the individual low value collections."
   ]
  },
  {
   "cell_type": "code",
   "execution_count": 150,
   "id": "9065faed-78c3-4c8a-b01f-cda67e75d241",
   "metadata": {},
   "outputs": [
    {
     "data": {
      "text/html": [
       "<div>\n",
       "<style scoped>\n",
       "    .dataframe tbody tr th:only-of-type {\n",
       "        vertical-align: middle;\n",
       "    }\n",
       "\n",
       "    .dataframe tbody tr th {\n",
       "        vertical-align: top;\n",
       "    }\n",
       "\n",
       "    .dataframe thead th {\n",
       "        text-align: right;\n",
       "    }\n",
       "</style>\n",
       "<table border=\"1\" class=\"dataframe\">\n",
       "  <thead>\n",
       "    <tr style=\"text-align: right;\">\n",
       "      <th></th>\n",
       "      <th>address</th>\n",
       "      <th>transfers_out</th>\n",
       "      <th>transfers_in</th>\n",
       "    </tr>\n",
       "  </thead>\n",
       "  <tbody>\n",
       "    <tr>\n",
       "      <th>376260</th>\n",
       "      <td>0xD9D45EC98b594e02FD2d202bBf2bbE417d72A4e2</td>\n",
       "      <td>30</td>\n",
       "      <td>44</td>\n",
       "    </tr>\n",
       "  </tbody>\n",
       "</table>\n",
       "</div>"
      ],
      "text/plain": [
       "                                           address  transfers_out  \\\n",
       "376260  0xD9D45EC98b594e02FD2d202bBf2bbE417d72A4e2             30   \n",
       "\n",
       "        transfers_in  \n",
       "376260            44  "
      ]
     },
     "execution_count": 150,
     "metadata": {},
     "output_type": "execute_result"
    }
   ],
   "source": [
    "#collapse-output\n",
    "# Address of HedgehogsInSocks NFT Holder\n",
    "df3.loc[df3['address'] == '0xD9D45EC98b594e02FD2d202bBf2bbE417d72A4e2']"
   ]
  },
  {
   "cell_type": "code",
   "execution_count": 151,
   "id": "6d1469f5-7653-4e45-8c3f-01213a22adf5",
   "metadata": {},
   "outputs": [
    {
     "data": {
      "text/html": [
       "<div>\n",
       "<style scoped>\n",
       "    .dataframe tbody tr th:only-of-type {\n",
       "        vertical-align: middle;\n",
       "    }\n",
       "\n",
       "    .dataframe tbody tr th {\n",
       "        vertical-align: top;\n",
       "    }\n",
       "\n",
       "    .dataframe thead th {\n",
       "        text-align: right;\n",
       "    }\n",
       "</style>\n",
       "<table border=\"1\" class=\"dataframe\">\n",
       "  <thead>\n",
       "    <tr style=\"text-align: right;\">\n",
       "      <th></th>\n",
       "      <th>address</th>\n",
       "      <th>transfers_out</th>\n",
       "      <th>transfers_in</th>\n",
       "    </tr>\n",
       "  </thead>\n",
       "  <tbody>\n",
       "    <tr>\n",
       "      <th>329829</th>\n",
       "      <td>0xAC3c837D67B4F638C0ABBF711327CFd33149Cf3D</td>\n",
       "      <td>25</td>\n",
       "      <td>127</td>\n",
       "    </tr>\n",
       "  </tbody>\n",
       "</table>\n",
       "</div>"
      ],
      "text/plain": [
       "                                           address  transfers_out  \\\n",
       "329829  0xAC3c837D67B4F638C0ABBF711327CFd33149Cf3D             25   \n",
       "\n",
       "        transfers_in  \n",
       "329829           127  "
      ]
     },
     "execution_count": 151,
     "metadata": {},
     "output_type": "execute_result"
    }
   ],
   "source": [
    "#collapse-output\n",
    "# Address of MONSTER MOBS NFT Holder\n",
    "df3.loc[df3['address'] == '0xAC3c837D67B4F638C0ABBF711327CFd33149Cf3D']"
   ]
  },
  {
   "cell_type": "code",
   "execution_count": 152,
   "id": "8faf8221-2eda-461e-aa78-2fc285c47aa0",
   "metadata": {},
   "outputs": [
    {
     "data": {
      "text/html": [
       "<div>\n",
       "<style scoped>\n",
       "    .dataframe tbody tr th:only-of-type {\n",
       "        vertical-align: middle;\n",
       "    }\n",
       "\n",
       "    .dataframe tbody tr th {\n",
       "        vertical-align: top;\n",
       "    }\n",
       "\n",
       "    .dataframe thead th {\n",
       "        text-align: right;\n",
       "    }\n",
       "</style>\n",
       "<table border=\"1\" class=\"dataframe\">\n",
       "  <thead>\n",
       "    <tr style=\"text-align: right;\">\n",
       "      <th></th>\n",
       "      <th>address</th>\n",
       "      <th>transfers_out</th>\n",
       "      <th>transfers_in</th>\n",
       "    </tr>\n",
       "  </thead>\n",
       "  <tbody>\n",
       "    <tr>\n",
       "      <th>326923</th>\n",
       "      <td>0xA83c8F4fCF84d37Af5AB76Dd01cC34d4320dfc13</td>\n",
       "      <td>2</td>\n",
       "      <td>4</td>\n",
       "    </tr>\n",
       "  </tbody>\n",
       "</table>\n",
       "</div>"
      ],
      "text/plain": [
       "                                           address  transfers_out  \\\n",
       "326923  0xA83c8F4fCF84d37Af5AB76Dd01cC34d4320dfc13              2   \n",
       "\n",
       "        transfers_in  \n",
       "326923             4  "
      ]
     },
     "execution_count": 152,
     "metadata": {},
     "output_type": "execute_result"
    }
   ],
   "source": [
    "#collapse-output\n",
    "# Address of ManekiGang NFT Holder\n",
    "df3.loc[df3['address'] == '0xA83c8F4fCF84d37Af5AB76Dd01cC34d4320dfc13']"
   ]
  },
  {
   "cell_type": "code",
   "execution_count": 153,
   "id": "13afa024-f829-4c49-9c10-c78927c478c6",
   "metadata": {},
   "outputs": [
    {
     "data": {
      "text/html": [
       "<div>\n",
       "<style scoped>\n",
       "    .dataframe tbody tr th:only-of-type {\n",
       "        vertical-align: middle;\n",
       "    }\n",
       "\n",
       "    .dataframe tbody tr th {\n",
       "        vertical-align: top;\n",
       "    }\n",
       "\n",
       "    .dataframe thead th {\n",
       "        text-align: right;\n",
       "    }\n",
       "</style>\n",
       "<table border=\"1\" class=\"dataframe\">\n",
       "  <thead>\n",
       "    <tr style=\"text-align: right;\">\n",
       "      <th></th>\n",
       "      <th>address</th>\n",
       "      <th>transfers_out</th>\n",
       "      <th>transfers_in</th>\n",
       "    </tr>\n",
       "  </thead>\n",
       "  <tbody>\n",
       "    <tr>\n",
       "      <th>110926</th>\n",
       "      <td>0x378C7162B3C883FEAF8E43c1aF69Fb92e00944dB</td>\n",
       "      <td>54</td>\n",
       "      <td>29</td>\n",
       "    </tr>\n",
       "  </tbody>\n",
       "</table>\n",
       "</div>"
      ],
      "text/plain": [
       "                                           address  transfers_out  \\\n",
       "110926  0x378C7162B3C883FEAF8E43c1aF69Fb92e00944dB             54   \n",
       "\n",
       "        transfers_in  \n",
       "110926            29  "
      ]
     },
     "execution_count": 153,
     "metadata": {},
     "output_type": "execute_result"
    }
   ],
   "source": [
    "#collapse-output\n",
    "# Address of CryptoJanky NFT Holder\n",
    "df3.loc[df3['address'] == '0x378C7162B3C883FEAF8E43c1aF69Fb92e00944dB']"
   ]
  },
  {
   "cell_type": "code",
   "execution_count": 154,
   "id": "b687f2c8-4ffe-4207-9399-89e62242b66d",
   "metadata": {},
   "outputs": [
    {
     "data": {
      "text/html": [
       "<div>\n",
       "<style scoped>\n",
       "    .dataframe tbody tr th:only-of-type {\n",
       "        vertical-align: middle;\n",
       "    }\n",
       "\n",
       "    .dataframe tbody tr th {\n",
       "        vertical-align: top;\n",
       "    }\n",
       "\n",
       "    .dataframe thead th {\n",
       "        text-align: right;\n",
       "    }\n",
       "</style>\n",
       "<table border=\"1\" class=\"dataframe\">\n",
       "  <thead>\n",
       "    <tr style=\"text-align: right;\">\n",
       "      <th></th>\n",
       "      <th>address</th>\n",
       "      <th>transfers_out</th>\n",
       "      <th>transfers_in</th>\n",
       "    </tr>\n",
       "  </thead>\n",
       "  <tbody>\n",
       "    <tr>\n",
       "      <th>326923</th>\n",
       "      <td>0xA83c8F4fCF84d37Af5AB76Dd01cC34d4320dfc13</td>\n",
       "      <td>2</td>\n",
       "      <td>4</td>\n",
       "    </tr>\n",
       "  </tbody>\n",
       "</table>\n",
       "</div>"
      ],
      "text/plain": [
       "                                           address  transfers_out  \\\n",
       "326923  0xA83c8F4fCF84d37Af5AB76Dd01cC34d4320dfc13              2   \n",
       "\n",
       "        transfers_in  \n",
       "326923             4  "
      ]
     },
     "execution_count": 154,
     "metadata": {},
     "output_type": "execute_result"
    }
   ],
   "source": [
    "#collapse-output\n",
    "# Address of TheProjectURS NFT Holder\n",
    "df3.loc[df3['address'] == '0xA83c8F4fCF84d37Af5AB76Dd01cC34d4320dfc13']"
   ]
  },
  {
   "cell_type": "markdown",
   "id": "1d8bdb91-b3a8-4dba-80b3-889cf7d70603",
   "metadata": {},
   "source": [
    "## Comparison Plot"
   ]
  },
  {
   "cell_type": "code",
   "execution_count": 155,
   "id": "08d8d7a1-4350-4b62-8091-8507ae34e779",
   "metadata": {},
   "outputs": [
    {
     "data": {
      "text/plain": [
       "5.6"
      ]
     },
     "execution_count": 155,
     "metadata": {},
     "output_type": "execute_result"
    }
   ],
   "source": [
    "#hide\n",
    "# Calculate average transfer outs of high value NFT holders\n",
    "28 / 5 "
   ]
  },
  {
   "cell_type": "code",
   "execution_count": 156,
   "id": "5df2517b-ed34-410f-8406-5fa8884461b8",
   "metadata": {},
   "outputs": [
    {
     "data": {
      "text/plain": [
       "764.8"
      ]
     },
     "execution_count": 156,
     "metadata": {},
     "output_type": "execute_result"
    }
   ],
   "source": [
    "#hide\n",
    "# Calculate average transfer ins of high value NFT holders \n",
    "3824 / 5"
   ]
  },
  {
   "cell_type": "code",
   "execution_count": 157,
   "id": "0f879286-d294-4a1d-8954-20182aba0d3e",
   "metadata": {},
   "outputs": [
    {
     "data": {
      "text/plain": [
       "22.6"
      ]
     },
     "execution_count": 157,
     "metadata": {},
     "output_type": "execute_result"
    }
   ],
   "source": [
    "#hide\n",
    "# Calculate average transfer outs of low value NFT holders \n",
    "113 / 5"
   ]
  },
  {
   "cell_type": "code",
   "execution_count": 158,
   "id": "fd7b78ed-af3c-4c29-86e2-4a04ec5e6815",
   "metadata": {},
   "outputs": [
    {
     "data": {
      "text/plain": [
       "41.6"
      ]
     },
     "execution_count": 158,
     "metadata": {},
     "output_type": "execute_result"
    }
   ],
   "source": [
    "#hide\n",
    "# Calculate Transfer ins of low value NFT holders \n",
    "208 / 5"
   ]
  },
  {
   "cell_type": "code",
   "execution_count": 159,
   "id": "eb3ce366-2fc8-47f7-b560-20b6456d65d3",
   "metadata": {
    "tags": []
   },
   "outputs": [],
   "source": [
    "#hide\n",
    "transfersdf = pd.DataFrame({\n",
    "    'High and Low Value NFT Owners': ['HVO', 'LVO'],\n",
    "    'Avg Tranfer Ins': [764.8, 41],\n",
    "    'Avg Tranfer Outs': [5.6, 22.6]\n",
    "})"
   ]
  },
  {
   "cell_type": "code",
   "execution_count": 160,
   "id": "049056cc-0cba-4abc-840e-c6dcd8cb0382",
   "metadata": {},
   "outputs": [
    {
     "data": {
      "text/html": [
       "<div>\n",
       "<style scoped>\n",
       "    .dataframe tbody tr th:only-of-type {\n",
       "        vertical-align: middle;\n",
       "    }\n",
       "\n",
       "    .dataframe tbody tr th {\n",
       "        vertical-align: top;\n",
       "    }\n",
       "\n",
       "    .dataframe thead th {\n",
       "        text-align: right;\n",
       "    }\n",
       "</style>\n",
       "<table border=\"1\" class=\"dataframe\">\n",
       "  <thead>\n",
       "    <tr style=\"text-align: right;\">\n",
       "      <th></th>\n",
       "      <th>High and Low Value NFT Owners</th>\n",
       "      <th>Avg Tranfer Ins</th>\n",
       "      <th>Avg Tranfer Outs</th>\n",
       "    </tr>\n",
       "  </thead>\n",
       "  <tbody>\n",
       "    <tr>\n",
       "      <th>0</th>\n",
       "      <td>HVO</td>\n",
       "      <td>764.8</td>\n",
       "      <td>5.6</td>\n",
       "    </tr>\n",
       "    <tr>\n",
       "      <th>1</th>\n",
       "      <td>LVO</td>\n",
       "      <td>41.0</td>\n",
       "      <td>22.6</td>\n",
       "    </tr>\n",
       "  </tbody>\n",
       "</table>\n",
       "</div>"
      ],
      "text/plain": [
       "  High and Low Value NFT Owners  Avg Tranfer Ins  Avg Tranfer Outs\n",
       "0                           HVO            764.8               5.6\n",
       "1                           LVO             41.0              22.6"
      ]
     },
     "execution_count": 160,
     "metadata": {},
     "output_type": "execute_result"
    }
   ],
   "source": [
    "#collapse-output\n",
    "transfersdf"
   ]
  },
  {
   "cell_type": "code",
   "execution_count": 164,
   "id": "09ef8f4c-1ed1-49a2-b318-952cb63f2b20",
   "metadata": {},
   "outputs": [
    {
     "data": {
      "image/png": "[encoded data removed]",
      "text/plain": [
       "<Figure size 1080x720 with 1 Axes>"
      ]
     },
     "metadata": {
      "needs_background": "light"
     },
     "output_type": "display_data"
    }
   ],
   "source": [
    "#collapse-hide\n",
    "import numpy as np\n",
    "transfersdf.plot(kind='bar', x='High and Low Value NFT Owners', y=['Avg Tranfer Ins', 'Avg Tranfer Outs'],figsize=(15, 10), color=['red','green','red','green'])\n",
    "plt.xticks(rotation='horizontal')\n",
    "y1= np.array([764.8,41])\n",
    "y2= np.array([5.6,22.6])\n",
    "plt.plot(y1, linestyle = 'dashed', color = 'red')\n",
    "plt.plot(y2, linestyle = 'dashed', color = 'green')\n",
    "plt.title('High and Low Value Owner Transfer Statistics')\n",
    "plt.ylabel('Transfer Count')\n",
    "plt.show()"
   ]
  },
  {
   "cell_type": "markdown",
   "id": "b8cb5c09-29c8-4528-b589-5b7307a23b45",
   "metadata": {},
   "source": [
    "# Discussion"
   ]
  },
  {
   "cell_type": "markdown",
   "id": "f656350e-c920-46cc-aeb6-23a5b4fbc1ce",
   "metadata": {},
   "source": [
    "After looking at the comparison plot between high value collection owners and low value collection owners It can be seen that on average high value collection owners purchase more NFT's than low value collection owners. Contrary to this, low value collection owners sell more NFT's than high value collection owners. What does this mean? This tells us that based on the small sample of owners analyzed those who obtain NFT's within the high market value collection tend to keep investing more money into purchasing more NFT's rather than selling the NFT's they have to purchase other NFT pieces. Which allows us to make two inferences, either they really like the collection piece they purchased or they are seeing that keeping the individual NFT's is producing more profit for them over time than if they decided to sell the NFT soon after they purchased it. The low value collection owners are selling they're NFT's roughly 120% more times which is not producing them high profits nor causing the collections to rise in value in the long run. Suggesting that if a person is going to invest in the NFT marketplace they should hold their NFT's for as long as they can so that there is a greater chance of the NFT collection becoming a high value collection. This is just a peek into the actions commited by NFT owners but it does give us insight into how one should manage the pieces they buy in the marketplace. By understanding how owners retain or sell their NFT's in both high and low value collections, we can see what is the best thing to do in order to be the owner of high value collections. This analyses also opens up the door for future analysis in which one could look into whether high value collection owners enter the marketplace by purchasing already high market value NFT's or if they start by purchasing low market value NFT's, whether they mint the NFT's themselved or if they buy it already minted and how this affects their return on investment. \n",
    "\n",
    "Analyzing NFT dataset's to draw conclusion is no easy tasks, after completing this analysis I can see how NFT collection values and owner actions can be influenced by so many external factors that cannot be tracked on the blockchain such as the buzz surrounding a collection, uniqueness, personal perception, and promotion. This leads me to think of other possible datasets that can be created which can possibly shed some light on the future market values. Including things such as qualitative owner data or NFT object type like music, sports, art etcetera would allow for analysis that suggest future popularity or future crashes. Nonetheless, with the rapid growth of digital assets like NFT's static datasets will prove to only be helpful for a short amount of time. I think its important for consumers to stay updated on the most recent advancements within digital creations to see how the next NFT can play a role in it or with it."
   ]
  }
 ],
 "metadata": {
  "kernelspec": {
   "display_name": "Python 3 (ipykernel)",
   "language": "python",
   "name": "python3"
  },
  "language_info": {
   "codemirror_mode": {
    "name": "ipython",
    "version": 3
   },
   "file_extension": ".py",
   "mimetype": "text/x-python",
   "name": "python",
   "nbconvert_exporter": "python",
   "pygments_lexer": "ipython3",
   "version": "3.9.6"
  }
 },
 "nbformat": 4,
 "nbformat_minor": 5
}
